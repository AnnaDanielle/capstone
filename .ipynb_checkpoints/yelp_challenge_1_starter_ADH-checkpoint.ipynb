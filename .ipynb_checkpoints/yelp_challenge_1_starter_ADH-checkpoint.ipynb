{
 "cells": [
  {
   "cell_type": "markdown",
   "metadata": {},
   "source": [
    "<img src=\"assets/yelp.jpg\" width=600px>"
   ]
  },
  {
   "cell_type": "markdown",
   "metadata": {},
   "source": [
    "## Let's explore the relationship between Yelp's review count and ratings in Santa Monica and New York City by doing a Decision Tree for both where review count is predictive of ratings.  <br>\n",
    "\n",
    "### Is there reason to believe that restaurants in either region would want less or more ratings?"
   ]
  },
  {
   "cell_type": "code",
   "execution_count": 1,
   "metadata": {
    "collapsed": false
   },
   "outputs": [],
   "source": [
    "import yelp\n",
    "import json\n",
    "from yelp.client import Client\n",
    "from yelp.oauth1_authenticator import Oauth1Authenticator\n",
    "from unidecode import unidecode\n",
    "import numpy as np\n",
    "from db_creds import creds\n",
    "import pandas as pd"
   ]
  },
  {
   "cell_type": "code",
   "execution_count": 2,
   "metadata": {
    "collapsed": true
   },
   "outputs": [],
   "source": [
    "auth = Oauth1Authenticator(consumer_key=creds['consumer_key'],\n",
    "                           consumer_secret=creds['consumer_secret'],\n",
    "                           token=creds['token'],\n",
    "                           token_secret=creds['token_secret'])\n",
    "\n",
    "client = Client(auth)"
   ]
  },
  {
   "cell_type": "code",
   "execution_count": 3,
   "metadata": {
    "collapsed": true
   },
   "outputs": [],
   "source": [
    "params = {'term': \"Benny's Tacos & Chicken Rotisserie\",\n",
    "          'lang': 'en'}\n",
    "\n",
    "search_en_rest1 = client.search('Santa Monica', **params)"
   ]
  },
  {
   "cell_type": "code",
   "execution_count": 4,
   "metadata": {
    "collapsed": false,
    "scrolled": true
   },
   "outputs": [
    {
     "data": {
      "text/plain": [
       "[\"Benny's Tacos & Chicken Rotisserie\",\n",
       " \"Benny's Tacos & Chicken Rotisserie\",\n",
       " 'Lares Restaurant',\n",
       " 'Campos Famous Burritos',\n",
       " 'Clutch',\n",
       " 'Taco Plus',\n",
       " 'Zankou Chicken',\n",
       " 'Coast Beach Cafe & Bar',\n",
       " \"Del Frisco's Grille\",\n",
       " \"Coppelia's Bakery & Cafe\",\n",
       " \"Mercede's Grille\",\n",
       " 'Venice Beach Wines']"
      ]
     },
     "execution_count": 4,
     "metadata": {},
     "output_type": "execute_result"
    }
   ],
   "source": [
    "[unidecode(s.name) for s in search_en_rest1.businesses]"
   ]
  },
  {
   "cell_type": "code",
   "execution_count": 5,
   "metadata": {
    "collapsed": false
   },
   "outputs": [],
   "source": [
    "params = {'term': 'food',\n",
    "          'lang': 'en'}\n",
    "\n",
    "search_en = client.search('Santa Monica', **params)"
   ]
  },
  {
   "cell_type": "code",
   "execution_count": 6,
   "metadata": {
    "collapsed": false,
    "scrolled": false
   },
   "outputs": [
    {
     "data": {
      "text/plain": [
       "[\"Benny's Tacos & Chicken Rotisserie\",\n",
       " 'Posh-Cafe',\n",
       " 'Shaka Shack Burgers',\n",
       " \"Margo's\",\n",
       " 'Spinfish Poke House',\n",
       " 'Sunny Blue',\n",
       " 'The Brixton',\n",
       " 'The Albright',\n",
       " 'Bruxie',\n",
       " 'True Food Kitchen',\n",
       " 'Bay Cities Italian Deli',\n",
       " 'Cha Cha Chicken',\n",
       " 'Mondo Taco',\n",
       " \"Father's Office\",\n",
       " 'Sweetfin Poke',\n",
       " 'Stout',\n",
       " 'Society Kitchen',\n",
       " 'Urth Caffe',\n",
       " 'Samosa House Santa Monica',\n",
       " 'Flower Child']"
      ]
     },
     "execution_count": 6,
     "metadata": {},
     "output_type": "execute_result"
    }
   ],
   "source": [
    "[unidecode(s.name) for s in search_en.businesses]"
   ]
  },
  {
   "cell_type": "markdown",
   "metadata": {},
   "source": [
    "### gather restaurant ratings via API's *.rating method\n"
   ]
  },
  {
   "cell_type": "markdown",
   "metadata": {
    "collapsed": false
   },
   "source": [
    "### gather restaurant reviews via API's *.review_count method\n",
    "\n"
   ]
  },
  {
   "cell_type": "code",
   "execution_count": 17,
   "metadata": {
    "collapsed": false
   },
   "outputs": [
    {
     "data": {
      "text/plain": [
       "20"
      ]
     },
     "execution_count": 17,
     "metadata": {},
     "output_type": "execute_result"
    }
   ],
   "source": [
    "len(search_en.businesses)"
   ]
  },
  {
   "cell_type": "code",
   "execution_count": 29,
   "metadata": {
    "collapsed": false,
    "scrolled": true
   },
   "outputs": [],
   "source": [
    "rest_dict = {}\n",
    "for i in search_en.businesses:\n",
    "    rest_dict[unidecode(i.name)] = [i.rating, i.review_count]"
   ]
  },
  {
   "cell_type": "code",
   "execution_count": 30,
   "metadata": {
    "collapsed": false,
    "scrolled": false
   },
   "outputs": [
    {
     "data": {
      "text/plain": [
       "{'Bay Cities Italian Deli': [4.0, 3726],\n",
       " \"Benny's Tacos & Chicken Rotisserie\": [4.5, 674],\n",
       " 'Bruxie': [4.0, 328],\n",
       " 'Cha Cha Chicken': [4.0, 1557],\n",
       " \"Father's Office\": [4.0, 2787],\n",
       " 'Flower Child': [4.5, 191],\n",
       " \"Margo's\": [4.5, 38],\n",
       " 'Mondo Taco': [4.0, 727],\n",
       " 'Posh-Cafe': [5.0, 31],\n",
       " 'Samosa House Santa Monica': [4.0, 76],\n",
       " 'Shaka Shack Burgers': [4.5, 583],\n",
       " 'Society Kitchen': [4.5, 96],\n",
       " 'Spinfish Poke House': [4.5, 142],\n",
       " 'Stout': [4.0, 451],\n",
       " 'Sunny Blue': [4.5, 1036],\n",
       " 'Sweetfin Poke': [4.0, 865],\n",
       " 'The Albright': [4.5, 695],\n",
       " 'The Brixton': [4.5, 223],\n",
       " 'True Food Kitchen': [4.0, 1586],\n",
       " 'Urth Caffe': [4.0, 2505]}"
      ]
     },
     "execution_count": 30,
     "metadata": {},
     "output_type": "execute_result"
    }
   ],
   "source": [
    "rest_dict"
   ]
  },
  {
   "cell_type": "markdown",
   "metadata": {},
   "source": [
    "### Create a dataframe of the two columns (if necessary)"
   ]
  },
  {
   "cell_type": "code",
   "execution_count": 35,
   "metadata": {
    "collapsed": false,
    "scrolled": true
   },
   "outputs": [
    {
     "data": {
      "text/html": [
       "<div>\n",
       "<table border=\"1\" class=\"dataframe\">\n",
       "  <thead>\n",
       "    <tr style=\"text-align: right;\">\n",
       "      <th></th>\n",
       "      <th>Bay Cities Italian Deli</th>\n",
       "      <th>Benny's Tacos &amp; Chicken Rotisserie</th>\n",
       "      <th>Bruxie</th>\n",
       "      <th>Cha Cha Chicken</th>\n",
       "      <th>Father's Office</th>\n",
       "      <th>Flower Child</th>\n",
       "      <th>Margo's</th>\n",
       "      <th>Mondo Taco</th>\n",
       "      <th>Posh-Cafe</th>\n",
       "      <th>Samosa House Santa Monica</th>\n",
       "      <th>Shaka Shack Burgers</th>\n",
       "      <th>Society Kitchen</th>\n",
       "      <th>Spinfish Poke House</th>\n",
       "      <th>Stout</th>\n",
       "      <th>Sunny Blue</th>\n",
       "      <th>Sweetfin Poke</th>\n",
       "      <th>The Albright</th>\n",
       "      <th>The Brixton</th>\n",
       "      <th>True Food Kitchen</th>\n",
       "      <th>Urth Caffe</th>\n",
       "    </tr>\n",
       "  </thead>\n",
       "  <tbody>\n",
       "    <tr>\n",
       "      <th>0</th>\n",
       "      <td>4.0</td>\n",
       "      <td>4.5</td>\n",
       "      <td>4.0</td>\n",
       "      <td>4.0</td>\n",
       "      <td>4.0</td>\n",
       "      <td>4.5</td>\n",
       "      <td>4.5</td>\n",
       "      <td>4.0</td>\n",
       "      <td>5.0</td>\n",
       "      <td>4.0</td>\n",
       "      <td>4.5</td>\n",
       "      <td>4.5</td>\n",
       "      <td>4.5</td>\n",
       "      <td>4.0</td>\n",
       "      <td>4.5</td>\n",
       "      <td>4.0</td>\n",
       "      <td>4.5</td>\n",
       "      <td>4.5</td>\n",
       "      <td>4.0</td>\n",
       "      <td>4.0</td>\n",
       "    </tr>\n",
       "    <tr>\n",
       "      <th>1</th>\n",
       "      <td>3726.0</td>\n",
       "      <td>674.0</td>\n",
       "      <td>328.0</td>\n",
       "      <td>1557.0</td>\n",
       "      <td>2787.0</td>\n",
       "      <td>191.0</td>\n",
       "      <td>38.0</td>\n",
       "      <td>727.0</td>\n",
       "      <td>31.0</td>\n",
       "      <td>76.0</td>\n",
       "      <td>583.0</td>\n",
       "      <td>96.0</td>\n",
       "      <td>142.0</td>\n",
       "      <td>451.0</td>\n",
       "      <td>1036.0</td>\n",
       "      <td>865.0</td>\n",
       "      <td>695.0</td>\n",
       "      <td>223.0</td>\n",
       "      <td>1586.0</td>\n",
       "      <td>2505.0</td>\n",
       "    </tr>\n",
       "  </tbody>\n",
       "</table>\n",
       "</div>"
      ],
      "text/plain": [
       "   Bay Cities Italian Deli  Benny's Tacos & Chicken Rotisserie  Bruxie  \\\n",
       "0                      4.0                                 4.5     4.0   \n",
       "1                   3726.0                               674.0   328.0   \n",
       "\n",
       "   Cha Cha Chicken  Father's Office  Flower Child  Margo's  Mondo Taco  \\\n",
       "0              4.0              4.0           4.5      4.5         4.0   \n",
       "1           1557.0           2787.0         191.0     38.0       727.0   \n",
       "\n",
       "   Posh-Cafe  Samosa House Santa Monica  Shaka Shack Burgers  Society Kitchen  \\\n",
       "0        5.0                        4.0                  4.5              4.5   \n",
       "1       31.0                       76.0                583.0             96.0   \n",
       "\n",
       "   Spinfish Poke House  Stout  Sunny Blue  Sweetfin Poke  The Albright  \\\n",
       "0                  4.5    4.0         4.5            4.0           4.5   \n",
       "1                142.0  451.0      1036.0          865.0         695.0   \n",
       "\n",
       "   The Brixton  True Food Kitchen  Urth Caffe  \n",
       "0          4.5                4.0         4.0  \n",
       "1        223.0             1586.0      2505.0  "
      ]
     },
     "execution_count": 35,
     "metadata": {},
     "output_type": "execute_result"
    }
   ],
   "source": [
    "rest_df = pd.DataFrame(data = rest_dict)\n",
    "rest_df"
   ]
  },
  {
   "cell_type": "code",
   "execution_count": null,
   "metadata": {
    "collapsed": true
   },
   "outputs": [],
   "source": []
  },
  {
   "cell_type": "code",
   "execution_count": null,
   "metadata": {
    "collapsed": false
   },
   "outputs": [],
   "source": [
    "# y = df.rating.values\n",
    "# X = df.drop(['rating'], axis = 1)"
   ]
  },
  {
   "cell_type": "markdown",
   "metadata": {},
   "source": [
    "### Do a DecisionTreeRegression with sklearn"
   ]
  },
  {
   "cell_type": "code",
   "execution_count": null,
   "metadata": {
    "collapsed": false
   },
   "outputs": [],
   "source": [
    "from sklearn.tree import DecisionTreeRegressor\n",
    "treereg = DecisionTreeRegressor(random_state=1, max_depth=3)\n",
    "treereg.fit(X, y)"
   ]
  },
  {
   "cell_type": "code",
   "execution_count": null,
   "metadata": {
    "collapsed": true
   },
   "outputs": [],
   "source": [
    "### Plot the Decision Tree via pydotplus and graphviz ()\n",
    "### See https://github.com/ga-students/DSI_SM_3/blob/master/curriculum/week-07/1.2-Decision_Trees_Lab/cars_inclass_solve.ipynb"
   ]
  },
  {
   "cell_type": "markdown",
   "metadata": {},
   "source": [
    "### Do all of the steps over for NYC and compare DecisionTreeRegressions:"
   ]
  },
  {
   "cell_type": "code",
   "execution_count": null,
   "metadata": {
    "collapsed": true
   },
   "outputs": [],
   "source": []
  }
 ],
 "metadata": {
  "anaconda-cloud": {},
  "kernelspec": {
   "display_name": "Python [conda root]",
   "language": "python",
   "name": "conda-root-py"
  },
  "language_info": {
   "codemirror_mode": {
    "name": "ipython",
    "version": 2
   },
   "file_extension": ".py",
   "mimetype": "text/x-python",
   "name": "python",
   "nbconvert_exporter": "python",
   "pygments_lexer": "ipython2",
   "version": "2.7.12"
  }
 },
 "nbformat": 4,
 "nbformat_minor": 1
}
