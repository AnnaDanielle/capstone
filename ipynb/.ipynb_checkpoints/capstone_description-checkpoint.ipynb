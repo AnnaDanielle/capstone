{
 "cells": [
  {
   "cell_type": "markdown",
   "metadata": {},
   "source": [
    "# <span style=\"color:black\"> Los Angeles Restaurant Bubble </span>"
   ]
  },
  {
   "cell_type": "markdown",
   "metadata": {},
   "source": [
    "\n",
    "---\n",
    "Jupyter Notebook Layout:\n",
    "\n",
    "1. County data\n",
    "    - 1.01 data cleanup\n",
    "    - 1.02 splitting data for API calls\n",
    "    \n",
    "1. Yelp API\n",
    "    - 2.01 phone requests\n",
    "    - 2.02 name, location requests"
   ]
  },
  {
   "cell_type": "markdown",
   "metadata": {},
   "source": [
    "---"
   ]
  },
  {
   "cell_type": "markdown",
   "metadata": {},
   "source": [
    "## <span style=\"color:darkblue\"> 1 Identify </span>"
   ]
  },
  {
   "cell_type": "markdown",
   "metadata": {},
   "source": [
    "### <span style=\"color:gray\"> 1.1 Problem Statement </span>"
   ]
  },
  {
   "cell_type": "markdown",
   "metadata": {},
   "source": [
    "Assert the validity of the restaurant bubble.\n",
    "\n",
    "1. Prove that restaurants are closing at a quicker rate today than three years ago\n",
    "1. Predict a restaurant's closing based on Yelp data\n",
    "1. Include rent data to help predict closings"
   ]
  },
  {
   "cell_type": "markdown",
   "metadata": {},
   "source": [
    "### <span style=\"color:gray\"> 1.2 Specific Goals </span>"
   ]
  },
  {
   "cell_type": "markdown",
   "metadata": {},
   "source": [
    "- clean and aggregte LA county data\n",
    "- using LA county data, search Yelp API and determine if the returned json is consistent with the parameters searched\n",
    "- determine closings based on two criteria:\n",
    "    1. no inspection within the last year (assume closed)\n",
    "    1. Yelp API returns a `true` for `is_closed`\n",
    "- determine saturation of types of food in an area or overall restaurant saturation\n",
    "- create interactive visualizations"
   ]
  },
  {
   "cell_type": "markdown",
   "metadata": {},
   "source": [
    "### <span style=\"color:gray\"> 1.3 Success Criteria </span>"
   ]
  },
  {
   "cell_type": "markdown",
   "metadata": {},
   "source": [
    "There were 5% more closings in 2016 than in 2013."
   ]
  },
  {
   "cell_type": "markdown",
   "metadata": {},
   "source": [
    "### <span style=\"color:gray\"> 1.4 Proposed Methods & Models </span>"
   ]
  },
  {
   "cell_type": "markdown",
   "metadata": {},
   "source": [
    "1. I'm going to start with logisitc regression to predict the remaining lifecycle of a restaurant\n",
    "1. I want to look at some form of clustering, so we can note if any closing phenomenons are occuring in specific neighbrohoods"
   ]
  },
  {
   "cell_type": "markdown",
   "metadata": {},
   "source": [
    "## <span style=\"color:darkblue\"> 2. Parse </span>"
   ]
  },
  {
   "cell_type": "markdown",
   "metadata": {},
   "source": [
    "### <span style=\"color:gray\"> 2.1 Identify Risks & Assumptions </span>"
   ]
  },
  {
   "cell_type": "markdown",
   "metadata": {},
   "source": [
    "- Consolidating LA County data and creating unique IDs for each restaurant\n",
    "- Determining closures of restaurants in the past (and setting a timeframe)\n",
    "- Determining parameters:\n",
    "    - Inspection Data:\n",
    "        - Health rating\n",
    "        - Health rating over time\n",
    "        - Restaurant size\n",
    "    - Yelp Data:\n",
    "        - Actual ratings\n",
    "        - Number of reviews\n",
    "        - Velocity of reviews\n",
    "        - Price bucket\n",
    "        - Saturation (too many Chinese restaurants?)\n"
   ]
  },
  {
   "cell_type": "markdown",
   "metadata": {},
   "source": [
    "### <span style=\"color:gray\"> 2.2 Database Solution </span>"
   ]
  },
  {
   "cell_type": "markdown",
   "metadata": {},
   "source": [
    "PSQL on AWS"
   ]
  },
  {
   "cell_type": "markdown",
   "metadata": {},
   "source": [
    "### <span style=\"color:gray\"> 2.3 Data Sources </span>"
   ]
  },
  {
   "cell_type": "markdown",
   "metadata": {},
   "source": [
    "1. Los Angeles county inspection data (3 years)\n",
    "1. Yelp API requests based on:\n",
    "    - phone\n",
    "    - restaurant name, address"
   ]
  },
  {
   "cell_type": "markdown",
   "metadata": {},
   "source": [
    "### <span style=\"color:gray\"> 2.4 Data Challenges </span>"
   ]
  },
  {
   "cell_type": "markdown",
   "metadata": {},
   "source": [
    "Ensuring Yelp search terms are returned accurately based on the search term--this is a large and complex problem that I need to solve."
   ]
  },
  {
   "cell_type": "markdown",
   "metadata": {},
   "source": [
    "## <span style=\"color:darkblue\"> C. Mine </span>"
   ]
  },
  {
   "cell_type": "markdown",
   "metadata": {},
   "source": [
    "### <span style=\"color:gray\"> 1. Perform & Summarize EDA </span>"
   ]
  },
  {
   "cell_type": "markdown",
   "metadata": {},
   "source": [
    "Pending"
   ]
  }
 ],
 "metadata": {
  "anaconda-cloud": {},
  "kernelspec": {
   "display_name": "Python [conda root]",
   "language": "python",
   "name": "conda-root-py"
  },
  "language_info": {
   "codemirror_mode": {
    "name": "ipython",
    "version": 2
   },
   "file_extension": ".py",
   "mimetype": "text/x-python",
   "name": "python",
   "nbconvert_exporter": "python",
   "pygments_lexer": "ipython2",
   "version": "2.7.12"
  }
 },
 "nbformat": 4,
 "nbformat_minor": 1
}
