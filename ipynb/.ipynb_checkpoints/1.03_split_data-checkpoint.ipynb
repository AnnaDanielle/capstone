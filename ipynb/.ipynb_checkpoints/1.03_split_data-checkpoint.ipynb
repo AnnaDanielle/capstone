{
 "cells": [
  {
   "cell_type": "markdown",
   "metadata": {},
   "source": [
    "# 1.03 Splitting Data for API Calls"
   ]
  },
  {
   "cell_type": "code",
   "execution_count": 1,
   "metadata": {
    "collapsed": true
   },
   "outputs": [],
   "source": [
    "import os\n",
    "os.chdir('../')"
   ]
  },
  {
   "cell_type": "code",
   "execution_count": 2,
   "metadata": {
    "collapsed": true
   },
   "outputs": [],
   "source": [
    "from sklearn.externals import joblib\n",
    "import pandas as pd"
   ]
  },
  {
   "cell_type": "markdown",
   "metadata": {},
   "source": [
    "### I. Split County Data"
   ]
  },
  {
   "cell_type": "markdown",
   "metadata": {},
   "source": [
    "I'm going to split my data into 10 separate groups, so I can call on the Yelp API without getting in trouble (limit is 25,000)."
   ]
  },
  {
   "cell_type": "code",
   "execution_count": 3,
   "metadata": {
    "collapsed": false
   },
   "outputs": [],
   "source": [
    "rest_df = joblib.load('data/rest_group_df.pkl')"
   ]
  },
  {
   "cell_type": "code",
   "execution_count": 4,
   "metadata": {
    "collapsed": false
   },
   "outputs": [
    {
     "data": {
      "text/html": [
       "<div>\n",
       "<table border=\"1\" class=\"dataframe\">\n",
       "  <thead>\n",
       "    <tr style=\"text-align: right;\">\n",
       "      <th></th>\n",
       "      <th>facility</th>\n",
       "      <th>address</th>\n",
       "      <th>city</th>\n",
       "      <th>zip_cd</th>\n",
       "      <th>num_at_address</th>\n",
       "      <th>max_seats</th>\n",
       "      <th>phone</th>\n",
       "      <th>risk_level</th>\n",
       "      <th>last_inspect_date</th>\n",
       "      <th>inspect_score</th>\n",
       "      <th>cat</th>\n",
       "    </tr>\n",
       "  </thead>\n",
       "  <tbody>\n",
       "    <tr>\n",
       "      <th>0</th>\n",
       "      <td>#1 CAFE</td>\n",
       "      <td>2080 CENTURY PARK E</td>\n",
       "      <td>LOS ANGELES</td>\n",
       "      <td>90067</td>\n",
       "      <td>1</td>\n",
       "      <td>30</td>\n",
       "      <td>+1nan</td>\n",
       "      <td>3</td>\n",
       "      <td>08/18/2016</td>\n",
       "      <td>90.0</td>\n",
       "      <td>None</td>\n",
       "    </tr>\n",
       "    <tr>\n",
       "      <th>1</th>\n",
       "      <td>#1 CHINESE FAST FOOD</td>\n",
       "      <td>8606 S VERMONT AVE</td>\n",
       "      <td>LOS ANGELES</td>\n",
       "      <td>90044</td>\n",
       "      <td>1</td>\n",
       "      <td>30</td>\n",
       "      <td>+12132358779</td>\n",
       "      <td>3</td>\n",
       "      <td>08/10/2016</td>\n",
       "      <td>92.0</td>\n",
       "      <td>None</td>\n",
       "    </tr>\n",
       "    <tr>\n",
       "      <th>2</th>\n",
       "      <td>#1 DONUT</td>\n",
       "      <td>8509 S FIGUEROA ST</td>\n",
       "      <td>LOS ANGELES</td>\n",
       "      <td>90003</td>\n",
       "      <td>2</td>\n",
       "      <td>30</td>\n",
       "      <td>+1nan</td>\n",
       "      <td>2</td>\n",
       "      <td>05/17/2016</td>\n",
       "      <td>98.0</td>\n",
       "      <td>None</td>\n",
       "    </tr>\n",
       "    <tr>\n",
       "      <th>3</th>\n",
       "      <td>#1 DONUTS</td>\n",
       "      <td>8509 S FIGUEROA ST</td>\n",
       "      <td>LOS ANGELES</td>\n",
       "      <td>90003</td>\n",
       "      <td>2</td>\n",
       "      <td>30</td>\n",
       "      <td>+16266957898</td>\n",
       "      <td>2</td>\n",
       "      <td>07/26/2016</td>\n",
       "      <td>91.0</td>\n",
       "      <td>None</td>\n",
       "    </tr>\n",
       "    <tr>\n",
       "      <th>4</th>\n",
       "      <td>#1. JUICY DUMPLING</td>\n",
       "      <td>140 W VALLEY BLVD</td>\n",
       "      <td>SAN GABRIEL</td>\n",
       "      <td>91776</td>\n",
       "      <td>19</td>\n",
       "      <td>60</td>\n",
       "      <td>+16262164207</td>\n",
       "      <td>3</td>\n",
       "      <td>11/02/2016</td>\n",
       "      <td>92.0</td>\n",
       "      <td>None</td>\n",
       "    </tr>\n",
       "  </tbody>\n",
       "</table>\n",
       "</div>"
      ],
      "text/plain": [
       "               facility              address         city zip_cd  \\\n",
       "0               #1 CAFE  2080 CENTURY PARK E  LOS ANGELES  90067   \n",
       "1  #1 CHINESE FAST FOOD   8606 S VERMONT AVE  LOS ANGELES  90044   \n",
       "2              #1 DONUT   8509 S FIGUEROA ST  LOS ANGELES  90003   \n",
       "3             #1 DONUTS   8509 S FIGUEROA ST  LOS ANGELES  90003   \n",
       "4    #1. JUICY DUMPLING    140 W VALLEY BLVD  SAN GABRIEL  91776   \n",
       "\n",
       "   num_at_address  max_seats         phone  risk_level last_inspect_date  \\\n",
       "0               1         30         +1nan           3        08/18/2016   \n",
       "1               1         30  +12132358779           3        08/10/2016   \n",
       "2               2         30         +1nan           2        05/17/2016   \n",
       "3               2         30  +16266957898           2        07/26/2016   \n",
       "4              19         60  +16262164207           3        11/02/2016   \n",
       "\n",
       "   inspect_score   cat  \n",
       "0           90.0  None  \n",
       "1           92.0  None  \n",
       "2           98.0  None  \n",
       "3           91.0  None  \n",
       "4           92.0  None  "
      ]
     },
     "execution_count": 4,
     "metadata": {},
     "output_type": "execute_result"
    }
   ],
   "source": [
    "rest_df.head()"
   ]
  },
  {
   "cell_type": "code",
   "execution_count": 5,
   "metadata": {
    "collapsed": true
   },
   "outputs": [],
   "source": [
    "split_num = len(rest_df['facility'])/10"
   ]
  },
  {
   "cell_type": "code",
   "execution_count": 6,
   "metadata": {
    "collapsed": false
   },
   "outputs": [
    {
     "data": {
      "text/plain": [
       "3095"
      ]
     },
     "execution_count": 6,
     "metadata": {},
     "output_type": "execute_result"
    }
   ],
   "source": [
    "split_num"
   ]
  },
  {
   "cell_type": "code",
   "execution_count": 7,
   "metadata": {
    "collapsed": true
   },
   "outputs": [],
   "source": [
    "for i in range(10):\n",
    "    split_df = rest_df.iloc[i * split_num:(i + 1) * split_num]\n",
    "    joblib.dump(split_df, 'data/rest_group_{}_df.pkl'.format(i))"
   ]
  }
 ],
 "metadata": {
  "anaconda-cloud": {},
  "kernelspec": {
   "display_name": "Python [conda root]",
   "language": "python",
   "name": "conda-root-py"
  },
  "language_info": {
   "codemirror_mode": {
    "name": "ipython",
    "version": 2
   },
   "file_extension": ".py",
   "mimetype": "text/x-python",
   "name": "python",
   "nbconvert_exporter": "python",
   "pygments_lexer": "ipython2",
   "version": "2.7.12"
  }
 },
 "nbformat": 4,
 "nbformat_minor": 1
}
