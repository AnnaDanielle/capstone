{
 "cells": [
  {
   "cell_type": "markdown",
   "metadata": {},
   "source": [
    "# 1.01 County Data Cleanup"
   ]
  },
  {
   "cell_type": "code",
   "execution_count": 1,
   "metadata": {
    "collapsed": true
   },
   "outputs": [],
   "source": [
    "import os\n",
    "os.chdir('../')"
   ]
  },
  {
   "cell_type": "code",
   "execution_count": 2,
   "metadata": {
    "collapsed": false
   },
   "outputs": [],
   "source": [
    "import pandas as pd\n",
    "import numpy as np\n",
    "import lib.county_data as ctd\n",
    "import lib.name_categories as nc\n",
    "import re\n",
    "from lib.collapse_facil_dict import event_facil_addresses\n",
    "from sklearn.externals import joblib"
   ]
  },
  {
   "cell_type": "markdown",
   "metadata": {},
   "source": [
    "## I. Load & Clean Data\n",
    "\n",
    "Download data from LA Public Health website (https://ehservices.publichealth.lacounty.gov/ezsearch) and read the data in using pandas"
   ]
  },
  {
   "cell_type": "code",
   "execution_count": 3,
   "metadata": {
    "collapsed": false
   },
   "outputs": [],
   "source": [
    "rest_df = pd.read_csv('data/LA_rest_inspects', delimiter = '\\t', header = 0, index_col = False,\n",
    "                             names = ['facility', 'last_inspect_date','inspect_score', 'descript',\n",
    "                                      'address', 'city', 'zip', 'phone'])"
   ]
  },
  {
   "cell_type": "code",
   "execution_count": 4,
   "metadata": {
    "collapsed": false,
    "scrolled": true
   },
   "outputs": [
    {
     "data": {
      "text/html": [
       "<div>\n",
       "<table border=\"1\" class=\"dataframe\">\n",
       "  <thead>\n",
       "    <tr style=\"text-align: right;\">\n",
       "      <th></th>\n",
       "      <th>facility</th>\n",
       "      <th>last_inspect_date</th>\n",
       "      <th>inspect_score</th>\n",
       "      <th>descript</th>\n",
       "      <th>address</th>\n",
       "      <th>city</th>\n",
       "      <th>zip</th>\n",
       "      <th>phone</th>\n",
       "    </tr>\n",
       "  </thead>\n",
       "  <tbody>\n",
       "    <tr>\n",
       "      <th>0</th>\n",
       "      <td>103RD MARKET</td>\n",
       "      <td>01/18/2017</td>\n",
       "      <td>95.0</td>\n",
       "      <td>FOOD MKT RETAIL (25-1,999 SF) LOW RISK</td>\n",
       "      <td>1922 E 103RD ST</td>\n",
       "      <td>LOS ANGELES</td>\n",
       "      <td>90002</td>\n",
       "      <td>323-563-6245</td>\n",
       "    </tr>\n",
       "    <tr>\n",
       "      <th>1</th>\n",
       "      <td>TACOS LA POTRANKA</td>\n",
       "      <td>01/18/2017</td>\n",
       "      <td>85.0</td>\n",
       "      <td>RESTAURANT (0-30) SEATS HIGH RISK</td>\n",
       "      <td>1501 N LONG BEACH BLVD</td>\n",
       "      <td>COMPTON</td>\n",
       "      <td>90221-1608</td>\n",
       "      <td>323-928-1229</td>\n",
       "    </tr>\n",
       "    <tr>\n",
       "      <th>2</th>\n",
       "      <td>FISHLAND</td>\n",
       "      <td>01/18/2017</td>\n",
       "      <td>97.0</td>\n",
       "      <td>FOOD MKT RETAIL (25-1,999 SF) HIGH RISK</td>\n",
       "      <td>510 W COMPTON BLVD</td>\n",
       "      <td>COMPTON</td>\n",
       "      <td>90220</td>\n",
       "      <td>310-669-3050</td>\n",
       "    </tr>\n",
       "    <tr>\n",
       "      <th>3</th>\n",
       "      <td>PRODUCE FOR LESS</td>\n",
       "      <td>01/18/2017</td>\n",
       "      <td>91.0</td>\n",
       "      <td>FOOD MKT RETAIL (2,000+ SF) HIGH RISK</td>\n",
       "      <td>5059 MELROSE AVE</td>\n",
       "      <td>LOS ANGELES</td>\n",
       "      <td>90038-4115</td>\n",
       "      <td>323-466-2966</td>\n",
       "    </tr>\n",
       "    <tr>\n",
       "      <th>4</th>\n",
       "      <td>TREE HOUSE THAI RESTAURANT</td>\n",
       "      <td>01/18/2017</td>\n",
       "      <td>92.0</td>\n",
       "      <td>RESTAURANT (31-60) SEATS HIGH RISK</td>\n",
       "      <td>10200 VENICE BLVD STE 207</td>\n",
       "      <td>CULVER CITY</td>\n",
       "      <td>90232</td>\n",
       "      <td>NaN</td>\n",
       "    </tr>\n",
       "  </tbody>\n",
       "</table>\n",
       "</div>"
      ],
      "text/plain": [
       "                     facility last_inspect_date  inspect_score  \\\n",
       "0                103RD MARKET        01/18/2017           95.0   \n",
       "1           TACOS LA POTRANKA        01/18/2017           85.0   \n",
       "2                    FISHLAND        01/18/2017           97.0   \n",
       "3            PRODUCE FOR LESS        01/18/2017           91.0   \n",
       "4  TREE HOUSE THAI RESTAURANT        01/18/2017           92.0   \n",
       "\n",
       "                                  descript                    address  \\\n",
       "0   FOOD MKT RETAIL (25-1,999 SF) LOW RISK            1922 E 103RD ST   \n",
       "1        RESTAURANT (0-30) SEATS HIGH RISK     1501 N LONG BEACH BLVD   \n",
       "2  FOOD MKT RETAIL (25-1,999 SF) HIGH RISK         510 W COMPTON BLVD   \n",
       "3    FOOD MKT RETAIL (2,000+ SF) HIGH RISK           5059 MELROSE AVE   \n",
       "4       RESTAURANT (31-60) SEATS HIGH RISK  10200 VENICE BLVD STE 207   \n",
       "\n",
       "          city         zip         phone  \n",
       "0  LOS ANGELES       90002  323-563-6245  \n",
       "1      COMPTON  90221-1608  323-928-1229  \n",
       "2      COMPTON       90220  310-669-3050  \n",
       "3  LOS ANGELES  90038-4115  323-466-2966  \n",
       "4  CULVER CITY       90232           NaN  "
      ]
     },
     "execution_count": 4,
     "metadata": {},
     "output_type": "execute_result"
    }
   ],
   "source": [
    "rest_df.head()"
   ]
  },
  {
   "cell_type": "markdown",
   "metadata": {},
   "source": [
    "## II. Clean the Data\n",
    "\n",
    "Note, all functions are stored in a separate `county_data.py` file.\n",
    "\n",
    "- strip columns of any spaces when possible\n",
    "- filter out any food facilities that do not serve customers (i.e. retail)\n",
    "- extract necessary data and move into separate columns (seat range, risk, zip codes, phone numbers)\n",
    "- remove key words that may not help the Yelp search"
   ]
  },
  {
   "cell_type": "code",
   "execution_count": 5,
   "metadata": {
    "collapsed": false,
    "scrolled": false
   },
   "outputs": [
    {
     "name": "stdout",
     "output_type": "stream",
     "text": [
      "SUCCESS     : facility column stripped\n",
      "SUCCESS     : last_inspect_date column stripped\n",
      "UNSUCCESSFUL: inspect_score column not stripped due to format\n",
      "SUCCESS     : descript column stripped\n",
      "SUCCESS     : address column stripped\n",
      "SUCCESS     : city column stripped\n",
      "SUCCESS     : zip column stripped\n",
      "UNSUCCESSFUL: phone column not stripped due to format\n"
     ]
    }
   ],
   "source": [
    "ctd.strip_col_contents(rest_df)"
   ]
  },
  {
   "cell_type": "code",
   "execution_count": 6,
   "metadata": {
    "collapsed": false
   },
   "outputs": [],
   "source": [
    "rest_df = ctd.filter_dataframe('restaurant', 'descript', rest_df)"
   ]
  },
  {
   "cell_type": "code",
   "execution_count": 7,
   "metadata": {
    "collapsed": false
   },
   "outputs": [],
   "source": [
    "rest_df['address'] = rest_df['address'].apply(lambda x: re.sub(' STE$','',x))\n",
    "rest_df['address'] = rest_df['address'].apply(lambda x: re.sub(' STE .+','',x))\n",
    "rest_df['address'] = rest_df['address'].apply(lambda x: re.sub(' STE#.+','',x))\n",
    "rest_df['address'] = rest_df['address'].apply(lambda x: re.sub(' # .+','',x))\n",
    "rest_df['address'] = rest_df['address'].apply(lambda x: re.sub(' #.+','',x))\n",
    "rest_df['address'] = rest_df['address'].apply(lambda x: re.sub('#\\d+','',x))\n",
    "rest_df['address'] = rest_df['address'].apply(lambda x: re.sub('# \\d+','',x))\n",
    "rest_df['address'] = rest_df['address'].apply(lambda x: re.sub('#$','',x))"
   ]
  },
  {
   "cell_type": "code",
   "execution_count": 8,
   "metadata": {
    "collapsed": false
   },
   "outputs": [],
   "source": [
    "rest_df['max_seats'] = rest_df['descript'].str.extract('RESTAURANT \\((.+)\\)', expand = True)"
   ]
  },
  {
   "cell_type": "code",
   "execution_count": 9,
   "metadata": {
    "collapsed": false
   },
   "outputs": [],
   "source": [
    "rest_df['max_seats'] = rest_df['max_seats'].apply(ctd.max_seating)"
   ]
  },
  {
   "cell_type": "code",
   "execution_count": 10,
   "metadata": {
    "collapsed": false
   },
   "outputs": [],
   "source": [
    "rest_df['phone'] = rest_df['phone'].str.replace('-','')"
   ]
  },
  {
   "cell_type": "code",
   "execution_count": 11,
   "metadata": {
    "collapsed": false
   },
   "outputs": [],
   "source": [
    "rest_df['risk_level'] = rest_df['descript'].str.extract('\\) SEATS (.+) RISK', expand = True)"
   ]
  },
  {
   "cell_type": "code",
   "execution_count": 12,
   "metadata": {
    "collapsed": false
   },
   "outputs": [],
   "source": [
    "rest_df['risk_level'] = rest_df['risk_level'].apply(ctd.risk_lev)"
   ]
  },
  {
   "cell_type": "code",
   "execution_count": 13,
   "metadata": {
    "collapsed": false
   },
   "outputs": [],
   "source": [
    "rest_df['zip_cd'] = rest_df['zip'].str.extract('(\\d{5})', expand = True)"
   ]
  },
  {
   "cell_type": "code",
   "execution_count": 14,
   "metadata": {
    "collapsed": true
   },
   "outputs": [],
   "source": [
    "rest_df['facility'] = rest_df['facility'].str.replace(',', '')\n",
    "rest_df['facility'] = rest_df['facility'].str.replace(\"'\", '')\n",
    "rest_df['facility'] = rest_df['facility'].str.replace(' #\\d+', '')\n",
    "rest_df['facility'] = rest_df['facility'].str.replace(' # \\d+', '')\n",
    "rest_df['facility'] = rest_df['facility'].str.replace(' INC', '')"
   ]
  },
  {
   "cell_type": "code",
   "execution_count": 15,
   "metadata": {
    "collapsed": false
   },
   "outputs": [],
   "source": [
    "rest_df.drop('descript', axis = 1, inplace = True)\n",
    "rest_df.drop('zip', axis = 1, inplace = True)\n",
    "rest_df.dropna(axis=0, subset=['zip_cd'], inplace=True)"
   ]
  },
  {
   "cell_type": "code",
   "execution_count": 16,
   "metadata": {
    "collapsed": false,
    "scrolled": true
   },
   "outputs": [],
   "source": [
    "rest_df['zip_cd'] = rest_df['zip_cd'].astype('str')"
   ]
  },
  {
   "cell_type": "code",
   "execution_count": 17,
   "metadata": {
    "collapsed": true
   },
   "outputs": [],
   "source": [
    "rest_df['phone'] = rest_df['phone'].apply(lambda x: '+1' + str(x))"
   ]
  },
  {
   "cell_type": "code",
   "execution_count": 18,
   "metadata": {
    "collapsed": false
   },
   "outputs": [
    {
     "data": {
      "text/html": [
       "<div>\n",
       "<table border=\"1\" class=\"dataframe\">\n",
       "  <thead>\n",
       "    <tr style=\"text-align: right;\">\n",
       "      <th></th>\n",
       "      <th>facility</th>\n",
       "      <th>address</th>\n",
       "      <th>city</th>\n",
       "      <th>zip_cd</th>\n",
       "      <th>max_seats</th>\n",
       "      <th>phone</th>\n",
       "      <th>risk_level</th>\n",
       "      <th>last_inspect_date</th>\n",
       "      <th>inspect_score</th>\n",
       "    </tr>\n",
       "  </thead>\n",
       "  <tbody>\n",
       "    <tr>\n",
       "      <th>0</th>\n",
       "      <td># 245 FRIES FRIES FRIES</td>\n",
       "      <td>1000 VIN SCULLY AVE</td>\n",
       "      <td>LOS ANGELES</td>\n",
       "      <td>90012</td>\n",
       "      <td>30</td>\n",
       "      <td>+1nan</td>\n",
       "      <td>3</td>\n",
       "      <td>09/21/2016</td>\n",
       "      <td>96.0</td>\n",
       "    </tr>\n",
       "    <tr>\n",
       "      <th>1</th>\n",
       "      <td># 431 LOGE TERRACE BAR</td>\n",
       "      <td>1000 VIN SCULLY AVE</td>\n",
       "      <td>LOS ANGELES</td>\n",
       "      <td>90012</td>\n",
       "      <td>30</td>\n",
       "      <td>+1nan</td>\n",
       "      <td>2</td>\n",
       "      <td>08/09/2016</td>\n",
       "      <td>99.0</td>\n",
       "    </tr>\n",
       "    <tr>\n",
       "      <th>2</th>\n",
       "      <td># 953 TOP DECK DOGS</td>\n",
       "      <td>1000 VIN SCULLY AVE</td>\n",
       "      <td>LOS ANGELES</td>\n",
       "      <td>90012</td>\n",
       "      <td>151</td>\n",
       "      <td>+1nan</td>\n",
       "      <td>3</td>\n",
       "      <td>09/21/2016</td>\n",
       "      <td>98.0</td>\n",
       "    </tr>\n",
       "    <tr>\n",
       "      <th>3</th>\n",
       "      <td>#1 BUFFET</td>\n",
       "      <td>14418 HAWTHORNE BLVD</td>\n",
       "      <td>LAWNDALE</td>\n",
       "      <td>90260</td>\n",
       "      <td>151</td>\n",
       "      <td>+13106444007</td>\n",
       "      <td>3</td>\n",
       "      <td>11/29/2016</td>\n",
       "      <td>90.0</td>\n",
       "    </tr>\n",
       "    <tr>\n",
       "      <th>4</th>\n",
       "      <td>#1 CAFE</td>\n",
       "      <td>2080 CENTURY PARK E</td>\n",
       "      <td>LOS ANGELES</td>\n",
       "      <td>90067</td>\n",
       "      <td>30</td>\n",
       "      <td>+1nan</td>\n",
       "      <td>3</td>\n",
       "      <td>08/18/2016</td>\n",
       "      <td>90.0</td>\n",
       "    </tr>\n",
       "  </tbody>\n",
       "</table>\n",
       "</div>"
      ],
      "text/plain": [
       "                  facility               address         city zip_cd  \\\n",
       "0  # 245 FRIES FRIES FRIES   1000 VIN SCULLY AVE  LOS ANGELES  90012   \n",
       "1   # 431 LOGE TERRACE BAR   1000 VIN SCULLY AVE  LOS ANGELES  90012   \n",
       "2      # 953 TOP DECK DOGS   1000 VIN SCULLY AVE  LOS ANGELES  90012   \n",
       "3                #1 BUFFET  14418 HAWTHORNE BLVD     LAWNDALE  90260   \n",
       "4                  #1 CAFE   2080 CENTURY PARK E  LOS ANGELES  90067   \n",
       "\n",
       "   max_seats         phone  risk_level last_inspect_date  inspect_score  \n",
       "0         30         +1nan           3        09/21/2016           96.0  \n",
       "1         30         +1nan           2        08/09/2016           99.0  \n",
       "2        151         +1nan           3        09/21/2016           98.0  \n",
       "3        151  +13106444007           3        11/29/2016           90.0  \n",
       "4         30         +1nan           3        08/18/2016           90.0  "
      ]
     },
     "execution_count": 18,
     "metadata": {},
     "output_type": "execute_result"
    }
   ],
   "source": [
    "rest_df = rest_df.groupby(['facility', 'address', 'city', 'zip_cd'], \n",
    "                            as_index = False).agg({'max_seats': 'max',\n",
    "                                                   'risk_level': 'max',\n",
    "                                                   'last_inspect_date': 'max',\n",
    "                                                   'inspect_score': 'mean',\n",
    "                                                   'phone': 'min'})\n",
    "rest_df.head()"
   ]
  },
  {
   "cell_type": "code",
   "execution_count": 19,
   "metadata": {
    "collapsed": false,
    "scrolled": true
   },
   "outputs": [],
   "source": [
    "rest_cities = rest_df.groupby('city', as_index = False).agg({'facility': 'count'})"
   ]
  },
  {
   "cell_type": "code",
   "execution_count": 20,
   "metadata": {
    "collapsed": false,
    "scrolled": true
   },
   "outputs": [],
   "source": [
    "rest_cities = rest_cities.sort_values('facility', ascending = False)"
   ]
  },
  {
   "cell_type": "markdown",
   "metadata": {},
   "source": [
    "### A. Narrow the Scope\n",
    "\n",
    "- focus on restaurants in neighbrohoods with over 100 restaurants, so we can take saturation into account later\n",
    "- note that Los Angeles is quite broad, and contains 28% of the entire data set\n"
   ]
  },
  {
   "cell_type": "code",
   "execution_count": 21,
   "metadata": {
    "collapsed": false,
    "scrolled": false
   },
   "outputs": [
    {
     "data": {
      "text/html": [
       "<div>\n",
       "<table border=\"1\" class=\"dataframe\">\n",
       "  <thead>\n",
       "    <tr style=\"text-align: right;\">\n",
       "      <th></th>\n",
       "      <th>city</th>\n",
       "      <th>facility</th>\n",
       "    </tr>\n",
       "  </thead>\n",
       "  <tbody>\n",
       "    <tr>\n",
       "      <th>81</th>\n",
       "      <td>LOS ANGELES</td>\n",
       "      <td>9945</td>\n",
       "    </tr>\n",
       "    <tr>\n",
       "      <th>152</th>\n",
       "      <td>TORRANCE</td>\n",
       "      <td>810</td>\n",
       "    </tr>\n",
       "    <tr>\n",
       "      <th>132</th>\n",
       "      <td>SANTA MONICA</td>\n",
       "      <td>782</td>\n",
       "    </tr>\n",
       "    <tr>\n",
       "      <th>46</th>\n",
       "      <td>GLENDALE</td>\n",
       "      <td>719</td>\n",
       "    </tr>\n",
       "    <tr>\n",
       "      <th>20</th>\n",
       "      <td>BURBANK</td>\n",
       "      <td>584</td>\n",
       "    </tr>\n",
       "  </tbody>\n",
       "</table>\n",
       "</div>"
      ],
      "text/plain": [
       "             city  facility\n",
       "81    LOS ANGELES      9945\n",
       "152      TORRANCE       810\n",
       "132  SANTA MONICA       782\n",
       "46       GLENDALE       719\n",
       "20        BURBANK       584"
      ]
     },
     "execution_count": 21,
     "metadata": {},
     "output_type": "execute_result"
    }
   ],
   "source": [
    "rest_cities.head()"
   ]
  },
  {
   "cell_type": "code",
   "execution_count": 22,
   "metadata": {
    "collapsed": false
   },
   "outputs": [],
   "source": [
    "rest_cities['filter'] = rest_cities['facility'].apply(lambda x: 1 if x > 100 else 0)"
   ]
  },
  {
   "cell_type": "code",
   "execution_count": 23,
   "metadata": {
    "collapsed": false
   },
   "outputs": [],
   "source": [
    "rest_cities = ctd.filter_and_drop_column(rest_cities)"
   ]
  },
  {
   "cell_type": "code",
   "execution_count": 24,
   "metadata": {
    "collapsed": false,
    "scrolled": true
   },
   "outputs": [],
   "source": [
    "rest_scope = rest_cities['city'].values"
   ]
  },
  {
   "cell_type": "code",
   "execution_count": 25,
   "metadata": {
    "collapsed": false,
    "scrolled": true
   },
   "outputs": [],
   "source": [
    "rest_df['filter'] = rest_df['city'].apply(lambda x: 1 if x in rest_scope else 0)"
   ]
  },
  {
   "cell_type": "code",
   "execution_count": 26,
   "metadata": {
    "collapsed": false
   },
   "outputs": [],
   "source": [
    "rest_df = ctd.filter_and_drop_column(rest_df)"
   ]
  },
  {
   "cell_type": "markdown",
   "metadata": {},
   "source": [
    "### B. Consolidate the Data\n",
    "\n",
    "There's a lot of potentially duplicative data. We need to differentiate between a couple of things:\n",
    "- multiple restaurant offerings at one address\n",
    "- restaurant turnover at the same address\n",
    "- the same restaurant receiving yearly inspections under different names\n",
    "\n",
    "To better understand and solve this problem, I'm going to create a dictionary of addresses, with the values as a list of different restaurant names.\n",
    "\n",
    "In addition, we have another check coming on the Yelp API, so we don't have to spend too much time on this."
   ]
  },
  {
   "cell_type": "code",
   "execution_count": 27,
   "metadata": {
    "collapsed": false,
    "scrolled": true
   },
   "outputs": [],
   "source": [
    "rest_facil_dict = rest_df.groupby('address').groups"
   ]
  },
  {
   "cell_type": "code",
   "execution_count": 28,
   "metadata": {
    "collapsed": false
   },
   "outputs": [],
   "source": [
    "for key, value in rest_facil_dict.items():\n",
    "    index_list = []\n",
    "    for index_num in value:\n",
    "        index_num = rest_df.ix[index_num]['facility']\n",
    "        index_list.append(index_num)\n",
    "    rest_facil_dict[key] = index_list"
   ]
  },
  {
   "cell_type": "code",
   "execution_count": 29,
   "metadata": {
    "collapsed": false
   },
   "outputs": [],
   "source": [
    "def num_rest(x):\n",
    "    if x in rest_facil_dict:\n",
    "        return len(rest_facil_dict[x])\n",
    "\n",
    "rest_df['num_at_address'] = rest_df['address'].apply(num_rest)"
   ]
  },
  {
   "cell_type": "code",
   "execution_count": 30,
   "metadata": {
    "collapsed": false
   },
   "outputs": [],
   "source": [
    "rest_df['facility'] = rest_df.apply(lambda col: ctd.rename_facilities(col['address'],\n",
    "                                                                      col['facility']), axis = 1)"
   ]
  },
  {
   "cell_type": "code",
   "execution_count": 31,
   "metadata": {
    "collapsed": false
   },
   "outputs": [],
   "source": [
    "rest_group_df = rest_df.groupby(['facility', 'address', 'city', 'zip_cd', 'num_at_address'], \n",
    "                                as_index = False).agg({'max_seats': 'max',\n",
    "                                                       'risk_level': 'max',\n",
    "                                                       'last_inspect_date': 'max',\n",
    "                                                       'inspect_score': 'mean',\n",
    "                                                       'phone': 'min'})"
   ]
  },
  {
   "cell_type": "code",
   "execution_count": 32,
   "metadata": {
    "collapsed": false,
    "scrolled": true
   },
   "outputs": [
    {
     "name": "stdout",
     "output_type": "stream",
     "text": [
      "<class 'pandas.core.frame.DataFrame'>\n",
      "Int64Index: 31996 entries, 0 to 31995\n",
      "Data columns (total 10 columns):\n",
      "facility             31996 non-null object\n",
      "address              31996 non-null object\n",
      "city                 31996 non-null object\n",
      "zip_cd               31996 non-null object\n",
      "num_at_address       31996 non-null int64\n",
      "max_seats            31996 non-null int64\n",
      "phone                31996 non-null object\n",
      "risk_level           31996 non-null int64\n",
      "last_inspect_date    31996 non-null object\n",
      "inspect_score        31996 non-null float64\n",
      "dtypes: float64(1), int64(3), object(6)\n",
      "memory usage: 2.7+ MB\n"
     ]
    }
   ],
   "source": [
    "rest_group_df.info()"
   ]
  },
  {
   "cell_type": "code",
   "execution_count": 33,
   "metadata": {
    "collapsed": true
   },
   "outputs": [],
   "source": [
    "rest_group_df['cat'] = rest_group_df['facility'].apply(nc.define_cat)"
   ]
  },
  {
   "cell_type": "code",
   "execution_count": 34,
   "metadata": {
    "collapsed": false,
    "scrolled": true
   },
   "outputs": [],
   "source": [
    "rest_group_df = rest_group_df[rest_group_df['cat'].isnull()]"
   ]
  },
  {
   "cell_type": "code",
   "execution_count": 35,
   "metadata": {
    "collapsed": false,
    "scrolled": false
   },
   "outputs": [
    {
     "name": "stdout",
     "output_type": "stream",
     "text": [
      "<class 'pandas.core.frame.DataFrame'>\n",
      "Int64Index: 30850 entries, 0 to 31995\n",
      "Data columns (total 11 columns):\n",
      "facility             30850 non-null object\n",
      "address              30850 non-null object\n",
      "city                 30850 non-null object\n",
      "zip_cd               30850 non-null object\n",
      "num_at_address       30850 non-null int64\n",
      "max_seats            30850 non-null int64\n",
      "phone                30850 non-null object\n",
      "risk_level           30850 non-null int64\n",
      "last_inspect_date    30850 non-null object\n",
      "inspect_score        30850 non-null float64\n",
      "cat                  0 non-null object\n",
      "dtypes: float64(1), int64(3), object(7)\n",
      "memory usage: 2.8+ MB\n"
     ]
    }
   ],
   "source": [
    "rest_group_df.info()"
   ]
  },
  {
   "cell_type": "code",
   "execution_count": 36,
   "metadata": {
    "collapsed": false
   },
   "outputs": [],
   "source": [
    "la_rest_group_df = rest_group_df[rest_group_df['city'] == 'LOS ANGELES']"
   ]
  },
  {
   "cell_type": "code",
   "execution_count": 37,
   "metadata": {
    "collapsed": false,
    "scrolled": true
   },
   "outputs": [
    {
     "data": {
      "text/plain": [
       "['data/la_rest_group_df.pkl']"
      ]
     },
     "execution_count": 37,
     "metadata": {},
     "output_type": "execute_result"
    }
   ],
   "source": [
    "joblib.dump(la_rest_group_df, 'data/la_rest_group_df.pkl')"
   ]
  }
 ],
 "metadata": {
  "anaconda-cloud": {},
  "kernelspec": {
   "display_name": "Python [conda root]",
   "language": "python",
   "name": "conda-root-py"
  },
  "language_info": {
   "codemirror_mode": {
    "name": "ipython",
    "version": 2
   },
   "file_extension": ".py",
   "mimetype": "text/x-python",
   "name": "python",
   "nbconvert_exporter": "python",
   "pygments_lexer": "ipython2",
   "version": "2.7.12"
  }
 },
 "nbformat": 4,
 "nbformat_minor": 1
}
