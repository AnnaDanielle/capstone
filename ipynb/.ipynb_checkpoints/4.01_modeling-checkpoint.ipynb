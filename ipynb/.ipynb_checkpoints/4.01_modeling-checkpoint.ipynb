{
 "cells": [
  {
   "cell_type": "code",
   "execution_count": 1,
   "metadata": {
    "collapsed": true
   },
   "outputs": [],
   "source": [
    "import os\n",
    "os.chdir('../')"
   ]
  },
  {
   "cell_type": "code",
   "execution_count": 2,
   "metadata": {
    "collapsed": true
   },
   "outputs": [],
   "source": [
    "from sklearn.model_selection import train_test_split\n",
    "from sklearn.tree import DecisionTreeClassifier\n",
    "from sklearn.ensemble import RandomForestClassifier\n",
    "from sklearn.preprocessing import LabelEncoder\n",
    "from sklearn.tree import export_graphviz\n",
    "from sklearn.linear_model import Lasso\n",
    "from sklearn.externals import joblib\n",
    "from urllib import urlencode\n",
    "import matplotlib.pyplot as plt\n",
    "import lib.yelp_api as yp\n",
    "import seaborn as sns\n",
    "import pandas as pd\n",
    "import numpy as np\n",
    "import requests\n",
    "import json\n",
    "import re\n",
    "\n",
    "%matplotlib inline"
   ]
  },
  {
   "cell_type": "code",
   "execution_count": 3,
   "metadata": {
    "collapsed": true
   },
   "outputs": [],
   "source": [
    "ylp_lacnty_df = pd.read_csv('data/tableau_cmplt_data.csv', index_col=0)"
   ]
  },
  {
   "cell_type": "code",
   "execution_count": 4,
   "metadata": {
    "collapsed": false
   },
   "outputs": [],
   "source": [
    "ylp_lacnty_df['max_rvw_dt'] = pd.to_datetime(ylp_lacnty_df['max_rvw_dt'])\n",
    "ylp_lacnty_df['min_rvw_dt'] = pd.to_datetime(ylp_lacnty_df['min_rvw_dt'])"
   ]
  },
  {
   "cell_type": "code",
   "execution_count": 5,
   "metadata": {
    "collapsed": false
   },
   "outputs": [],
   "source": [
    "ylp_lacnty_df['max_rvw_yr'] = ylp_lacnty_df['max_rvw_dt'].apply(lambda x: x.year)\n",
    "ylp_lacnty_df['min_rvw_yr'] = ylp_lacnty_df['min_rvw_dt'].apply(lambda x: x.year)"
   ]
  },
  {
   "cell_type": "code",
   "execution_count": 6,
   "metadata": {
    "collapsed": false
   },
   "outputs": [],
   "source": [
    "ylp_lacnty_df['min_rvw_yr'] = ylp_lacnty_df['min_rvw_yr'].fillna(value=0)\n",
    "ylp_lacnty_df['max_rvw_yr'] = ylp_lacnty_df['max_rvw_yr'].fillna(value=0)\n",
    "ylp_lacnty_df['avg_rating'] = ylp_lacnty_df['avg_rating'].fillna(value=0)"
   ]
  },
  {
   "cell_type": "code",
   "execution_count": 7,
   "metadata": {
    "collapsed": false,
    "scrolled": true
   },
   "outputs": [
    {
     "data": {
      "text/html": [
       "<div>\n",
       "<table border=\"1\" class=\"dataframe\">\n",
       "  <thead>\n",
       "    <tr style=\"text-align: right;\">\n",
       "      <th></th>\n",
       "      <th>bus_id</th>\n",
       "      <th>search_name</th>\n",
       "      <th>name</th>\n",
       "      <th>search_address</th>\n",
       "      <th>address_y</th>\n",
       "      <th>max_seats</th>\n",
       "      <th>risk_level</th>\n",
       "      <th>inspect_score</th>\n",
       "      <th>price</th>\n",
       "      <th>cat_1</th>\n",
       "      <th>...</th>\n",
       "      <th>latitude</th>\n",
       "      <th>longitude</th>\n",
       "      <th>num_reviews</th>\n",
       "      <th>avg_rating</th>\n",
       "      <th>min_rvw_dt</th>\n",
       "      <th>max_rvw_dt</th>\n",
       "      <th>est_rst_open</th>\n",
       "      <th>closed</th>\n",
       "      <th>max_rvw_yr</th>\n",
       "      <th>min_rvw_yr</th>\n",
       "    </tr>\n",
       "  </thead>\n",
       "  <tbody>\n",
       "    <tr>\n",
       "      <th>4</th>\n",
       "      <td>dal-dae-po-los-angeles</td>\n",
       "      <td>#2 MOON BBQ</td>\n",
       "      <td>Dal Dae Po</td>\n",
       "      <td>478 N WESTERN AVE</td>\n",
       "      <td>478 N Western Ave</td>\n",
       "      <td>150</td>\n",
       "      <td>3</td>\n",
       "      <td>92.0</td>\n",
       "      <td>$</td>\n",
       "      <td>korean</td>\n",
       "      <td>...</td>\n",
       "      <td>34.079599</td>\n",
       "      <td>-118.308788</td>\n",
       "      <td>1.0</td>\n",
       "      <td>5.000000</td>\n",
       "      <td>2012-09-17</td>\n",
       "      <td>2012-09-17</td>\n",
       "      <td>0</td>\n",
       "      <td>False</td>\n",
       "      <td>2012.0</td>\n",
       "      <td>2012.0</td>\n",
       "    </tr>\n",
       "    <tr>\n",
       "      <th>5</th>\n",
       "      <td>moon-daepo-bbq-2-los-angeles</td>\n",
       "      <td>#2 MOON BBQ</td>\n",
       "      <td>Moon Daepo BBQ 2</td>\n",
       "      <td>478 N WESTERN AVE</td>\n",
       "      <td>478 N Western Ave</td>\n",
       "      <td>150</td>\n",
       "      <td>3</td>\n",
       "      <td>92.0</td>\n",
       "      <td>$$</td>\n",
       "      <td>korean</td>\n",
       "      <td>...</td>\n",
       "      <td>34.079609</td>\n",
       "      <td>-118.308664</td>\n",
       "      <td>553.0</td>\n",
       "      <td>2.806510</td>\n",
       "      <td>2012-04-29</td>\n",
       "      <td>2017-03-01</td>\n",
       "      <td>1767</td>\n",
       "      <td>False</td>\n",
       "      <td>2017.0</td>\n",
       "      <td>2012.0</td>\n",
       "    </tr>\n",
       "    <tr>\n",
       "      <th>9</th>\n",
       "      <td>1st-wok-los-angeles</td>\n",
       "      <td>1 WOK</td>\n",
       "      <td>1st Wok</td>\n",
       "      <td>5565 W MANCHESTER AVE</td>\n",
       "      <td>5565 W Manchester Ave</td>\n",
       "      <td>30</td>\n",
       "      <td>3</td>\n",
       "      <td>92.0</td>\n",
       "      <td>$</td>\n",
       "      <td>chinese</td>\n",
       "      <td>...</td>\n",
       "      <td>33.960025</td>\n",
       "      <td>-118.378183</td>\n",
       "      <td>42.0</td>\n",
       "      <td>3.857143</td>\n",
       "      <td>2010-03-21</td>\n",
       "      <td>2017-01-13</td>\n",
       "      <td>2490</td>\n",
       "      <td>False</td>\n",
       "      <td>2017.0</td>\n",
       "      <td>2010.0</td>\n",
       "    </tr>\n",
       "    <tr>\n",
       "      <th>14</th>\n",
       "      <td>trimana-los-angeles-17</td>\n",
       "      <td>10880 WILSHIRE TRIMANA</td>\n",
       "      <td>Trimana</td>\n",
       "      <td>10880 WILSHIRE BLVD</td>\n",
       "      <td>10880 Wilshire Blvd</td>\n",
       "      <td>60</td>\n",
       "      <td>3</td>\n",
       "      <td>98.0</td>\n",
       "      <td>$</td>\n",
       "      <td>sandwiches</td>\n",
       "      <td>...</td>\n",
       "      <td>34.058468</td>\n",
       "      <td>-118.442909</td>\n",
       "      <td>29.0</td>\n",
       "      <td>3.379310</td>\n",
       "      <td>2009-07-13</td>\n",
       "      <td>2017-02-08</td>\n",
       "      <td>2767</td>\n",
       "      <td>False</td>\n",
       "      <td>2017.0</td>\n",
       "      <td>2009.0</td>\n",
       "    </tr>\n",
       "    <tr>\n",
       "      <th>16</th>\n",
       "      <td>thai-silk-express-los-angeles</td>\n",
       "      <td>1632THAI SILK EXPRESS</td>\n",
       "      <td>Thai Silk Express</td>\n",
       "      <td>1260 S SOTO ST</td>\n",
       "      <td>1260 S Soto St</td>\n",
       "      <td>30</td>\n",
       "      <td>3</td>\n",
       "      <td>93.0</td>\n",
       "      <td>$</td>\n",
       "      <td>thai</td>\n",
       "      <td>...</td>\n",
       "      <td>34.026290</td>\n",
       "      <td>-118.219210</td>\n",
       "      <td>84.0</td>\n",
       "      <td>3.750000</td>\n",
       "      <td>2009-12-21</td>\n",
       "      <td>2017-03-03</td>\n",
       "      <td>2629</td>\n",
       "      <td>False</td>\n",
       "      <td>2017.0</td>\n",
       "      <td>2009.0</td>\n",
       "    </tr>\n",
       "  </tbody>\n",
       "</table>\n",
       "<p>5 rows × 22 columns</p>\n",
       "</div>"
      ],
      "text/plain": [
       "                           bus_id             search_name               name  \\\n",
       "4          dal-dae-po-los-angeles             #2 MOON BBQ         Dal Dae Po   \n",
       "5    moon-daepo-bbq-2-los-angeles             #2 MOON BBQ   Moon Daepo BBQ 2   \n",
       "9             1st-wok-los-angeles                   1 WOK            1st Wok   \n",
       "14         trimana-los-angeles-17  10880 WILSHIRE TRIMANA            Trimana   \n",
       "16  thai-silk-express-los-angeles   1632THAI SILK EXPRESS  Thai Silk Express   \n",
       "\n",
       "           search_address              address_y  max_seats  risk_level  \\\n",
       "4       478 N WESTERN AVE      478 N Western Ave        150           3   \n",
       "5       478 N WESTERN AVE      478 N Western Ave        150           3   \n",
       "9   5565 W MANCHESTER AVE  5565 W Manchester Ave         30           3   \n",
       "14    10880 WILSHIRE BLVD    10880 Wilshire Blvd         60           3   \n",
       "16         1260 S SOTO ST         1260 S Soto St         30           3   \n",
       "\n",
       "    inspect_score price       cat_1    ...       latitude   longitude  \\\n",
       "4            92.0     $      korean    ...      34.079599 -118.308788   \n",
       "5            92.0    $$      korean    ...      34.079609 -118.308664   \n",
       "9            92.0     $     chinese    ...      33.960025 -118.378183   \n",
       "14           98.0     $  sandwiches    ...      34.058468 -118.442909   \n",
       "16           93.0     $        thai    ...      34.026290 -118.219210   \n",
       "\n",
       "    num_reviews  avg_rating  min_rvw_dt  max_rvw_dt est_rst_open closed  \\\n",
       "4           1.0    5.000000  2012-09-17  2012-09-17            0  False   \n",
       "5         553.0    2.806510  2012-04-29  2017-03-01         1767  False   \n",
       "9          42.0    3.857143  2010-03-21  2017-01-13         2490  False   \n",
       "14         29.0    3.379310  2009-07-13  2017-02-08         2767  False   \n",
       "16         84.0    3.750000  2009-12-21  2017-03-03         2629  False   \n",
       "\n",
       "    max_rvw_yr min_rvw_yr  \n",
       "4       2012.0     2012.0  \n",
       "5       2017.0     2012.0  \n",
       "9       2017.0     2010.0  \n",
       "14      2017.0     2009.0  \n",
       "16      2017.0     2009.0  \n",
       "\n",
       "[5 rows x 22 columns]"
      ]
     },
     "execution_count": 7,
     "metadata": {},
     "output_type": "execute_result"
    }
   ],
   "source": [
    "ylp_lacnty_df.head()"
   ]
  },
  {
   "cell_type": "code",
   "execution_count": 8,
   "metadata": {
    "collapsed": false
   },
   "outputs": [
    {
     "name": "stderr",
     "output_type": "stream",
     "text": [
      "/Users/annaheller/anaconda/lib/python2.7/site-packages/numpy/lib/arraysetops.py:200: FutureWarning: numpy not_equal will not check object identity in the future. The comparison did not return the same result as suggested by the identity (`is`)) and will change.\n",
      "  flag = np.concatenate(([True], aux[1:] != aux[:-1]))\n"
     ]
    }
   ],
   "source": [
    "le = LabelEncoder()\n",
    "ylp_lacnty_df['price'] = le.fit_transform(ylp_lacnty_df['price'].values)\n",
    "ylp_lacnty_df['cat_1'] = le.fit_transform(ylp_lacnty_df['cat_1'].values)\n",
    "ylp_lacnty_df['cat_2'] = le.fit_transform(ylp_lacnty_df['cat_2'].values)\n",
    "ylp_lacnty_df['closed'] = le.fit_transform(ylp_lacnty_df['closed'].values)\n",
    "ylp_lacnty_df['zip_code'] = le.fit_transform(ylp_lacnty_df['zip_code'].values)"
   ]
  },
  {
   "cell_type": "code",
   "execution_count": 9,
   "metadata": {
    "collapsed": false
   },
   "outputs": [
    {
     "data": {
      "text/html": [
       "<div>\n",
       "<table border=\"1\" class=\"dataframe\">\n",
       "  <thead>\n",
       "    <tr style=\"text-align: right;\">\n",
       "      <th></th>\n",
       "      <th>bus_id</th>\n",
       "      <th>search_name</th>\n",
       "      <th>name</th>\n",
       "      <th>search_address</th>\n",
       "      <th>address_y</th>\n",
       "      <th>max_seats</th>\n",
       "      <th>risk_level</th>\n",
       "      <th>inspect_score</th>\n",
       "      <th>price</th>\n",
       "      <th>cat_1</th>\n",
       "      <th>...</th>\n",
       "      <th>latitude</th>\n",
       "      <th>longitude</th>\n",
       "      <th>num_reviews</th>\n",
       "      <th>avg_rating</th>\n",
       "      <th>min_rvw_dt</th>\n",
       "      <th>max_rvw_dt</th>\n",
       "      <th>est_rst_open</th>\n",
       "      <th>closed</th>\n",
       "      <th>max_rvw_yr</th>\n",
       "      <th>min_rvw_yr</th>\n",
       "    </tr>\n",
       "  </thead>\n",
       "  <tbody>\n",
       "    <tr>\n",
       "      <th>4</th>\n",
       "      <td>dal-dae-po-los-angeles</td>\n",
       "      <td>#2 MOON BBQ</td>\n",
       "      <td>Dal Dae Po</td>\n",
       "      <td>478 N WESTERN AVE</td>\n",
       "      <td>478 N Western Ave</td>\n",
       "      <td>150</td>\n",
       "      <td>3</td>\n",
       "      <td>92.0</td>\n",
       "      <td>1</td>\n",
       "      <td>87</td>\n",
       "      <td>...</td>\n",
       "      <td>34.079599</td>\n",
       "      <td>-118.308788</td>\n",
       "      <td>1.0</td>\n",
       "      <td>5.000000</td>\n",
       "      <td>2012-09-17</td>\n",
       "      <td>2012-09-17</td>\n",
       "      <td>0</td>\n",
       "      <td>0</td>\n",
       "      <td>2012.0</td>\n",
       "      <td>2012.0</td>\n",
       "    </tr>\n",
       "    <tr>\n",
       "      <th>5</th>\n",
       "      <td>moon-daepo-bbq-2-los-angeles</td>\n",
       "      <td>#2 MOON BBQ</td>\n",
       "      <td>Moon Daepo BBQ 2</td>\n",
       "      <td>478 N WESTERN AVE</td>\n",
       "      <td>478 N Western Ave</td>\n",
       "      <td>150</td>\n",
       "      <td>3</td>\n",
       "      <td>92.0</td>\n",
       "      <td>2</td>\n",
       "      <td>87</td>\n",
       "      <td>...</td>\n",
       "      <td>34.079609</td>\n",
       "      <td>-118.308664</td>\n",
       "      <td>553.0</td>\n",
       "      <td>2.806510</td>\n",
       "      <td>2012-04-29</td>\n",
       "      <td>2017-03-01</td>\n",
       "      <td>1767</td>\n",
       "      <td>0</td>\n",
       "      <td>2017.0</td>\n",
       "      <td>2012.0</td>\n",
       "    </tr>\n",
       "    <tr>\n",
       "      <th>9</th>\n",
       "      <td>1st-wok-los-angeles</td>\n",
       "      <td>1 WOK</td>\n",
       "      <td>1st Wok</td>\n",
       "      <td>5565 W MANCHESTER AVE</td>\n",
       "      <td>5565 W Manchester Ave</td>\n",
       "      <td>30</td>\n",
       "      <td>3</td>\n",
       "      <td>92.0</td>\n",
       "      <td>1</td>\n",
       "      <td>35</td>\n",
       "      <td>...</td>\n",
       "      <td>33.960025</td>\n",
       "      <td>-118.378183</td>\n",
       "      <td>42.0</td>\n",
       "      <td>3.857143</td>\n",
       "      <td>2010-03-21</td>\n",
       "      <td>2017-01-13</td>\n",
       "      <td>2490</td>\n",
       "      <td>0</td>\n",
       "      <td>2017.0</td>\n",
       "      <td>2010.0</td>\n",
       "    </tr>\n",
       "    <tr>\n",
       "      <th>14</th>\n",
       "      <td>trimana-los-angeles-17</td>\n",
       "      <td>10880 WILSHIRE TRIMANA</td>\n",
       "      <td>Trimana</td>\n",
       "      <td>10880 WILSHIRE BLVD</td>\n",
       "      <td>10880 Wilshire Blvd</td>\n",
       "      <td>60</td>\n",
       "      <td>3</td>\n",
       "      <td>98.0</td>\n",
       "      <td>1</td>\n",
       "      <td>116</td>\n",
       "      <td>...</td>\n",
       "      <td>34.058468</td>\n",
       "      <td>-118.442909</td>\n",
       "      <td>29.0</td>\n",
       "      <td>3.379310</td>\n",
       "      <td>2009-07-13</td>\n",
       "      <td>2017-02-08</td>\n",
       "      <td>2767</td>\n",
       "      <td>0</td>\n",
       "      <td>2017.0</td>\n",
       "      <td>2009.0</td>\n",
       "    </tr>\n",
       "    <tr>\n",
       "      <th>16</th>\n",
       "      <td>thai-silk-express-los-angeles</td>\n",
       "      <td>1632THAI SILK EXPRESS</td>\n",
       "      <td>Thai Silk Express</td>\n",
       "      <td>1260 S SOTO ST</td>\n",
       "      <td>1260 S Soto St</td>\n",
       "      <td>30</td>\n",
       "      <td>3</td>\n",
       "      <td>93.0</td>\n",
       "      <td>1</td>\n",
       "      <td>135</td>\n",
       "      <td>...</td>\n",
       "      <td>34.026290</td>\n",
       "      <td>-118.219210</td>\n",
       "      <td>84.0</td>\n",
       "      <td>3.750000</td>\n",
       "      <td>2009-12-21</td>\n",
       "      <td>2017-03-03</td>\n",
       "      <td>2629</td>\n",
       "      <td>0</td>\n",
       "      <td>2017.0</td>\n",
       "      <td>2009.0</td>\n",
       "    </tr>\n",
       "  </tbody>\n",
       "</table>\n",
       "<p>5 rows × 22 columns</p>\n",
       "</div>"
      ],
      "text/plain": [
       "                           bus_id             search_name               name  \\\n",
       "4          dal-dae-po-los-angeles             #2 MOON BBQ         Dal Dae Po   \n",
       "5    moon-daepo-bbq-2-los-angeles             #2 MOON BBQ   Moon Daepo BBQ 2   \n",
       "9             1st-wok-los-angeles                   1 WOK            1st Wok   \n",
       "14         trimana-los-angeles-17  10880 WILSHIRE TRIMANA            Trimana   \n",
       "16  thai-silk-express-los-angeles   1632THAI SILK EXPRESS  Thai Silk Express   \n",
       "\n",
       "           search_address              address_y  max_seats  risk_level  \\\n",
       "4       478 N WESTERN AVE      478 N Western Ave        150           3   \n",
       "5       478 N WESTERN AVE      478 N Western Ave        150           3   \n",
       "9   5565 W MANCHESTER AVE  5565 W Manchester Ave         30           3   \n",
       "14    10880 WILSHIRE BLVD    10880 Wilshire Blvd         60           3   \n",
       "16         1260 S SOTO ST         1260 S Soto St         30           3   \n",
       "\n",
       "    inspect_score  price  cat_1     ...       latitude   longitude  \\\n",
       "4            92.0      1     87     ...      34.079599 -118.308788   \n",
       "5            92.0      2     87     ...      34.079609 -118.308664   \n",
       "9            92.0      1     35     ...      33.960025 -118.378183   \n",
       "14           98.0      1    116     ...      34.058468 -118.442909   \n",
       "16           93.0      1    135     ...      34.026290 -118.219210   \n",
       "\n",
       "    num_reviews  avg_rating  min_rvw_dt  max_rvw_dt est_rst_open closed  \\\n",
       "4           1.0    5.000000  2012-09-17  2012-09-17            0      0   \n",
       "5         553.0    2.806510  2012-04-29  2017-03-01         1767      0   \n",
       "9          42.0    3.857143  2010-03-21  2017-01-13         2490      0   \n",
       "14         29.0    3.379310  2009-07-13  2017-02-08         2767      0   \n",
       "16         84.0    3.750000  2009-12-21  2017-03-03         2629      0   \n",
       "\n",
       "    max_rvw_yr  min_rvw_yr  \n",
       "4       2012.0      2012.0  \n",
       "5       2017.0      2012.0  \n",
       "9       2017.0      2010.0  \n",
       "14      2017.0      2009.0  \n",
       "16      2017.0      2009.0  \n",
       "\n",
       "[5 rows x 22 columns]"
      ]
     },
     "execution_count": 9,
     "metadata": {},
     "output_type": "execute_result"
    }
   ],
   "source": [
    "ylp_lacnty_df.head()"
   ]
  },
  {
   "cell_type": "code",
   "execution_count": 10,
   "metadata": {
    "collapsed": true
   },
   "outputs": [],
   "source": [
    "corr = ylp_lacnty_df.corr()\n",
    "\n",
    "for i in corr:\n",
    "    new_col = 'abs_{}'.format(i)\n",
    "    corr[new_col] = [abs(x) for x in corr[i]]\n",
    "\n",
    "corr_abs = corr[[col for col in corr if 'abs' in col]]\n",
    "corr = corr[[col for col in corr if 'abs' not in col]]"
   ]
  },
  {
   "cell_type": "code",
   "execution_count": 11,
   "metadata": {
    "collapsed": false
   },
   "outputs": [
    {
     "data": {
      "image/png": "[encoded data removed]",
      "text/plain": [
       "<matplotlib.figure.Figure at 0x11631cdd0>"
      ]
     },
     "metadata": {},
     "output_type": "display_data"
    }
   ],
   "source": [
    "mask = np.zeros_like(corr)\n",
    "mask[np.triu_indices_from(mask, 0)] = True\n",
    "with sns.axes_style(\"white\"):\n",
    "    ax = sns.heatmap(corr, mask=mask, square=True, cmap='RdBu')\n",
    "    plt.xticks(rotation=45, ha='right')\n",
    "    plt.title('Actual Correlation')"
   ]
  },
  {
   "cell_type": "code",
   "execution_count": 12,
   "metadata": {
    "collapsed": true
   },
   "outputs": [],
   "source": [
    "X = ylp_lacnty_df[['price', 'cat_1', 'cat_2', 'zip_code',\n",
    "                   'latitude', 'longitude', 'num_reviews', \n",
    "                   'avg_rating', 'min_rvw_yr', 'max_rvw_yr',\n",
    "                   'est_rst_open']]\n",
    "y = ylp_lacnty_df['closed']"
   ]
  },
  {
   "cell_type": "code",
   "execution_count": 13,
   "metadata": {
    "collapsed": true
   },
   "outputs": [],
   "source": [
    "X_train, X_test, y_train, y_test = train_test_split(X, y, test_size=0.25)"
   ]
  },
  {
   "cell_type": "code",
   "execution_count": 14,
   "metadata": {
    "collapsed": true
   },
   "outputs": [],
   "source": [
    "dtc = DecisionTreeClassifier()"
   ]
  },
  {
   "cell_type": "code",
   "execution_count": 15,
   "metadata": {
    "collapsed": false
   },
   "outputs": [
    {
     "data": {
      "text/plain": [
       "(1.0, 0.84378563283922459)"
      ]
     },
     "execution_count": 15,
     "metadata": {},
     "output_type": "execute_result"
    }
   ],
   "source": [
    "dtc.fit(X_train, y_train)\n",
    "dtc.score(X_train, y_train), dtc.score(X_test, y_test)"
   ]
  },
  {
   "cell_type": "code",
   "execution_count": 17,
   "metadata": {
    "collapsed": false
   },
   "outputs": [
    {
     "data": {
      "text/plain": [
       "[[0, 1, 2, 3, 4, 5, 6, 7, 8, 9, 10]]"
      ]
     },
     "execution_count": 17,
     "metadata": {},
     "output_type": "execute_result"
    }
   ],
   "source": [
    "max_depth_"
   ]
  },
  {
   "cell_type": "code",
   "execution_count": 37,
   "metadata": {
    "collapsed": false
   },
   "outputs": [],
   "source": [
    "max_depth_ = range(1, 11, 1)\n",
    "scores = []\n",
    "\n",
    "for i in max_depth_:\n",
    "    rf = RandomForestClassifier(max_depth=i)\n",
    "    rf.fit(X_train, y_train)\n",
    "    scores.append((i, rf.score(X_train, y_train), 'train'))\n",
    "    scores.append((i, rf.score(X_test, y_test), 'test'))"
   ]
  },
  {
   "cell_type": "code",
   "execution_count": 40,
   "metadata": {
    "collapsed": false
   },
   "outputs": [],
   "source": [
    "scores = pd.DataFrame(scores)"
   ]
  },
  {
   "cell_type": "code",
   "execution_count": 41,
   "metadata": {
    "collapsed": false,
    "scrolled": false
   },
   "outputs": [
    {
     "data": {
      "image/png": "[encoded data removed]",
      "text/plain": [
       "<matplotlib.figure.Figure at 0x11ab9c550>"
      ]
     },
     "metadata": {},
     "output_type": "display_data"
    }
   ],
   "source": [
    "sns.barplot(x=0, y=1, hue=2, data=scores, )\n",
    "plt.show()"
   ]
  },
  {
   "cell_type": "code",
   "execution_count": 23,
   "metadata": {
    "collapsed": false
   },
   "outputs": [
    {
     "data": {
      "text/plain": [
       "[0.78107183580387685,\n",
       " 0.80843785632839227,\n",
       " 0.83352337514253139,\n",
       " 0.87913340935005702,\n",
       " 0.8688711516533637,\n",
       " 0.87229190421892822,\n",
       " 0.87115165336374001,\n",
       " 0.88711516533637402,\n",
       " 0.88141391106043332,\n",
       " 0.88483466362599772]"
      ]
     },
     "execution_count": 23,
     "metadata": {},
     "output_type": "execute_result"
    }
   ],
   "source": [
    "test_scores"
   ]
  },
  {
   "cell_type": "code",
   "execution_count": null,
   "metadata": {
    "collapsed": true
   },
   "outputs": [],
   "source": []
  }
 ],
 "metadata": {
  "anaconda-cloud": {},
  "kernelspec": {
   "display_name": "Python [conda root]",
   "language": "python",
   "name": "conda-root-py"
  },
  "language_info": {
   "codemirror_mode": {
    "name": "ipython",
    "version": 2
   },
   "file_extension": ".py",
   "mimetype": "text/x-python",
   "name": "python",
   "nbconvert_exporter": "python",
   "pygments_lexer": "ipython2",
   "version": "2.7.12"
  }
 },
 "nbformat": 4,
 "nbformat_minor": 1
}
