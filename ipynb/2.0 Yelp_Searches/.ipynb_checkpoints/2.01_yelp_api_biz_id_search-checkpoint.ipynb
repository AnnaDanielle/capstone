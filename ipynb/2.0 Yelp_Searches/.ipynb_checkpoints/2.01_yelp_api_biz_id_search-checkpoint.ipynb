{
 "cells": [
  {
   "cell_type": "markdown",
   "metadata": {},
   "source": [
    "# 2.01 - Group 0 - Yelp API - Business ID Search"
   ]
  },
  {
   "cell_type": "code",
   "execution_count": 1,
   "metadata": {
    "collapsed": true
   },
   "outputs": [],
   "source": [
    "import os\n",
    "os.chdir('../../')"
   ]
  },
  {
   "cell_type": "code",
   "execution_count": 2,
   "metadata": {
    "collapsed": false
   },
   "outputs": [],
   "source": [
    "from sklearn.externals import joblib\n",
    "from urllib import urlencode\n",
    "import lib.yelp_api as yp\n",
    "import pandas as pd\n",
    "import requests\n",
    "import json\n",
    "import re"
   ]
  },
  {
   "cell_type": "markdown",
   "metadata": {},
   "source": [
    "### <span style=\"color:teal\"> Load in Group </span>"
   ]
  },
  {
   "cell_type": "code",
   "execution_count": 3,
   "metadata": {
    "collapsed": false
   },
   "outputs": [],
   "source": [
    "yelp_df = pd.read_pickle('data/mtch_srch_rslts_pd.pkl')"
   ]
  },
  {
   "cell_type": "markdown",
   "metadata": {},
   "source": [
    "### <span style=\"color:teal\"> Business ID Requests </span>"
   ]
  },
  {
   "cell_type": "code",
   "execution_count": 4,
   "metadata": {
    "collapsed": true
   },
   "outputs": [],
   "source": [
    "bus_ids = yelp_df['bus_id'].values"
   ]
  },
  {
   "cell_type": "code",
   "execution_count": 5,
   "metadata": {
    "collapsed": false
   },
   "outputs": [],
   "source": [
    "# ratings = yp.yelp_api_calls_business_id(bus_ids)"
   ]
  },
  {
   "cell_type": "code",
   "execution_count": 6,
   "metadata": {
    "collapsed": true
   },
   "outputs": [],
   "source": [
    "# 'my-moms-bakeshop-los-angeles' kept failing--it looks like the url doesn't exist."
   ]
  },
  {
   "cell_type": "code",
   "execution_count": 7,
   "metadata": {
    "collapsed": false,
    "scrolled": true
   },
   "outputs": [],
   "source": [
    "# joblib.dump(ratings, 'data/yelp_api_ratings_all.pkl')"
   ]
  },
  {
   "cell_type": "code",
   "execution_count": 8,
   "metadata": {
    "collapsed": false
   },
   "outputs": [],
   "source": [
    "ratings = joblib.load('data/yelp_api_ratings_all.pkl')"
   ]
  },
  {
   "cell_type": "code",
   "execution_count": 9,
   "metadata": {
    "collapsed": false
   },
   "outputs": [],
   "source": [
    "rating_dict = {}\n",
    "for key, value in ratings.items():\n",
    "    value_list = []\n",
    "    value_list.append(value[0])\n",
    "    value_list.append(value[1])\n",
    "    value_set = set(value)\n",
    "    for v in value_set:\n",
    "        try:\n",
    "            value_list.append(v[0])\n",
    "            value_list.append(v[1])\n",
    "            value_list.append(v[2])\n",
    "        except:\n",
    "            pass\n",
    "        \n",
    "        rating_dict[key] = value_list"
   ]
  },
  {
   "cell_type": "code",
   "execution_count": 10,
   "metadata": {
    "collapsed": true
   },
   "outputs": [],
   "source": [
    "columns_tuples = [('author_'+str(i), 'post_date_'+str(i), 'author_rating_'+str(i)) for i in range(0,40)]\n",
    "individual_columns = [col for tup in columns_tuples for col in tup]"
   ]
  },
  {
   "cell_type": "code",
   "execution_count": 11,
   "metadata": {
    "collapsed": false
   },
   "outputs": [],
   "source": [
    "columns = ['num_reviews', 'avg_rating'] + individual_columns\n",
    "reviews_df = pd.DataFrame(rating_dict.values(), \n",
    "                          index = rating_dict.keys(), \n",
    "                          columns = columns)"
   ]
  },
  {
   "cell_type": "code",
   "execution_count": 12,
   "metadata": {
    "collapsed": false
   },
   "outputs": [
    {
     "data": {
      "text/html": [
       "<div>\n",
       "<table border=\"1\" class=\"dataframe\">\n",
       "  <thead>\n",
       "    <tr style=\"text-align: right;\">\n",
       "      <th></th>\n",
       "      <th>num_reviews</th>\n",
       "      <th>avg_rating</th>\n",
       "      <th>author_0</th>\n",
       "      <th>post_date_0</th>\n",
       "      <th>author_rating_0</th>\n",
       "      <th>author_1</th>\n",
       "      <th>post_date_1</th>\n",
       "      <th>author_rating_1</th>\n",
       "      <th>author_2</th>\n",
       "      <th>post_date_2</th>\n",
       "      <th>...</th>\n",
       "      <th>author_rating_36</th>\n",
       "      <th>author_37</th>\n",
       "      <th>post_date_37</th>\n",
       "      <th>author_rating_37</th>\n",
       "      <th>author_38</th>\n",
       "      <th>post_date_38</th>\n",
       "      <th>author_rating_38</th>\n",
       "      <th>author_39</th>\n",
       "      <th>post_date_39</th>\n",
       "      <th>author_rating_39</th>\n",
       "    </tr>\n",
       "  </thead>\n",
       "  <tbody>\n",
       "    <tr>\n",
       "      <th>edibol-los-angeles</th>\n",
       "      <td>311</td>\n",
       "      <td>4.250804</td>\n",
       "      <td>Tanner D.</td>\n",
       "      <td>2015-08-01</td>\n",
       "      <td>5.0</td>\n",
       "      <td>Chelsie N.</td>\n",
       "      <td>2017-01-12</td>\n",
       "      <td>5.0</td>\n",
       "      <td>Felor H.</td>\n",
       "      <td>2017-02-28</td>\n",
       "      <td>...</td>\n",
       "      <td>5.0</td>\n",
       "      <td>Nicol G.</td>\n",
       "      <td>2015-07-28</td>\n",
       "      <td>5.0</td>\n",
       "      <td>Elena H.</td>\n",
       "      <td>2015-07-25</td>\n",
       "      <td>5.0</td>\n",
       "      <td>Jackie S.</td>\n",
       "      <td>2015-07-19</td>\n",
       "      <td>2.0</td>\n",
       "    </tr>\n",
       "    <tr>\n",
       "      <th>thai-dishes-los-angeles</th>\n",
       "      <td>307</td>\n",
       "      <td>3.361564</td>\n",
       "      <td>Fara A.</td>\n",
       "      <td>2008-02-23</td>\n",
       "      <td>3.0</td>\n",
       "      <td>Kevin S.</td>\n",
       "      <td>2017-02-28</td>\n",
       "      <td>5.0</td>\n",
       "      <td>Robynn C.</td>\n",
       "      <td>2017-02-12</td>\n",
       "      <td>...</td>\n",
       "      <td>1.0</td>\n",
       "      <td>Valarie S.</td>\n",
       "      <td>2017-02-10</td>\n",
       "      <td>5.0</td>\n",
       "      <td>Maria V.</td>\n",
       "      <td>2017-02-28</td>\n",
       "      <td>3.0</td>\n",
       "      <td>Seeso C.</td>\n",
       "      <td>2008-06-30</td>\n",
       "      <td>5.0</td>\n",
       "    </tr>\n",
       "    <tr>\n",
       "      <th>brew-you-los-angeles</th>\n",
       "      <td>54</td>\n",
       "      <td>3.796296</td>\n",
       "      <td>Jaimie L.</td>\n",
       "      <td>2011-07-03</td>\n",
       "      <td>4.0</td>\n",
       "      <td>Jane L.</td>\n",
       "      <td>2014-04-12</td>\n",
       "      <td>5.0</td>\n",
       "      <td>Peter W.</td>\n",
       "      <td>2013-02-15</td>\n",
       "      <td>...</td>\n",
       "      <td>1.0</td>\n",
       "      <td>John F.</td>\n",
       "      <td>2015-03-22</td>\n",
       "      <td>4.0</td>\n",
       "      <td>Mark C.</td>\n",
       "      <td>2013-04-25</td>\n",
       "      <td>4.0</td>\n",
       "      <td>Ibrahim C.</td>\n",
       "      <td>2013-01-11</td>\n",
       "      <td>5.0</td>\n",
       "    </tr>\n",
       "    <tr>\n",
       "      <th>lins-chinese-cuisine-los-angeles</th>\n",
       "      <td>74</td>\n",
       "      <td>2.945946</td>\n",
       "      <td>Raechel R.</td>\n",
       "      <td>2010-04-20</td>\n",
       "      <td>4.0</td>\n",
       "      <td>Queue H.</td>\n",
       "      <td>2015-08-19</td>\n",
       "      <td>4.0</td>\n",
       "      <td>J. W.</td>\n",
       "      <td>2007-06-18</td>\n",
       "      <td>...</td>\n",
       "      <td>5.0</td>\n",
       "      <td>Rosa C.</td>\n",
       "      <td>2007-12-18</td>\n",
       "      <td>1.0</td>\n",
       "      <td>Kelly H.</td>\n",
       "      <td>2010-10-10</td>\n",
       "      <td>2.0</td>\n",
       "      <td>Holly M.</td>\n",
       "      <td>2015-08-08</td>\n",
       "      <td>3.0</td>\n",
       "    </tr>\n",
       "    <tr>\n",
       "      <th>little-bear-los-angeles</th>\n",
       "      <td>620</td>\n",
       "      <td>3.643548</td>\n",
       "      <td>Ellie B.</td>\n",
       "      <td>2017-01-08</td>\n",
       "      <td>2.0</td>\n",
       "      <td>Alyssa G.</td>\n",
       "      <td>2017-02-20</td>\n",
       "      <td>5.0</td>\n",
       "      <td>Leona V.</td>\n",
       "      <td>2017-01-17</td>\n",
       "      <td>...</td>\n",
       "      <td>4.0</td>\n",
       "      <td>Hemang S.</td>\n",
       "      <td>2012-01-06</td>\n",
       "      <td>5.0</td>\n",
       "      <td>Vanessa S.</td>\n",
       "      <td>2016-11-19</td>\n",
       "      <td>4.0</td>\n",
       "      <td>Foster K.</td>\n",
       "      <td>2012-01-11</td>\n",
       "      <td>5.0</td>\n",
       "    </tr>\n",
       "  </tbody>\n",
       "</table>\n",
       "<p>5 rows × 122 columns</p>\n",
       "</div>"
      ],
      "text/plain": [
       "                                  num_reviews  avg_rating    author_0  \\\n",
       "edibol-los-angeles                        311    4.250804   Tanner D.   \n",
       "thai-dishes-los-angeles                   307    3.361564     Fara A.   \n",
       "brew-you-los-angeles                       54    3.796296   Jaimie L.   \n",
       "lins-chinese-cuisine-los-angeles           74    2.945946  Raechel R.   \n",
       "little-bear-los-angeles                   620    3.643548    Ellie B.   \n",
       "\n",
       "                                 post_date_0  author_rating_0    author_1  \\\n",
       "edibol-los-angeles                2015-08-01              5.0  Chelsie N.   \n",
       "thai-dishes-los-angeles           2008-02-23              3.0    Kevin S.   \n",
       "brew-you-los-angeles              2011-07-03              4.0     Jane L.   \n",
       "lins-chinese-cuisine-los-angeles  2010-04-20              4.0    Queue H.   \n",
       "little-bear-los-angeles           2017-01-08              2.0   Alyssa G.   \n",
       "\n",
       "                                 post_date_1  author_rating_1   author_2  \\\n",
       "edibol-los-angeles                2017-01-12              5.0   Felor H.   \n",
       "thai-dishes-los-angeles           2017-02-28              5.0  Robynn C.   \n",
       "brew-you-los-angeles              2014-04-12              5.0   Peter W.   \n",
       "lins-chinese-cuisine-los-angeles  2015-08-19              4.0      J. W.   \n",
       "little-bear-los-angeles           2017-02-20              5.0   Leona V.   \n",
       "\n",
       "                                 post_date_2        ...         \\\n",
       "edibol-los-angeles                2017-02-28        ...          \n",
       "thai-dishes-los-angeles           2017-02-12        ...          \n",
       "brew-you-los-angeles              2013-02-15        ...          \n",
       "lins-chinese-cuisine-los-angeles  2007-06-18        ...          \n",
       "little-bear-los-angeles           2017-01-17        ...          \n",
       "\n",
       "                                  author_rating_36   author_37 post_date_37  \\\n",
       "edibol-los-angeles                             5.0    Nicol G.   2015-07-28   \n",
       "thai-dishes-los-angeles                        1.0  Valarie S.   2017-02-10   \n",
       "brew-you-los-angeles                           1.0     John F.   2015-03-22   \n",
       "lins-chinese-cuisine-los-angeles               5.0     Rosa C.   2007-12-18   \n",
       "little-bear-los-angeles                        4.0   Hemang S.   2012-01-06   \n",
       "\n",
       "                                  author_rating_37   author_38 post_date_38  \\\n",
       "edibol-los-angeles                             5.0    Elena H.   2015-07-25   \n",
       "thai-dishes-los-angeles                        5.0    Maria V.   2017-02-28   \n",
       "brew-you-los-angeles                           4.0     Mark C.   2013-04-25   \n",
       "lins-chinese-cuisine-los-angeles               1.0    Kelly H.   2010-10-10   \n",
       "little-bear-los-angeles                        5.0  Vanessa S.   2016-11-19   \n",
       "\n",
       "                                  author_rating_38   author_39 post_date_39  \\\n",
       "edibol-los-angeles                             5.0   Jackie S.   2015-07-19   \n",
       "thai-dishes-los-angeles                        3.0    Seeso C.   2008-06-30   \n",
       "brew-you-los-angeles                           4.0  Ibrahim C.   2013-01-11   \n",
       "lins-chinese-cuisine-los-angeles               2.0    Holly M.   2015-08-08   \n",
       "little-bear-los-angeles                        4.0   Foster K.   2012-01-11   \n",
       "\n",
       "                                  author_rating_39  \n",
       "edibol-los-angeles                             2.0  \n",
       "thai-dishes-los-angeles                        5.0  \n",
       "brew-you-los-angeles                           5.0  \n",
       "lins-chinese-cuisine-los-angeles               3.0  \n",
       "little-bear-los-angeles                        5.0  \n",
       "\n",
       "[5 rows x 122 columns]"
      ]
     },
     "execution_count": 12,
     "metadata": {},
     "output_type": "execute_result"
    }
   ],
   "source": [
    "reviews_df.head()"
   ]
  },
  {
   "cell_type": "code",
   "execution_count": 13,
   "metadata": {
    "collapsed": false
   },
   "outputs": [],
   "source": [
    "yelp_data_reviews_df = pd.merge(yelp_df, reviews_df, \n",
    "                                left_index=True, \n",
    "                                right_index=True)"
   ]
  },
  {
   "cell_type": "code",
   "execution_count": 14,
   "metadata": {
    "collapsed": false
   },
   "outputs": [],
   "source": [
    "pd.to_pickle(yelp_data_reviews_df, 'data/yelp_data_reviews.pkl')"
   ]
  }
 ],
 "metadata": {
  "anaconda-cloud": {},
  "kernelspec": {
   "display_name": "Python [conda root]",
   "language": "python",
   "name": "conda-root-py"
  },
  "language_info": {
   "codemirror_mode": {
    "name": "ipython",
    "version": 2
   },
   "file_extension": ".py",
   "mimetype": "text/x-python",
   "name": "python",
   "nbconvert_exporter": "python",
   "pygments_lexer": "ipython2",
   "version": "2.7.12"
  }
 },
 "nbformat": 4,
 "nbformat_minor": 1
}
