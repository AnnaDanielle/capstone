{
 "cells": [
  {
   "cell_type": "markdown",
   "metadata": {},
   "source": [
    "# 2.01 - Group 0 - Yelp API - Business ID Search"
   ]
  },
  {
   "cell_type": "code",
   "execution_count": 1,
   "metadata": {
    "collapsed": true
   },
   "outputs": [],
   "source": [
    "import os\n",
    "os.chdir('../../')"
   ]
  },
  {
   "cell_type": "code",
   "execution_count": 2,
   "metadata": {
    "collapsed": false
   },
   "outputs": [],
   "source": [
    "from sklearn.externals import joblib\n",
    "from urllib import urlencode\n",
    "import lib.yelp_api as yp\n",
    "import pandas as pd\n",
    "import requests\n",
    "import json\n",
    "import re"
   ]
  },
  {
   "cell_type": "markdown",
   "metadata": {},
   "source": [
    "### <span style=\"color:teal\"> Load in Group </span>"
   ]
  },
  {
   "cell_type": "code",
   "execution_count": 3,
   "metadata": {
    "collapsed": false
   },
   "outputs": [],
   "source": [
    "yelp_df = joblib.load('data/mtch_srch_rslts_{}.pkl'.format(0))"
   ]
  },
  {
   "cell_type": "code",
   "execution_count": 22,
   "metadata": {
    "collapsed": false
   },
   "outputs": [
    {
     "data": {
      "text/html": [
       "<div>\n",
       "<table border=\"1\" class=\"dataframe\">\n",
       "  <thead>\n",
       "    <tr style=\"text-align: right;\">\n",
       "      <th></th>\n",
       "      <th>search_name</th>\n",
       "      <th>search_address</th>\n",
       "      <th>bus_id</th>\n",
       "      <th>name</th>\n",
       "      <th>price</th>\n",
       "      <th>cat_1</th>\n",
       "      <th>cat_2</th>\n",
       "      <th>closed</th>\n",
       "      <th>address</th>\n",
       "      <th>city</th>\n",
       "      <th>zip_code</th>\n",
       "      <th>latitude</th>\n",
       "      <th>longitude</th>\n",
       "    </tr>\n",
       "  </thead>\n",
       "  <tbody>\n",
       "    <tr>\n",
       "      <th>biancas-deli-and-café-los-angeles-2</th>\n",
       "      <td>BIANCAS DELI</td>\n",
       "      <td>1307 N VERMONT AVE</td>\n",
       "      <td>biancas-deli-and-café-los-angeles-2</td>\n",
       "      <td>Bianca's Deli &amp; Café</td>\n",
       "      <td>$</td>\n",
       "      <td>delis</td>\n",
       "      <td>armenian</td>\n",
       "      <td>False</td>\n",
       "      <td>1307 N Vermont Ave</td>\n",
       "      <td>Los Angeles</td>\n",
       "      <td>90027</td>\n",
       "      <td>34.095997</td>\n",
       "      <td>-118.29213</td>\n",
       "    </tr>\n",
       "  </tbody>\n",
       "</table>\n",
       "</div>"
      ],
      "text/plain": [
       "                                      search_name      search_address  \\\n",
       "biancas-deli-and-café-los-angeles-2  BIANCAS DELI  1307 N VERMONT AVE   \n",
       "\n",
       "                                                                  bus_id  \\\n",
       "biancas-deli-and-café-los-angeles-2  biancas-deli-and-café-los-angeles-2   \n",
       "\n",
       "                                                     name price  cat_1  \\\n",
       "biancas-deli-and-café-los-angeles-2  Bianca's Deli & Café     $  delis   \n",
       "\n",
       "                                        cat_2 closed             address  \\\n",
       "biancas-deli-and-café-los-angeles-2  armenian  False  1307 N Vermont Ave   \n",
       "\n",
       "                                            city zip_code   latitude  \\\n",
       "biancas-deli-and-café-los-angeles-2  Los Angeles    90027  34.095997   \n",
       "\n",
       "                                     longitude  \n",
       "biancas-deli-and-café-los-angeles-2 -118.29213  "
      ]
     },
     "execution_count": 22,
     "metadata": {},
     "output_type": "execute_result"
    }
   ],
   "source": [
    "yelp_df[yelp_df['bus_id'].str.contains('bianca')]"
   ]
  },
  {
   "cell_type": "code",
   "execution_count": 4,
   "metadata": {
    "collapsed": false
   },
   "outputs": [
    {
     "data": {
      "text/plain": [
       "1697"
      ]
     },
     "execution_count": 4,
     "metadata": {},
     "output_type": "execute_result"
    }
   ],
   "source": [
    "len(yelp_df['search_name'])"
   ]
  },
  {
   "cell_type": "code",
   "execution_count": 21,
   "metadata": {
    "collapsed": false
   },
   "outputs": [
    {
     "ename": "ValueError",
     "evalue": "invalid \\x escape",
     "output_type": "error",
     "traceback": [
      "\u001b[0;31mValueError\u001b[0m\u001b[0;31m:\u001b[0m invalid \\x escape\n"
     ]
    }
   ],
   "source": [
    "for bus in bus_ids:\n",
    "    if '\\xe' in bus:\n",
    "        print bus"
   ]
  },
  {
   "cell_type": "markdown",
   "metadata": {},
   "source": [
    "### <span style=\"color:teal\"> Business ID Requests </span>"
   ]
  },
  {
   "cell_type": "code",
   "execution_count": 6,
   "metadata": {
    "collapsed": false
   },
   "outputs": [],
   "source": [
    "bus_ids = yelp_df['bus_id'].values"
   ]
  },
  {
   "cell_type": "code",
   "execution_count": 33,
   "metadata": {
    "collapsed": false
   },
   "outputs": [
    {
     "name": "stdout",
     "output_type": "stream",
     "text": [
      "biancas-deli-and-café-los-angeles-2\n",
      "beaming-organic-superfood-café-west-hollywood\n",
      "3-square-café-and-röckenwagner-bakery-venice\n",
      "market-café-los-angeles-6\n",
      "blvd-café-los-angeles\n",
      "beaming-organic-superfood-café-santa-monica\n",
      "boston-café-hacienda-heights-2\n",
      "brü-haus-los-angeles-2\n",
      "bánh-xèo-quán-rosemead-2\n",
      "al-layali-restaurant-and-café-west-hollywood\n",
      "bread-crumbs-café-woodland-hills\n",
      "apétit-los-angeles-2\n",
      "bäco-mercat-los-angeles-2\n"
     ]
    }
   ],
   "source": [
    "for i in yelp_df['bus_id']:\n",
    "    try:\n",
    "        url = 'https://www.yelp.com/biz/{}?sort_by=date_asc'.format(i)\n",
    "    except:\n",
    "        yelp_df."
   ]
  },
  {
   "cell_type": "code",
   "execution_count": 25,
   "metadata": {
    "collapsed": false
   },
   "outputs": [
    {
     "ename": "UnicodeEncodeError",
     "evalue": "'ascii' codec can't encode character u'\\xe9' in position 20: ordinal not in range(128)",
     "output_type": "error",
     "traceback": [
      "\u001b[0;31m---------------------------------------------------------------------------\u001b[0m",
      "\u001b[0;31mUnicodeEncodeError\u001b[0m                        Traceback (most recent call last)",
      "\u001b[0;32m<ipython-input-25-19ac16b3d8d6>\u001b[0m in \u001b[0;36m<module>\u001b[0;34m()\u001b[0m\n\u001b[1;32m      2\u001b[0m     \u001b[0;32mif\u001b[0m \u001b[0;34m'bianca'\u001b[0m \u001b[0;32min\u001b[0m \u001b[0mi\u001b[0m\u001b[0;34m:\u001b[0m\u001b[0;34m\u001b[0m\u001b[0m\n\u001b[1;32m      3\u001b[0m         \u001b[0mvalues\u001b[0m \u001b[0;34m=\u001b[0m \u001b[0;34m[\u001b[0m\u001b[0;34m]\u001b[0m\u001b[0;34m\u001b[0m\u001b[0m\n\u001b[0;32m----> 4\u001b[0;31m         \u001b[0murl\u001b[0m \u001b[0;34m=\u001b[0m \u001b[0;34m'https://www.yelp.com/biz/{}?sort_by=date_asc'\u001b[0m\u001b[0;34m.\u001b[0m\u001b[0mformat\u001b[0m\u001b[0;34m(\u001b[0m\u001b[0mi\u001b[0m\u001b[0;34m)\u001b[0m\u001b[0;34m\u001b[0m\u001b[0m\n\u001b[0m\u001b[1;32m      5\u001b[0m         \u001b[0mrqst\u001b[0m \u001b[0;34m=\u001b[0m \u001b[0mrequests\u001b[0m\u001b[0;34m.\u001b[0m\u001b[0mrequest\u001b[0m\u001b[0;34m(\u001b[0m\u001b[0;34m'GET'\u001b[0m\u001b[0;34m,\u001b[0m \u001b[0murl\u001b[0m\u001b[0;34m,\u001b[0m \u001b[0mheaders\u001b[0m\u001b[0;34m=\u001b[0m\u001b[0mheaders\u001b[0m\u001b[0;34m)\u001b[0m\u001b[0;34m\u001b[0m\u001b[0m\n\u001b[1;32m      6\u001b[0m         \u001b[0mbeg_reviews\u001b[0m \u001b[0;34m=\u001b[0m \u001b[0mrqst\u001b[0m\u001b[0;34m.\u001b[0m\u001b[0mcontent\u001b[0m\u001b[0;34m.\u001b[0m\u001b[0msplit\u001b[0m\u001b[0;34m(\u001b[0m\u001b[0;34m'<script type=\"application/ld+json\">'\u001b[0m\u001b[0;34m)\u001b[0m\u001b[0;34m[\u001b[0m\u001b[0;36m1\u001b[0m\u001b[0;34m]\u001b[0m\u001b[0;34m.\u001b[0m\u001b[0msplit\u001b[0m\u001b[0;34m(\u001b[0m\u001b[0;34m', \"servesCuisine\":'\u001b[0m\u001b[0;34m)\u001b[0m\u001b[0;34m[\u001b[0m\u001b[0;36m0\u001b[0m\u001b[0;34m]\u001b[0m \u001b[0;34m+\u001b[0m \u001b[0;34m'}'\u001b[0m\u001b[0;34m\u001b[0m\u001b[0m\n",
      "\u001b[0;31mUnicodeEncodeError\u001b[0m: 'ascii' codec can't encode character u'\\xe9' in position 20: ordinal not in range(128)"
     ]
    }
   ],
   "source": [
    "for i in yelp_df['bus_id']:\n",
    "    if 'bianca' in i:\n",
    "        values = []\n",
    "        try:\n",
    "            url = 'https://www.yelp.com/biz/{}?sort_by=date_asc'.format(i)\n",
    "        rqst = requests.request('GET', url, headers=headers)\n",
    "        beg_reviews = rqst.content.split('<script type=\"application/ld+json\">')[1].split(', \"servesCuisine\":')[0] + '}'\n",
    "        try:\n",
    "            json_reviews = json.loads(beg_reviews)    \n",
    "        except:\n",
    "            beg_reviews = rqst.content.split('<script type=\"application/ld+json\">')[1].split(', \"priceRange\":')[0] + '}'\n",
    "            json_reviews = json.loads(beg_reviews)\n",
    "        rating_cnt = json_reviews['aggregateRating']['reviewCount']\n",
    "        rating_val = json_reviews['aggregateRating']['ratingValue']\n",
    "        values.append(rating_cnt)\n",
    "        values.append(rating_val)\n",
    "        for review in json_reviews['review']:\n",
    "            values.append((review['author'], review['datePublished'], review['reviewRating']['ratingValue']))\n",
    "        print values"
   ]
  },
  {
   "cell_type": "code",
   "execution_count": 18,
   "metadata": {
    "collapsed": false
   },
   "outputs": [
    {
     "data": {
      "text/plain": [
       "array([u'bentoss-torrance', u'cavi-at-the-big-oaks-santa-clarita',\n",
       "       u'blue-ladder-cafe-los-angeles',\n",
       "       u'biancas-deli-and-caf\\xe9-los-angeles-2',\n",
       "       u'bella-donna-special-events-and-bakery-canoga-park-2',\n",
       "       u'pao-jao-dumpling-house-los-angeles',\n",
       "       u'big-mamas-and-papas-pizzeria-los-angeles-2',\n",
       "       u'buffalo-bruces-mercantile-sylmar',\n",
       "       u'american-tea-room-los-angeles', u'archrist-bakery-glendale',\n",
       "       u'basket-burger-cafe-los-angeles', u'bonefish-grill-valencia',\n",
       "       u'thirty-one-baskin-robbins-ice-cream-stores-reseda',\n",
       "       u'bubba-gump-shrimp-santa-monica-2'], dtype=object)"
      ]
     },
     "execution_count": 18,
     "metadata": {},
     "output_type": "execute_result"
    }
   ],
   "source": [
    "bus_ids[116:130]"
   ]
  },
  {
   "cell_type": "code",
   "execution_count": 8,
   "metadata": {
    "collapsed": true
   },
   "outputs": [],
   "source": [
    "from lib.yelp_api import ratings"
   ]
  },
  {
   "cell_type": "code",
   "execution_count": 17,
   "metadata": {
    "collapsed": false
   },
   "outputs": [
    {
     "data": {
      "text/plain": [
       "119"
      ]
     },
     "execution_count": 17,
     "metadata": {},
     "output_type": "execute_result"
    }
   ],
   "source": [
    "len(ratings.keys())"
   ]
  },
  {
   "cell_type": "code",
   "execution_count": 7,
   "metadata": {
    "collapsed": false
   },
   "outputs": [
    {
     "ename": "UnicodeEncodeError",
     "evalue": "'ascii' codec can't encode character u'\\xe9' in position 20: ordinal not in range(128)",
     "output_type": "error",
     "traceback": [
      "\u001b[0;31m---------------------------------------------------------------------------\u001b[0m",
      "\u001b[0;31mUnicodeEncodeError\u001b[0m                        Traceback (most recent call last)",
      "\u001b[0;32m<ipython-input-7-51404d901c5a>\u001b[0m in \u001b[0;36m<module>\u001b[0;34m()\u001b[0m\n\u001b[0;32m----> 1\u001b[0;31m \u001b[0mratings\u001b[0m \u001b[0;34m=\u001b[0m \u001b[0myp\u001b[0m\u001b[0;34m.\u001b[0m\u001b[0myelp_api_calls_business_id\u001b[0m\u001b[0;34m(\u001b[0m\u001b[0mbus_ids\u001b[0m\u001b[0;34m)\u001b[0m\u001b[0;34m\u001b[0m\u001b[0m\n\u001b[0m",
      "\u001b[0;32m/Users/annaheller/DSI/dsi_workspace/projects/project-captsone/lib/yelp_api.py\u001b[0m in \u001b[0;36myelp_api_calls_business_id\u001b[0;34m(list_of_business_ids)\u001b[0m\n\u001b[1;32m    338\u001b[0m     \u001b[0;32mfor\u001b[0m \u001b[0mbus\u001b[0m \u001b[0;32min\u001b[0m \u001b[0mlist_of_business_ids\u001b[0m\u001b[0;34m:\u001b[0m\u001b[0;34m\u001b[0m\u001b[0m\n\u001b[1;32m    339\u001b[0m         \u001b[0mvalues\u001b[0m \u001b[0;34m=\u001b[0m \u001b[0;34m[\u001b[0m\u001b[0;34m]\u001b[0m\u001b[0;34m\u001b[0m\u001b[0m\n\u001b[0;32m--> 340\u001b[0;31m         \u001b[0murl\u001b[0m \u001b[0;34m=\u001b[0m \u001b[0;34m'https://www.yelp.com/biz/{}?sort_by=date_asc'\u001b[0m\u001b[0;34m.\u001b[0m\u001b[0mformat\u001b[0m\u001b[0;34m(\u001b[0m\u001b[0mbus\u001b[0m\u001b[0;34m)\u001b[0m\u001b[0;34m\u001b[0m\u001b[0m\n\u001b[0m\u001b[1;32m    341\u001b[0m         \u001b[0msleep\u001b[0m\u001b[0;34m(\u001b[0m\u001b[0;36m30\u001b[0m\u001b[0;34m)\u001b[0m\u001b[0;34m\u001b[0m\u001b[0m\n\u001b[1;32m    342\u001b[0m         \u001b[0mrqst\u001b[0m \u001b[0;34m=\u001b[0m \u001b[0mrequests\u001b[0m\u001b[0;34m.\u001b[0m\u001b[0mrequest\u001b[0m\u001b[0;34m(\u001b[0m\u001b[0;34m'GET'\u001b[0m\u001b[0;34m,\u001b[0m \u001b[0murl\u001b[0m\u001b[0;34m,\u001b[0m \u001b[0mheaders\u001b[0m\u001b[0;34m=\u001b[0m\u001b[0mheaders\u001b[0m\u001b[0;34m)\u001b[0m\u001b[0;34m\u001b[0m\u001b[0m\n",
      "\u001b[0;31mUnicodeEncodeError\u001b[0m: 'ascii' codec can't encode character u'\\xe9' in position 20: ordinal not in range(128)"
     ]
    }
   ],
   "source": [
    "ratings = yp.yelp_api_calls_business_id(bus_ids)"
   ]
  },
  {
   "cell_type": "code",
   "execution_count": null,
   "metadata": {
    "collapsed": true
   },
   "outputs": [],
   "source": [
    "joblib.dump(yelp_api_ratings, 'data/yelp_api_ratings_{}.pkl'.format(0))"
   ]
  },
  {
   "cell_type": "code",
   "execution_count": null,
   "metadata": {
    "collapsed": false
   },
   "outputs": [],
   "source": [
    "rating_dict = {}\n",
    "for key, value in ratings.items():\n",
    "    value_list = []\n",
    "    value_list.append(value[0])\n",
    "    value_list.append(value[1])\n",
    "    value_set = set(value)\n",
    "    for v in value_set:\n",
    "        try:\n",
    "            value_list.append(v[0])\n",
    "            value_list.append(v[1])\n",
    "            value_list.append(v[2])\n",
    "        except:\n",
    "            pass\n",
    "        \n",
    "        rating_dict[key] = value_list"
   ]
  },
  {
   "cell_type": "code",
   "execution_count": null,
   "metadata": {
    "collapsed": true
   },
   "outputs": [],
   "source": [
    "columns_tuples = [('author_'+str(i), 'post_date_'+str(i), 'author_rating_'+str(i)) for i in range(0,40)]\n",
    "individual_columns = [col for tup in columns_tuples for col in tup]"
   ]
  },
  {
   "cell_type": "code",
   "execution_count": null,
   "metadata": {
    "collapsed": false
   },
   "outputs": [],
   "source": [
    "columns = ['num_reviews', 'avg_rating'] + individual_columns\n",
    "reviews_df = pd.DataFrame(rating_dict.values(), \n",
    "                          index = rating_dict.keys(), \n",
    "                          columns = columns)"
   ]
  },
  {
   "cell_type": "code",
   "execution_count": null,
   "metadata": {
    "collapsed": false
   },
   "outputs": [],
   "source": [
    "reviews_df.head()"
   ]
  },
  {
   "cell_type": "code",
   "execution_count": null,
   "metadata": {
    "collapsed": false
   },
   "outputs": [],
   "source": [
    "yelp_data_reviews_df = pd.merge(yelp_df, reviews_df, \n",
    "                                left_index=True, \n",
    "                                right_index=True)"
   ]
  },
  {
   "cell_type": "code",
   "execution_count": null,
   "metadata": {
    "collapsed": false
   },
   "outputs": [],
   "source": [
    "yelp_data_reviews_df.head()"
   ]
  },
  {
   "cell_type": "code",
   "execution_count": null,
   "metadata": {
    "collapsed": false
   },
   "outputs": [],
   "source": [
    "joblib.dump(yelp_data_reviews_df, 'data/yelp_data_reviews_df_{}.pkl'.format(0))"
   ]
  }
 ],
 "metadata": {
  "anaconda-cloud": {},
  "kernelspec": {
   "display_name": "Python [conda root]",
   "language": "python",
   "name": "conda-root-py"
  },
  "language_info": {
   "codemirror_mode": {
    "name": "ipython",
    "version": 2
   },
   "file_extension": ".py",
   "mimetype": "text/x-python",
   "name": "python",
   "nbconvert_exporter": "python",
   "pygments_lexer": "ipython2",
   "version": "2.7.12"
  }
 },
 "nbformat": 4,
 "nbformat_minor": 1
}
