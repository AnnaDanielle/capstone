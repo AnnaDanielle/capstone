{
 "cells": [
  {
   "cell_type": "markdown",
   "metadata": {},
   "source": [
    "# 2.01 - Group 0 - Yelp API - Business ID Search"
   ]
  },
  {
   "cell_type": "code",
   "execution_count": 1,
   "metadata": {
    "collapsed": true
   },
   "outputs": [],
   "source": [
    "import os\n",
    "os.chdir('../../')"
   ]
  },
  {
   "cell_type": "code",
   "execution_count": 2,
   "metadata": {
    "collapsed": false
   },
   "outputs": [],
   "source": [
    "from sklearn.externals import joblib\n",
    "from datetime import datetime\n",
    "from urllib import urlencode\n",
    "import lib.yelp_api as yp\n",
    "import pandas as pd\n",
    "import requests\n",
    "import json\n",
    "import re"
   ]
  },
  {
   "cell_type": "markdown",
   "metadata": {},
   "source": [
    "### <span style=\"color:teal\"> Load in Group </span>"
   ]
  },
  {
   "cell_type": "code",
   "execution_count": 3,
   "metadata": {
    "collapsed": false
   },
   "outputs": [],
   "source": [
    "yelp_df = joblib.load('data/mtch_srch_rslts_{}.pkl'.format(0))"
   ]
  },
  {
   "cell_type": "code",
   "execution_count": 4,
   "metadata": {
    "collapsed": false
   },
   "outputs": [
    {
     "data": {
      "text/html": [
       "<div>\n",
       "<table border=\"1\" class=\"dataframe\">\n",
       "  <thead>\n",
       "    <tr style=\"text-align: right;\">\n",
       "      <th></th>\n",
       "      <th>search_name</th>\n",
       "      <th>search_address</th>\n",
       "      <th>bus_id</th>\n",
       "      <th>name</th>\n",
       "      <th>price</th>\n",
       "      <th>cat_1</th>\n",
       "      <th>cat_2</th>\n",
       "      <th>closed</th>\n",
       "      <th>address</th>\n",
       "      <th>city</th>\n",
       "      <th>zip_code</th>\n",
       "      <th>latitude</th>\n",
       "      <th>longitude</th>\n",
       "    </tr>\n",
       "  </thead>\n",
       "  <tbody>\n",
       "    <tr>\n",
       "      <th>brew-you-los-angeles</th>\n",
       "      <td>BREW YOU COFFEE</td>\n",
       "      <td>808 S WESTERN AVE</td>\n",
       "      <td>brew-you-los-angeles</td>\n",
       "      <td>Brew You</td>\n",
       "      <td>$</td>\n",
       "      <td>coffee</td>\n",
       "      <td>icecream</td>\n",
       "      <td>False</td>\n",
       "      <td>808 S Western Ave</td>\n",
       "      <td>Los Angeles</td>\n",
       "      <td>90005</td>\n",
       "      <td>34.05699</td>\n",
       "      <td>-118.30869</td>\n",
       "    </tr>\n",
       "  </tbody>\n",
       "</table>\n",
       "</div>"
      ],
      "text/plain": [
       "                          search_name     search_address  \\\n",
       "brew-you-los-angeles  BREW YOU COFFEE  808 S WESTERN AVE   \n",
       "\n",
       "                                    bus_id      name price   cat_1     cat_2  \\\n",
       "brew-you-los-angeles  brew-you-los-angeles  Brew You     $  coffee  icecream   \n",
       "\n",
       "                     closed            address         city zip_code  \\\n",
       "brew-you-los-angeles  False  808 S Western Ave  Los Angeles    90005   \n",
       "\n",
       "                      latitude  longitude  \n",
       "brew-you-los-angeles  34.05699 -118.30869  "
      ]
     },
     "execution_count": 4,
     "metadata": {},
     "output_type": "execute_result"
    }
   ],
   "source": [
    "yelp_df.head(1)"
   ]
  },
  {
   "cell_type": "markdown",
   "metadata": {},
   "source": [
    "### <span style=\"color:teal\"> Business ID Requests </span>"
   ]
  },
  {
   "cell_type": "code",
   "execution_count": 5,
   "metadata": {
    "collapsed": false
   },
   "outputs": [],
   "source": [
    "bus_ids = yelp_df['bus_id'].values"
   ]
  },
  {
   "cell_type": "code",
   "execution_count": 6,
   "metadata": {
    "collapsed": false
   },
   "outputs": [],
   "source": [
    "ratings = yp.yelp_api_calls_business_id(bus_ids)"
   ]
  },
  {
   "cell_type": "code",
   "execution_count": 7,
   "metadata": {
    "collapsed": false
   },
   "outputs": [],
   "source": [
    "rating_dict = {}\n",
    "for key, value in ratings.items():\n",
    "    value_list = []\n",
    "    value_list.append(value[0])\n",
    "    value_list.append(value[1])\n",
    "    value_set = set(value)\n",
    "    for v in value_set:\n",
    "        try:\n",
    "            value_list.append(v[0])\n",
    "            value_list.append(v[1])\n",
    "            value_list.append(v[2])\n",
    "        except:\n",
    "            pass\n",
    "        \n",
    "        rating_dict[key] = value_list"
   ]
  },
  {
   "cell_type": "code",
   "execution_count": 8,
   "metadata": {
    "collapsed": true
   },
   "outputs": [],
   "source": [
    "columns_tuples = [('author_'+str(i), 'post_date_'+str(i), 'author_rating_'+str(i)) for i in range(0,40)]\n",
    "individual_columns = [col for tup in columns_tuples for col in tup]"
   ]
  },
  {
   "cell_type": "code",
   "execution_count": 9,
   "metadata": {
    "collapsed": false
   },
   "outputs": [],
   "source": [
    "columns = ['num_reviews', 'avg_rating'] + individual_columns\n",
    "reviews_df = pd.DataFrame(rating_dict.values(), \n",
    "                          index = rating_dict.keys(), \n",
    "                          columns = columns)"
   ]
  },
  {
   "cell_type": "code",
   "execution_count": 10,
   "metadata": {
    "collapsed": false
   },
   "outputs": [
    {
     "data": {
      "text/html": [
       "<div>\n",
       "<table border=\"1\" class=\"dataframe\">\n",
       "  <thead>\n",
       "    <tr style=\"text-align: right;\">\n",
       "      <th></th>\n",
       "      <th>num_reviews</th>\n",
       "      <th>avg_rating</th>\n",
       "      <th>author_0</th>\n",
       "      <th>post_date_0</th>\n",
       "      <th>author_rating_0</th>\n",
       "      <th>author_1</th>\n",
       "      <th>post_date_1</th>\n",
       "      <th>author_rating_1</th>\n",
       "      <th>author_2</th>\n",
       "      <th>post_date_2</th>\n",
       "      <th>...</th>\n",
       "      <th>author_rating_36</th>\n",
       "      <th>author_37</th>\n",
       "      <th>post_date_37</th>\n",
       "      <th>author_rating_37</th>\n",
       "      <th>author_38</th>\n",
       "      <th>post_date_38</th>\n",
       "      <th>author_rating_38</th>\n",
       "      <th>author_39</th>\n",
       "      <th>post_date_39</th>\n",
       "      <th>author_rating_39</th>\n",
       "    </tr>\n",
       "  </thead>\n",
       "  <tbody>\n",
       "    <tr>\n",
       "      <th>bontobagi-glendale</th>\n",
       "      <td>70</td>\n",
       "      <td>3.028571</td>\n",
       "      <td>Rose N.</td>\n",
       "      <td>2009-08-09</td>\n",
       "      <td>4</td>\n",
       "      <td>Dana N.</td>\n",
       "      <td>2009-12-21</td>\n",
       "      <td>4</td>\n",
       "      <td>M T.</td>\n",
       "      <td>2010-04-29</td>\n",
       "      <td>...</td>\n",
       "      <td>3.0</td>\n",
       "      <td>Sam N.</td>\n",
       "      <td>2015-06-25</td>\n",
       "      <td>2.0</td>\n",
       "      <td>Kar O.</td>\n",
       "      <td>2011-10-10</td>\n",
       "      <td>2.0</td>\n",
       "      <td>Stacy Y.</td>\n",
       "      <td>2015-09-07</td>\n",
       "      <td>1.0</td>\n",
       "    </tr>\n",
       "    <tr>\n",
       "      <th>boulevard-cafe-palmdale</th>\n",
       "      <td>33</td>\n",
       "      <td>4.090909</td>\n",
       "      <td>Jason M.</td>\n",
       "      <td>2017-01-21</td>\n",
       "      <td>5</td>\n",
       "      <td>Dee B.</td>\n",
       "      <td>2015-06-30</td>\n",
       "      <td>1</td>\n",
       "      <td>Brian B.</td>\n",
       "      <td>2016-10-15</td>\n",
       "      <td>...</td>\n",
       "      <td>NaN</td>\n",
       "      <td>None</td>\n",
       "      <td>None</td>\n",
       "      <td>NaN</td>\n",
       "      <td>None</td>\n",
       "      <td>None</td>\n",
       "      <td>NaN</td>\n",
       "      <td>None</td>\n",
       "      <td>None</td>\n",
       "      <td>NaN</td>\n",
       "    </tr>\n",
       "    <tr>\n",
       "      <th>brew-you-los-angeles</th>\n",
       "      <td>54</td>\n",
       "      <td>3.796296</td>\n",
       "      <td>Jaimie L.</td>\n",
       "      <td>2011-07-03</td>\n",
       "      <td>4</td>\n",
       "      <td>Jane L.</td>\n",
       "      <td>2014-04-12</td>\n",
       "      <td>5</td>\n",
       "      <td>Peter W.</td>\n",
       "      <td>2013-02-15</td>\n",
       "      <td>...</td>\n",
       "      <td>1.0</td>\n",
       "      <td>John F.</td>\n",
       "      <td>2015-03-22</td>\n",
       "      <td>4.0</td>\n",
       "      <td>Mark C.</td>\n",
       "      <td>2013-04-25</td>\n",
       "      <td>4.0</td>\n",
       "      <td>Ibrahim C.</td>\n",
       "      <td>2013-01-11</td>\n",
       "      <td>5.0</td>\n",
       "    </tr>\n",
       "    <tr>\n",
       "      <th>bibi-sara-woodland-hills</th>\n",
       "      <td>132</td>\n",
       "      <td>4.416667</td>\n",
       "      <td>Andrew M.</td>\n",
       "      <td>2013-02-05</td>\n",
       "      <td>5</td>\n",
       "      <td>Lynda H.</td>\n",
       "      <td>2016-10-30</td>\n",
       "      <td>5</td>\n",
       "      <td>Virginia D.</td>\n",
       "      <td>2016-08-02</td>\n",
       "      <td>...</td>\n",
       "      <td>4.0</td>\n",
       "      <td>Fabby H.</td>\n",
       "      <td>2016-11-04</td>\n",
       "      <td>5.0</td>\n",
       "      <td>Troy H.</td>\n",
       "      <td>2011-12-28</td>\n",
       "      <td>4.0</td>\n",
       "      <td>Baktash A.</td>\n",
       "      <td>2013-07-15</td>\n",
       "      <td>5.0</td>\n",
       "    </tr>\n",
       "    <tr>\n",
       "      <th>astro-karaoke-lomita</th>\n",
       "      <td>68</td>\n",
       "      <td>4.397059</td>\n",
       "      <td>Marco S.</td>\n",
       "      <td>2010-08-27</td>\n",
       "      <td>3</td>\n",
       "      <td>Mr M.</td>\n",
       "      <td>2016-03-21</td>\n",
       "      <td>4</td>\n",
       "      <td>Tory S.</td>\n",
       "      <td>2010-07-11</td>\n",
       "      <td>...</td>\n",
       "      <td>4.0</td>\n",
       "      <td>Sandie S.</td>\n",
       "      <td>2016-08-13</td>\n",
       "      <td>4.0</td>\n",
       "      <td>Tracy F.</td>\n",
       "      <td>2016-12-17</td>\n",
       "      <td>5.0</td>\n",
       "      <td>Michael K.</td>\n",
       "      <td>2015-09-25</td>\n",
       "      <td>5.0</td>\n",
       "    </tr>\n",
       "  </tbody>\n",
       "</table>\n",
       "<p>5 rows × 122 columns</p>\n",
       "</div>"
      ],
      "text/plain": [
       "                          num_reviews  avg_rating   author_0 post_date_0  \\\n",
       "bontobagi-glendale                 70    3.028571    Rose N.  2009-08-09   \n",
       "boulevard-cafe-palmdale            33    4.090909   Jason M.  2017-01-21   \n",
       "brew-you-los-angeles               54    3.796296  Jaimie L.  2011-07-03   \n",
       "bibi-sara-woodland-hills          132    4.416667  Andrew M.  2013-02-05   \n",
       "astro-karaoke-lomita               68    4.397059   Marco S.  2010-08-27   \n",
       "\n",
       "                          author_rating_0  author_1 post_date_1  \\\n",
       "bontobagi-glendale                      4   Dana N.  2009-12-21   \n",
       "boulevard-cafe-palmdale                 5    Dee B.  2015-06-30   \n",
       "brew-you-los-angeles                    4   Jane L.  2014-04-12   \n",
       "bibi-sara-woodland-hills                5  Lynda H.  2016-10-30   \n",
       "astro-karaoke-lomita                    3     Mr M.  2016-03-21   \n",
       "\n",
       "                          author_rating_1     author_2 post_date_2  \\\n",
       "bontobagi-glendale                      4         M T.  2010-04-29   \n",
       "boulevard-cafe-palmdale                 1     Brian B.  2016-10-15   \n",
       "brew-you-los-angeles                    5     Peter W.  2013-02-15   \n",
       "bibi-sara-woodland-hills                5  Virginia D.  2016-08-02   \n",
       "astro-karaoke-lomita                    4      Tory S.  2010-07-11   \n",
       "\n",
       "                                ...         author_rating_36  author_37  \\\n",
       "bontobagi-glendale              ...                      3.0     Sam N.   \n",
       "boulevard-cafe-palmdale         ...                      NaN       None   \n",
       "brew-you-los-angeles            ...                      1.0    John F.   \n",
       "bibi-sara-woodland-hills        ...                      4.0   Fabby H.   \n",
       "astro-karaoke-lomita            ...                      4.0  Sandie S.   \n",
       "\n",
       "                         post_date_37  author_rating_37 author_38  \\\n",
       "bontobagi-glendale         2015-06-25               2.0    Kar O.   \n",
       "boulevard-cafe-palmdale          None               NaN      None   \n",
       "brew-you-los-angeles       2015-03-22               4.0   Mark C.   \n",
       "bibi-sara-woodland-hills   2016-11-04               5.0   Troy H.   \n",
       "astro-karaoke-lomita       2016-08-13               4.0  Tracy F.   \n",
       "\n",
       "                         post_date_38  author_rating_38   author_39  \\\n",
       "bontobagi-glendale         2011-10-10               2.0    Stacy Y.   \n",
       "boulevard-cafe-palmdale          None               NaN        None   \n",
       "brew-you-los-angeles       2013-04-25               4.0  Ibrahim C.   \n",
       "bibi-sara-woodland-hills   2011-12-28               4.0  Baktash A.   \n",
       "astro-karaoke-lomita       2016-12-17               5.0  Michael K.   \n",
       "\n",
       "                         post_date_39  author_rating_39  \n",
       "bontobagi-glendale         2015-09-07               1.0  \n",
       "boulevard-cafe-palmdale          None               NaN  \n",
       "brew-you-los-angeles       2013-01-11               5.0  \n",
       "bibi-sara-woodland-hills   2013-07-15               5.0  \n",
       "astro-karaoke-lomita       2015-09-25               5.0  \n",
       "\n",
       "[5 rows x 122 columns]"
      ]
     },
     "execution_count": 10,
     "metadata": {},
     "output_type": "execute_result"
    }
   ],
   "source": [
    "reviews_df.head()"
   ]
  },
  {
   "cell_type": "code",
   "execution_count": 15,
   "metadata": {
    "collapsed": false
   },
   "outputs": [],
   "source": [
    "yelp_data_reviews_df = pd.merge(yelp_df, reviews_df, \n",
    "                                left_index=True, \n",
    "                                right_index=True)"
   ]
  },
  {
   "cell_type": "code",
   "execution_count": 15,
   "metadata": {
    "collapsed": false
   },
   "outputs": [
    {
     "data": {
      "text/html": [
       "<div>\n",
       "<table border=\"1\" class=\"dataframe\">\n",
       "  <thead>\n",
       "    <tr style=\"text-align: right;\">\n",
       "      <th></th>\n",
       "      <th>search_name</th>\n",
       "      <th>search_address</th>\n",
       "      <th>bus_id</th>\n",
       "      <th>name</th>\n",
       "      <th>price</th>\n",
       "      <th>cat_1</th>\n",
       "      <th>cat_2</th>\n",
       "      <th>closed</th>\n",
       "      <th>address</th>\n",
       "      <th>city</th>\n",
       "      <th>...</th>\n",
       "      <th>author_rating_36</th>\n",
       "      <th>author_37</th>\n",
       "      <th>post_date_37</th>\n",
       "      <th>author_rating_37</th>\n",
       "      <th>author_38</th>\n",
       "      <th>post_date_38</th>\n",
       "      <th>author_rating_38</th>\n",
       "      <th>author_39</th>\n",
       "      <th>post_date_39</th>\n",
       "      <th>author_rating_39</th>\n",
       "    </tr>\n",
       "  </thead>\n",
       "  <tbody>\n",
       "    <tr>\n",
       "      <th>0</th>\n",
       "      <td>BREW YOU COFFEE</td>\n",
       "      <td>808 S WESTERN AVE</td>\n",
       "      <td>brew-you-los-angeles</td>\n",
       "      <td>Brew You</td>\n",
       "      <td>$</td>\n",
       "      <td>coffee</td>\n",
       "      <td>icecream</td>\n",
       "      <td>False</td>\n",
       "      <td>808 S Western Ave</td>\n",
       "      <td>Los Angeles</td>\n",
       "      <td>...</td>\n",
       "      <td>5</td>\n",
       "      <td>J M.</td>\n",
       "      <td>2011-10-03</td>\n",
       "      <td>4</td>\n",
       "      <td>Leonardo K.</td>\n",
       "      <td>2012-01-14</td>\n",
       "      <td>1</td>\n",
       "      <td>Chad F.</td>\n",
       "      <td>2012-02-07</td>\n",
       "      <td>5</td>\n",
       "    </tr>\n",
       "    <tr>\n",
       "      <th>1</th>\n",
       "      <td>BOULEVARD CAFE</td>\n",
       "      <td>2211 E PALMDALE BLVD</td>\n",
       "      <td>boulevard-cafe-palmdale</td>\n",
       "      <td>Boulevard Cafe</td>\n",
       "      <td>$</td>\n",
       "      <td>breakfast_brunch</td>\n",
       "      <td>cafes</td>\n",
       "      <td>False</td>\n",
       "      <td>2211 E Palmdale Blvd</td>\n",
       "      <td>Palmdale</td>\n",
       "      <td>...</td>\n",
       "      <td>4</td>\n",
       "      <td>Jennifer F.</td>\n",
       "      <td>2016-03-27</td>\n",
       "      <td>5</td>\n",
       "      <td>Valerie C.</td>\n",
       "      <td>2016-04-01</td>\n",
       "      <td>5</td>\n",
       "      <td>Nelson S.</td>\n",
       "      <td>2016-04-03</td>\n",
       "      <td>5</td>\n",
       "    </tr>\n",
       "    <tr>\n",
       "      <th>2</th>\n",
       "      <td>BIBI</td>\n",
       "      <td>4878 TOPANGA CANYON BLVD</td>\n",
       "      <td>bibi-sara-woodland-hills</td>\n",
       "      <td>Bibi Sara</td>\n",
       "      <td>$</td>\n",
       "      <td>persian</td>\n",
       "      <td>persian</td>\n",
       "      <td>False</td>\n",
       "      <td>4878 Topanga Canyon Blvd</td>\n",
       "      <td>Woodland Hills</td>\n",
       "      <td>...</td>\n",
       "      <td>5</td>\n",
       "      <td>Mary R.</td>\n",
       "      <td>2013-07-27</td>\n",
       "      <td>4</td>\n",
       "      <td>Steve E.</td>\n",
       "      <td>2013-08-02</td>\n",
       "      <td>5</td>\n",
       "      <td>Thomas K.</td>\n",
       "      <td>2013-08-22</td>\n",
       "      <td>5</td>\n",
       "    </tr>\n",
       "    <tr>\n",
       "      <th>3</th>\n",
       "      <td>BONTOBAGI</td>\n",
       "      <td>831 N PACIFIC AVE</td>\n",
       "      <td>bontobagi-glendale</td>\n",
       "      <td>Bontobagi</td>\n",
       "      <td>$$</td>\n",
       "      <td>korean</td>\n",
       "      <td>korean</td>\n",
       "      <td>False</td>\n",
       "      <td>831 N Pacific Ave</td>\n",
       "      <td>Glendale</td>\n",
       "      <td>...</td>\n",
       "      <td>4</td>\n",
       "      <td>Carina L.</td>\n",
       "      <td>2011-10-07</td>\n",
       "      <td>3</td>\n",
       "      <td>Kar O.</td>\n",
       "      <td>2011-10-10</td>\n",
       "      <td>2</td>\n",
       "      <td>Marina S.</td>\n",
       "      <td>2011-11-17</td>\n",
       "      <td>4</td>\n",
       "    </tr>\n",
       "    <tr>\n",
       "      <th>4</th>\n",
       "      <td>ASTRO</td>\n",
       "      <td>2150 LOMITA BLVD</td>\n",
       "      <td>astro-karaoke-lomita</td>\n",
       "      <td>Astro Karaoke</td>\n",
       "      <td>$$</td>\n",
       "      <td>karaoke</td>\n",
       "      <td>japanese</td>\n",
       "      <td>False</td>\n",
       "      <td>2150 Lomita Blvd</td>\n",
       "      <td>Lomita</td>\n",
       "      <td>...</td>\n",
       "      <td>5</td>\n",
       "      <td>Charles K.</td>\n",
       "      <td>2011-04-01</td>\n",
       "      <td>5</td>\n",
       "      <td>Duke C.</td>\n",
       "      <td>2011-05-12</td>\n",
       "      <td>4</td>\n",
       "      <td>Hiroshi S.</td>\n",
       "      <td>2011-07-16</td>\n",
       "      <td>5</td>\n",
       "    </tr>\n",
       "  </tbody>\n",
       "</table>\n",
       "<p>5 rows × 135 columns</p>\n",
       "</div>"
      ],
      "text/plain": [
       "       search_name            search_address                    bus_id  \\\n",
       "0  BREW YOU COFFEE         808 S WESTERN AVE      brew-you-los-angeles   \n",
       "1   BOULEVARD CAFE      2211 E PALMDALE BLVD   boulevard-cafe-palmdale   \n",
       "2             BIBI  4878 TOPANGA CANYON BLVD  bibi-sara-woodland-hills   \n",
       "3        BONTOBAGI         831 N PACIFIC AVE        bontobagi-glendale   \n",
       "4            ASTRO          2150 LOMITA BLVD      astro-karaoke-lomita   \n",
       "\n",
       "             name price             cat_1     cat_2 closed  \\\n",
       "0        Brew You     $            coffee  icecream  False   \n",
       "1  Boulevard Cafe     $  breakfast_brunch     cafes  False   \n",
       "2       Bibi Sara     $           persian   persian  False   \n",
       "3       Bontobagi    $$            korean    korean  False   \n",
       "4   Astro Karaoke    $$           karaoke  japanese  False   \n",
       "\n",
       "                    address            city       ...        author_rating_36  \\\n",
       "0         808 S Western Ave     Los Angeles       ...                       5   \n",
       "1      2211 E Palmdale Blvd        Palmdale       ...                       4   \n",
       "2  4878 Topanga Canyon Blvd  Woodland Hills       ...                       5   \n",
       "3         831 N Pacific Ave        Glendale       ...                       4   \n",
       "4          2150 Lomita Blvd          Lomita       ...                       5   \n",
       "\n",
       "     author_37  post_date_37 author_rating_37    author_38  post_date_38  \\\n",
       "0         J M.    2011-10-03                4  Leonardo K.    2012-01-14   \n",
       "1  Jennifer F.    2016-03-27                5   Valerie C.    2016-04-01   \n",
       "2      Mary R.    2013-07-27                4     Steve E.    2013-08-02   \n",
       "3    Carina L.    2011-10-07                3       Kar O.    2011-10-10   \n",
       "4   Charles K.    2011-04-01                5      Duke C.    2011-05-12   \n",
       "\n",
       "  author_rating_38   author_39  post_date_39 author_rating_39  \n",
       "0                1     Chad F.    2012-02-07                5  \n",
       "1                5   Nelson S.    2016-04-03                5  \n",
       "2                5   Thomas K.    2013-08-22                5  \n",
       "3                2   Marina S.    2011-11-17                4  \n",
       "4                4  Hiroshi S.    2011-07-16                5  \n",
       "\n",
       "[5 rows x 135 columns]"
      ]
     },
     "execution_count": 15,
     "metadata": {},
     "output_type": "execute_result"
    }
   ],
   "source": [
    "yelp_data_reviews_df.head()"
   ]
  },
  {
   "cell_type": "code",
   "execution_count": 16,
   "metadata": {
    "collapsed": false
   },
   "outputs": [
    {
     "data": {
      "text/plain": [
       "['data/yelp_data_reviews_df_0.pkl']"
      ]
     },
     "execution_count": 16,
     "metadata": {},
     "output_type": "execute_result"
    }
   ],
   "source": [
    "joblib.dump(yelp_data_reviews_df, 'data/yelp_data_reviews_df_{}.pkl'.format(0))"
   ]
  },
  {
   "cell_type": "code",
   "execution_count": null,
   "metadata": {
    "collapsed": true
   },
   "outputs": [],
   "source": []
  },
  {
   "cell_type": "code",
   "execution_count": null,
   "metadata": {
    "collapsed": true
   },
   "outputs": [],
   "source": []
  },
  {
   "cell_type": "code",
   "execution_count": null,
   "metadata": {
    "collapsed": true
   },
   "outputs": [],
   "source": []
  },
  {
   "cell_type": "code",
   "execution_count": null,
   "metadata": {
    "collapsed": true
   },
   "outputs": [],
   "source": []
  },
  {
   "cell_type": "code",
   "execution_count": null,
   "metadata": {
    "collapsed": true
   },
   "outputs": [],
   "source": []
  },
  {
   "cell_type": "code",
   "execution_count": 28,
   "metadata": {
    "collapsed": true
   },
   "outputs": [],
   "source": [
    "yelp_final_df['name'] = yelp_final_df['name'].str.replace(u'ñ', 'n')\n",
    "yelp_final_df['name'] = yelp_final_df['name'].str.replace(u'°C', ' celsius')\n",
    "yelp_final_df['name'] = yelp_final_df['name'].str.replace(u'Ü', 'u')\n",
    "yelp_final_df['name'] = yelp_final_df['name'].str.replace(u'ü', 'u')\n",
    "yelp_final_df['name'] = yelp_final_df['name'].str.replace(u'é', 'e')\n",
    "yelp_final_df['name'] = yelp_final_df['name'].str.replace(u'è', 'e')\n",
    "yelp_final_df['name'] = yelp_final_df['name'].str.replace(u'重', '')\n",
    "yelp_final_df['name'] = yelp_final_df['name'].str.replace(u'庆', '')\n",
    "yelp_final_df['name'] = yelp_final_df['name'].str.replace(u'小', '')\n",
    "yelp_final_df['name'] = yelp_final_df['name'].str.replace(u'面', '')\n",
    "yelp_final_df['name'] = yelp_final_df['name'].str.replace(u'ö', 'o')\n",
    "yelp_final_df['name'] = yelp_final_df['name'].str.replace(u'á', 'a')\n",
    "yelp_final_df['name'] = yelp_final_df['name'].str.replace(u'á', 'a')"
   ]
  },
  {
   "cell_type": "code",
   "execution_count": 29,
   "metadata": {
    "collapsed": true
   },
   "outputs": [],
   "source": [
    "yelp_final_df['name'] = yelp_final_df['name'].str.replace(' & ', ' and ')\n",
    "yelp_final_df['search_name'] = yelp_final_df['search_name'].str.replace(' & ', ' and ')"
   ]
  },
  {
   "cell_type": "code",
   "execution_count": 30,
   "metadata": {
    "collapsed": true
   },
   "outputs": [],
   "source": [
    "yelp_final_df['search_address'] = yelp_final_df['search_address'].str.replace(' N ', ' ')\n",
    "yelp_final_df['address'] = yelp_final_df['address'].str.replace(' N ', ' ')\n",
    "yelp_final_df['search_address'] = yelp_final_df['search_address'].str.replace(' E ', ' ')\n",
    "yelp_final_df['address'] = yelp_final_df['address'].str.replace(' E ', ' ')\n",
    "yelp_final_df['search_address'] = yelp_final_df['search_address'].str.replace(' S ', ' ')\n",
    "yelp_final_df['address'] = yelp_final_df['address'].str.replace(' S ', ' ')\n",
    "yelp_final_df['search_address'] = yelp_final_df['search_address'].str.replace(' W ', ' ')\n",
    "yelp_final_df['address'] = yelp_final_df['address'].str.replace(' W ', ' ')"
   ]
  },
  {
   "cell_type": "code",
   "execution_count": null,
   "metadata": {
    "collapsed": true
   },
   "outputs": [],
   "source": [
    "rest_df = joblib.load('data/rest_group_df.pkl')"
   ]
  }
 ],
 "metadata": {
  "anaconda-cloud": {},
  "kernelspec": {
   "display_name": "Python [conda root]",
   "language": "python",
   "name": "conda-root-py"
  },
  "language_info": {
   "codemirror_mode": {
    "name": "ipython",
    "version": 2
   },
   "file_extension": ".py",
   "mimetype": "text/x-python",
   "name": "python",
   "nbconvert_exporter": "python",
   "pygments_lexer": "ipython2",
   "version": "2.7.12"
  }
 },
 "nbformat": 4,
 "nbformat_minor": 1
}
