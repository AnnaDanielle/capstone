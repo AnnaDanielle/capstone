{
 "cells": [
  {
   "cell_type": "markdown",
   "metadata": {},
   "source": [
    "# 2.00 - Group 0 - Yelp API - Search"
   ]
  },
  {
   "cell_type": "code",
   "execution_count": 1,
   "metadata": {
    "collapsed": true
   },
   "outputs": [],
   "source": [
    "import os\n",
    "os.chdir('../../')"
   ]
  },
  {
   "cell_type": "code",
   "execution_count": 2,
   "metadata": {
    "collapsed": false
   },
   "outputs": [],
   "source": [
    "from sklearn.externals import joblib\n",
    "import lib.yelp_api as yp\n",
    "import pandas as pd\n",
    "import requests\n",
    "import json"
   ]
  },
  {
   "cell_type": "markdown",
   "metadata": {},
   "source": [
    "### <span style=\"color:teal\"> Load in Group </span>"
   ]
  },
  {
   "cell_type": "code",
   "execution_count": 3,
   "metadata": {
    "collapsed": true
   },
   "outputs": [],
   "source": [
    "rest_group_df = joblib.load('data/la_rest_group_df.pkl')"
   ]
  },
  {
   "cell_type": "code",
   "execution_count": 4,
   "metadata": {
    "collapsed": false
   },
   "outputs": [
    {
     "data": {
      "text/html": [
       "<div>\n",
       "<table border=\"1\" class=\"dataframe\">\n",
       "  <thead>\n",
       "    <tr style=\"text-align: right;\">\n",
       "      <th></th>\n",
       "      <th>facility</th>\n",
       "      <th>address</th>\n",
       "      <th>city</th>\n",
       "      <th>zip_cd</th>\n",
       "      <th>num_at_address</th>\n",
       "      <th>max_seats</th>\n",
       "      <th>phone</th>\n",
       "      <th>risk_level</th>\n",
       "      <th>last_inspect_date</th>\n",
       "      <th>inspect_score</th>\n",
       "      <th>cat</th>\n",
       "    </tr>\n",
       "  </thead>\n",
       "  <tbody>\n",
       "    <tr>\n",
       "      <th>0</th>\n",
       "      <td>#1 CAFE</td>\n",
       "      <td>2080 CENTURY PARK E</td>\n",
       "      <td>LOS ANGELES</td>\n",
       "      <td>90067</td>\n",
       "      <td>1</td>\n",
       "      <td>30</td>\n",
       "      <td>+1nan</td>\n",
       "      <td>3</td>\n",
       "      <td>08/18/2016</td>\n",
       "      <td>90.0</td>\n",
       "      <td>None</td>\n",
       "    </tr>\n",
       "  </tbody>\n",
       "</table>\n",
       "</div>"
      ],
      "text/plain": [
       "  facility              address         city zip_cd  num_at_address  \\\n",
       "0  #1 CAFE  2080 CENTURY PARK E  LOS ANGELES  90067               1   \n",
       "\n",
       "   max_seats  phone  risk_level last_inspect_date  inspect_score   cat  \n",
       "0         30  +1nan           3        08/18/2016           90.0  None  "
      ]
     },
     "execution_count": 4,
     "metadata": {},
     "output_type": "execute_result"
    }
   ],
   "source": [
    "rest_group_df.head(1)"
   ]
  },
  {
   "cell_type": "markdown",
   "metadata": {},
   "source": [
    "## <span style=\"color:teal\"> YELP API REQUEST </span>"
   ]
  },
  {
   "cell_type": "markdown",
   "metadata": {},
   "source": [
    "#### <span style=\"color:teal\"> Functions </span>"
   ]
  },
  {
   "cell_type": "markdown",
   "metadata": {},
   "source": [
    "- Create our Yelp search list\n",
    "    - `yp.create_searches`\n",
    "- Yelp Search\n",
    "    - `yp.yelp_api_calls`\n",
    "- Select necessary Yelp parameters\n",
    "    - `yp.format_srch_dict`\n",
    "- Check that Yelp search matches at least one (out of 30) of Yelp's returned matches, based on the digits of the address\n",
    "    - `yp.pick_correct_matches`"
   ]
  },
  {
   "cell_type": "markdown",
   "metadata": {},
   "source": [
    "#### <span style=\"color:teal\"> Process </span>"
   ]
  },
  {
   "cell_type": "markdown",
   "metadata": {},
   "source": [
    "- Run through the list of terms and locations to search Yelp, with a limit of 30 returns.\n",
    "- Remove any searches that came up 'blank' (or, failed) so we can iterate through the dictionary and not worry about empty lists\n",
    "- Pickle the dictionary so we can maintain the request data in its' purest format as we work with it and make changes"
   ]
  },
  {
   "cell_type": "markdown",
   "metadata": {},
   "source": [
    "Using Yelp's requests, I'm going to search the restaurant name `(terms)` and addresses `(locations)`. I then grab the json object, and sift through to receive the information I want. I'm grabbing the following information:\n",
    "- business id (a unique id we can use to search Yelp later)\n",
    "- business name\n",
    "- price category (options are \\$, \\$\\$, \\$\\$\\$, \\$\\$\\$\\$)\n",
    "- category type (I'm thinking this will help categorize the type of food served, and help determine saturation)\n",
    "- closed (returns true if closed)\n",
    "- address, city, zip to cross-check with LA county data\n",
    "- long, lat (for some nice graphics later)"
   ]
  },
  {
   "cell_type": "markdown",
   "metadata": {},
   "source": [
    "### <span style=\"color:purple\"> Phone Requests </span>"
   ]
  },
  {
   "cell_type": "code",
   "execution_count": 5,
   "metadata": {
    "collapsed": false
   },
   "outputs": [],
   "source": [
    "phone_searches = yp.create_searches(rest_group_df, 'phone')"
   ]
  },
  {
   "cell_type": "code",
   "execution_count": 6,
   "metadata": {
    "collapsed": false
   },
   "outputs": [],
   "source": [
    "phn_srch_dict, unsrchbl_phn = yp.yelp_api_calls(phone_searches, 'phone')"
   ]
  },
  {
   "cell_type": "code",
   "execution_count": 7,
   "metadata": {
    "collapsed": false
   },
   "outputs": [],
   "source": [
    "yp_phn_srch_fail = yp.find_failed_searches(11, phn_srch_dict, 'phone')"
   ]
  },
  {
   "cell_type": "code",
   "execution_count": 8,
   "metadata": {
    "collapsed": false
   },
   "outputs": [],
   "source": [
    "phn_srch_dict = yp.load_srch_dict(11, 'phone')"
   ]
  },
  {
   "cell_type": "code",
   "execution_count": 9,
   "metadata": {
    "collapsed": false
   },
   "outputs": [
    {
     "data": {
      "text/plain": [
       "{'0_Total DataFrame': (9094, '100%'),\n",
       " '1_Restaurants with Phone Provided': (4613, '51.0%'),\n",
       " '2_Restaurants with Successful Phone Searches': (2821, '31.0%')}"
      ]
     },
     "execution_count": 9,
     "metadata": {},
     "output_type": "execute_result"
    }
   ],
   "source": [
    "yp.return_proccess_tracker()"
   ]
  },
  {
   "cell_type": "code",
   "execution_count": 10,
   "metadata": {
    "collapsed": false
   },
   "outputs": [],
   "source": [
    "phn_frmt_dict = yp.format_srch_dict(phn_srch_dict, 'phone')"
   ]
  },
  {
   "cell_type": "code",
   "execution_count": 11,
   "metadata": {
    "collapsed": false
   },
   "outputs": [],
   "source": [
    "unknwn_phn = yp.pick_correct_matches(phn_frmt_dict, 'phone')"
   ]
  },
  {
   "cell_type": "code",
   "execution_count": 13,
   "metadata": {
    "collapsed": false
   },
   "outputs": [
    {
     "data": {
      "text/html": [
       "<div>\n",
       "<table border=\"1\" class=\"dataframe\">\n",
       "  <thead>\n",
       "    <tr style=\"text-align: right;\">\n",
       "      <th></th>\n",
       "      <th>search_name</th>\n",
       "      <th>search_address</th>\n",
       "      <th>bus_id</th>\n",
       "      <th>name</th>\n",
       "      <th>price</th>\n",
       "      <th>cat_1</th>\n",
       "      <th>cat_2</th>\n",
       "      <th>closed</th>\n",
       "      <th>address</th>\n",
       "      <th>city</th>\n",
       "      <th>zip_code</th>\n",
       "      <th>latitude</th>\n",
       "      <th>longitude</th>\n",
       "      <th>match</th>\n",
       "    </tr>\n",
       "  </thead>\n",
       "  <tbody>\n",
       "    <tr>\n",
       "      <th>general-cow-korean-bbq-los-angeles</th>\n",
       "      <td>#2 MOON BBQ</td>\n",
       "      <td>478 N WESTERN AVE</td>\n",
       "      <td>general-cow-korean-bbq-los-angeles</td>\n",
       "      <td>General Cow Korean BBQ</td>\n",
       "      <td>$$</td>\n",
       "      <td>korean</td>\n",
       "      <td>korean</td>\n",
       "      <td>True</td>\n",
       "      <td>480 N Western Ave</td>\n",
       "      <td>Los Angeles</td>\n",
       "      <td>90004</td>\n",
       "      <td>34.079647</td>\n",
       "      <td>-118.309013</td>\n",
       "      <td>0.0</td>\n",
       "    </tr>\n",
       "  </tbody>\n",
       "</table>\n",
       "</div>"
      ],
      "text/plain": [
       "                                    search_name     search_address  \\\n",
       "general-cow-korean-bbq-los-angeles  #2 MOON BBQ  478 N WESTERN AVE   \n",
       "\n",
       "                                                                bus_id  \\\n",
       "general-cow-korean-bbq-los-angeles  general-cow-korean-bbq-los-angeles   \n",
       "\n",
       "                                                      name price   cat_1  \\\n",
       "general-cow-korean-bbq-los-angeles  General Cow Korean BBQ    $$  korean   \n",
       "\n",
       "                                     cat_2 closed            address  \\\n",
       "general-cow-korean-bbq-los-angeles  korean   True  480 N Western Ave   \n",
       "\n",
       "                                           city zip_code   latitude  \\\n",
       "general-cow-korean-bbq-los-angeles  Los Angeles    90004  34.079647   \n",
       "\n",
       "                                     longitude  match  \n",
       "general-cow-korean-bbq-los-angeles -118.309013    0.0  "
      ]
     },
     "execution_count": 13,
     "metadata": {},
     "output_type": "execute_result"
    }
   ],
   "source": [
    "phn_srch_df = pd.DataFrame(phn_frmt_dict.values(), index = phn_frmt_dict.keys(),\n",
    "                              columns = ['search_name', 'search_address', 'bus_id', 'name', \n",
    "                                         'price', 'cat_1', 'cat_2', 'closed','address',\n",
    "                                         'city', 'zip_code', 'latitude', 'longitude', 'match'])\n",
    "\n",
    "phn_srch_df.sort_values('search_name').head(1)"
   ]
  },
  {
   "cell_type": "markdown",
   "metadata": {},
   "source": [
    "### <span style=\"color:teal\"> Term/Location Requests </span>"
   ]
  },
  {
   "cell_type": "code",
   "execution_count": 14,
   "metadata": {
    "collapsed": false
   },
   "outputs": [],
   "source": [
    "trm_loc_searches = yp.create_searches(rest_group_df, 'term_loc', optional_data=phn_srch_df)"
   ]
  },
  {
   "cell_type": "code",
   "execution_count": 15,
   "metadata": {
    "collapsed": false,
    "scrolled": false
   },
   "outputs": [
    {
     "data": {
      "text/plain": [
       "{'0_Total DataFrame': (9094, '100%'),\n",
       " '1_Restaurants with Phone Provided': (4613, '51.0%'),\n",
       " '2_Restaurants with Successful Phone Searches': (2821, '31.0%'),\n",
       " '3_Successful Matches from Phone Searches': (2350, '26.0%'),\n",
       " '4_Remaining Restaurants to Search with Term/Location': (6737, '74.0%')}"
      ]
     },
     "execution_count": 15,
     "metadata": {},
     "output_type": "execute_result"
    }
   ],
   "source": [
    "yp.return_proccess_tracker()"
   ]
  },
  {
   "cell_type": "code",
   "execution_count": null,
   "metadata": {
    "collapsed": false
   },
   "outputs": [],
   "source": [
    "trm_loc_srch_dict, unsrchbl_trm_loc = yp.yelp_api_calls(trm_loc_searches, 'term_loc')"
   ]
  },
  {
   "cell_type": "code",
   "execution_count": null,
   "metadata": {
    "collapsed": true
   },
   "outputs": [],
   "source": [
    "from lib.yelp_api import trm_loc_srch_dict"
   ]
  },
  {
   "cell_type": "code",
   "execution_count": null,
   "metadata": {
    "collapsed": true
   },
   "outputs": [],
   "source": []
  },
  {
   "cell_type": "code",
   "execution_count": null,
   "metadata": {
    "collapsed": true
   },
   "outputs": [],
   "source": []
  },
  {
   "cell_type": "code",
   "execution_count": null,
   "metadata": {
    "collapsed": true
   },
   "outputs": [],
   "source": []
  },
  {
   "cell_type": "code",
   "execution_count": null,
   "metadata": {
    "collapsed": true
   },
   "outputs": [],
   "source": []
  },
  {
   "cell_type": "code",
   "execution_count": null,
   "metadata": {
    "collapsed": true
   },
   "outputs": [],
   "source": []
  },
  {
   "cell_type": "code",
   "execution_count": null,
   "metadata": {
    "collapsed": false
   },
   "outputs": [],
   "source": [
    "trm_loc_srch_fail = yp.find_failed_searches(11, trm_loc_srch_dict, 'term_loc')"
   ]
  },
  {
   "cell_type": "code",
   "execution_count": null,
   "metadata": {
    "collapsed": true
   },
   "outputs": [],
   "source": [
    "trm_loc_srch_dict = yp.load_srch_dict(11, 'term_loc')"
   ]
  },
  {
   "cell_type": "code",
   "execution_count": null,
   "metadata": {
    "collapsed": false
   },
   "outputs": [],
   "source": [
    "yp.return_proccess_tracker()"
   ]
  },
  {
   "cell_type": "code",
   "execution_count": null,
   "metadata": {
    "collapsed": false
   },
   "outputs": [],
   "source": [
    "trm_loc_frmt_dict = yp.format_srch_dict(trm_loc_srch_dict, 'term_loc')"
   ]
  },
  {
   "cell_type": "code",
   "execution_count": null,
   "metadata": {
    "collapsed": false
   },
   "outputs": [],
   "source": [
    "unknwn_trm_loc = yp.pick_correct_matches(trm_loc_frmt_dict, 'term_loc')"
   ]
  },
  {
   "cell_type": "code",
   "execution_count": null,
   "metadata": {
    "collapsed": false
   },
   "outputs": [],
   "source": [
    "yp.return_proccess_tracker()"
   ]
  },
  {
   "cell_type": "code",
   "execution_count": null,
   "metadata": {
    "collapsed": false
   },
   "outputs": [],
   "source": [
    "trm_loc_srch_df = pd.DataFrame(trm_loc_frmt_dict.values(), index = trm_loc_frmt_dict.keys(),\n",
    "                              columns = ['search_name', 'search_address', 'bus_id', 'name', \n",
    "                                         'price', 'cat_1', 'cat_2', 'closed','address',\n",
    "                                         'city', 'zip_code', 'latitude', 'longitude', 'match'])\n",
    "\n",
    "trm_loc_srch_df.sort_values('search_name').head(1)"
   ]
  },
  {
   "cell_type": "markdown",
   "metadata": {},
   "source": [
    "### <span style=\"color:teal\"> Concatenate DataFrames </span>"
   ]
  },
  {
   "cell_type": "code",
   "execution_count": null,
   "metadata": {
    "collapsed": false
   },
   "outputs": [],
   "source": [
    "all_srch_rslts = pd.concat([trm_loc_srch_df, phn_srch_df])"
   ]
  },
  {
   "cell_type": "code",
   "execution_count": null,
   "metadata": {
    "collapsed": false,
    "scrolled": true
   },
   "outputs": [],
   "source": [
    "grpd_mtch_srch_rslts = all_srch_rslts[all_srch_rslts['match'] == 1.0].groupby(['search_name', \n",
    "                                                                               'search_address', \n",
    "                                                                               'name'],\n",
    "                                                                               as_index=False,\n",
    "                                                                               squeeze=True).agg({'bus_id': 'count'})\n",
    "grpd_mtch_srch_rslts[grpd_mtch_srch_rslts['bus_id'] > 1]"
   ]
  },
  {
   "cell_type": "markdown",
   "metadata": {},
   "source": [
    "### <span style=\"color:teal\"> Read in Yelp Categories </span>"
   ]
  },
  {
   "cell_type": "code",
   "execution_count": null,
   "metadata": {
    "collapsed": false
   },
   "outputs": [],
   "source": [
    "categories = pd.read_json('data/categories.json')"
   ]
  },
  {
   "cell_type": "code",
   "execution_count": null,
   "metadata": {
    "collapsed": false
   },
   "outputs": [],
   "source": [
    "cat_alias = categories['alias'].values\n",
    "cat_prnts = categories['parents'].values\n",
    "\n",
    "cat_list = zip(cat_alias, cat_prnts)"
   ]
  },
  {
   "cell_type": "code",
   "execution_count": null,
   "metadata": {
    "collapsed": false
   },
   "outputs": [],
   "source": [
    "cat_dict = {}\n",
    "\n",
    "for i in cat_list:\n",
    "    cat_alias = i[0]\n",
    "    cat_parent = i[1]\n",
    "    if cat_parent == []:\n",
    "        pass\n",
    "    else:\n",
    "        cat_dict[cat_alias] = cat_parent"
   ]
  },
  {
   "cell_type": "code",
   "execution_count": null,
   "metadata": {
    "collapsed": false,
    "scrolled": true
   },
   "outputs": [],
   "source": [
    "rest_food_dict = {}\n",
    "\n",
    "for key, value in cat_dict.items():\n",
    "    if 'restaurants' in value:\n",
    "        rest_food_dict[key] = value"
   ]
  },
  {
   "cell_type": "code",
   "execution_count": null,
   "metadata": {
    "collapsed": true
   },
   "outputs": [],
   "source": [
    "relevant_food_cat = ['coffee','delicatessen','bagels','milkshakebars',\n",
    "                     'poke','shavedice','bento','tea','bakeries','donuts',\n",
    "                     'gourmet','desserts','cupcakes','churros','empanadas',\n",
    "                     'smokehouse','pretzels','acaibowls','icecream','gelato',\n",
    "                     'ramen']\n",
    "\n",
    "for cat in relevant_food_cat:\n",
    "    rest_food_dict[cat] = ['food']"
   ]
  },
  {
   "cell_type": "markdown",
   "metadata": {},
   "source": [
    "### <span style=\"color:teal\"> Trim DataFrame to Only Represent Restaurants and Food </span>"
   ]
  },
  {
   "cell_type": "code",
   "execution_count": null,
   "metadata": {
    "collapsed": false
   },
   "outputs": [],
   "source": [
    "def filter_food_rest(x):\n",
    "    if x in rest_food_dict:\n",
    "        return 1\n",
    "    else:\n",
    "        return 0\n",
    "\n",
    "all_srch_rslts['rst_fd_1'] = all_srch_rslts['cat_1'].apply(filter_food_rest)\n",
    "all_srch_rslts['rst_fd_2'] = all_srch_rslts['cat_2'].apply(filter_food_rest)\n",
    "all_srch_rslts['rst_fd'] = all_srch_rslts['rst_fd_2'] + all_srch_rslts['rst_fd_1']"
   ]
  },
  {
   "cell_type": "code",
   "execution_count": null,
   "metadata": {
    "collapsed": false
   },
   "outputs": [],
   "source": [
    "mtch_srch_rslts = all_srch_rslts[(all_srch_rslts['match'] == 1) & \n",
    "                                 (all_srch_rslts['rst_fd'] > 0)]"
   ]
  },
  {
   "cell_type": "code",
   "execution_count": null,
   "metadata": {
    "collapsed": false
   },
   "outputs": [],
   "source": [
    "mtch_srch_rslts = mtch_srch_rslts[['search_name', 'search_address', 'bus_id',\n",
    "                                   'name', 'price', 'cat_1', 'cat_2', 'closed',\n",
    "                                   'address', 'city', 'zip_code', 'latitude',\n",
    "                                   'longitude']]"
   ]
  },
  {
   "cell_type": "code",
   "execution_count": null,
   "metadata": {
    "collapsed": false,
    "scrolled": true
   },
   "outputs": [],
   "source": [
    "joblib.dump(mtch_srch_rslts, 'data/mtch_srch_rslts_{}.pkl'.format(11))"
   ]
  }
 ],
 "metadata": {
  "anaconda-cloud": {},
  "kernelspec": {
   "display_name": "Python [conda root]",
   "language": "python",
   "name": "conda-root-py"
  },
  "language_info": {
   "codemirror_mode": {
    "name": "ipython",
    "version": 2
   },
   "file_extension": ".py",
   "mimetype": "text/x-python",
   "name": "python",
   "nbconvert_exporter": "python",
   "pygments_lexer": "ipython2",
   "version": "2.7.12"
  }
 },
 "nbformat": 4,
 "nbformat_minor": 1
}
