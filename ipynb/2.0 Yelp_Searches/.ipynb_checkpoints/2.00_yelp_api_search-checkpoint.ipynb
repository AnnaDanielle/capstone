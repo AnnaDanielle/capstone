{
 "cells": [
  {
   "cell_type": "markdown",
   "metadata": {},
   "source": [
    "# 2.00 - Yelp API Search"
   ]
  },
  {
   "cell_type": "code",
   "execution_count": 1,
   "metadata": {
    "collapsed": true
   },
   "outputs": [],
   "source": [
    "import os\n",
    "os.chdir('../../')"
   ]
  },
  {
   "cell_type": "code",
   "execution_count": 2,
   "metadata": {
    "collapsed": false
   },
   "outputs": [],
   "source": [
    "from sklearn.externals import joblib\n",
    "from urllib import urlencode, quote\n",
    "import lib.yelp_api as yp\n",
    "import pandas as pd\n",
    "import requests\n",
    "import json"
   ]
  },
  {
   "cell_type": "markdown",
   "metadata": {},
   "source": [
    "## <span style=\"color:teal\"> Load in Data for Yelp Search </span>"
   ]
  },
  {
   "cell_type": "code",
   "execution_count": 3,
   "metadata": {
    "collapsed": true
   },
   "outputs": [],
   "source": [
    "rest_df = joblib.load('data/la_rest_group_df.pkl')"
   ]
  },
  {
   "cell_type": "code",
   "execution_count": 4,
   "metadata": {
    "collapsed": false
   },
   "outputs": [
    {
     "data": {
      "text/html": [
       "<div>\n",
       "<table border=\"1\" class=\"dataframe\">\n",
       "  <thead>\n",
       "    <tr style=\"text-align: right;\">\n",
       "      <th></th>\n",
       "      <th>facility</th>\n",
       "      <th>address</th>\n",
       "      <th>city</th>\n",
       "      <th>zip_cd</th>\n",
       "      <th>num_at_address</th>\n",
       "      <th>max_seats</th>\n",
       "      <th>phone</th>\n",
       "      <th>risk_level</th>\n",
       "      <th>last_inspect_date</th>\n",
       "      <th>inspect_score</th>\n",
       "      <th>cat</th>\n",
       "      <th>closed_est</th>\n",
       "      <th>year</th>\n",
       "    </tr>\n",
       "  </thead>\n",
       "  <tbody>\n",
       "    <tr>\n",
       "      <th>0</th>\n",
       "      <td>#1 CAFE</td>\n",
       "      <td>2080 CENTURY PARK E</td>\n",
       "      <td>LOS ANGELES</td>\n",
       "      <td>90067</td>\n",
       "      <td>1</td>\n",
       "      <td>30</td>\n",
       "      <td>+1nan</td>\n",
       "      <td>3</td>\n",
       "      <td>2016-08-18</td>\n",
       "      <td>90.0</td>\n",
       "      <td>None</td>\n",
       "      <td>0</td>\n",
       "      <td>2016</td>\n",
       "    </tr>\n",
       "  </tbody>\n",
       "</table>\n",
       "</div>"
      ],
      "text/plain": [
       "  facility              address         city zip_cd  num_at_address  \\\n",
       "0  #1 CAFE  2080 CENTURY PARK E  LOS ANGELES  90067               1   \n",
       "\n",
       "   max_seats  phone  risk_level last_inspect_date  inspect_score   cat  \\\n",
       "0         30  +1nan           3        2016-08-18           90.0  None   \n",
       "\n",
       "   closed_est  year  \n",
       "0           0  2016  "
      ]
     },
     "execution_count": 4,
     "metadata": {},
     "output_type": "execute_result"
    }
   ],
   "source": [
    "rest_df.head(1)"
   ]
  },
  {
   "cell_type": "markdown",
   "metadata": {},
   "source": [
    "## <span style=\"color:teal\"> Yelp API Request </span>"
   ]
  },
  {
   "cell_type": "markdown",
   "metadata": {},
   "source": [
    "### <span style=\"color:teal\"> Phone Requests </span>"
   ]
  },
  {
   "cell_type": "code",
   "execution_count": 5,
   "metadata": {
    "collapsed": false
   },
   "outputs": [],
   "source": [
    "process_list = []"
   ]
  },
  {
   "cell_type": "code",
   "execution_count": 6,
   "metadata": {
    "collapsed": false
   },
   "outputs": [],
   "source": [
    "process_list, phone_search_list = yp.create_searches(rest_df, 'phone', process_list)"
   ]
  },
  {
   "cell_type": "code",
   "execution_count": 7,
   "metadata": {
    "collapsed": false
   },
   "outputs": [],
   "source": [
    "# phone_search_dict, unsearchbl_phones = yp.yelp_api_calls(phone_search_list, 'phone')"
   ]
  },
  {
   "cell_type": "code",
   "execution_count": 8,
   "metadata": {
    "collapsed": false
   },
   "outputs": [],
   "source": [
    "# yelp_phone_search_fail = yp.find_failed_searches(phone_search_dict, 'phone', \n",
    "#                                                  process_list, 'x')"
   ]
  },
  {
   "cell_type": "code",
   "execution_count": 9,
   "metadata": {
    "collapsed": false
   },
   "outputs": [],
   "source": [
    "phone_search_dict = yp.load_search_dict('x', 'phone')"
   ]
  },
  {
   "cell_type": "code",
   "execution_count": 10,
   "metadata": {
    "collapsed": false
   },
   "outputs": [],
   "source": [
    "phone_format_list = yp.format_search_dict(phone_search_dict)"
   ]
  },
  {
   "cell_type": "code",
   "execution_count": 11,
   "metadata": {
    "collapsed": false
   },
   "outputs": [],
   "source": [
    "phone_format_list, unknown_phone = yp.pick_correct_matches(phone_format_list, 'phone', process_list)"
   ]
  },
  {
   "cell_type": "code",
   "execution_count": 12,
   "metadata": {
    "collapsed": false,
    "scrolled": true
   },
   "outputs": [
    {
     "data": {
      "text/html": [
       "<div>\n",
       "<table border=\"1\" class=\"dataframe\">\n",
       "  <thead>\n",
       "    <tr style=\"text-align: right;\">\n",
       "      <th></th>\n",
       "      <th>search_name</th>\n",
       "      <th>search_address</th>\n",
       "      <th>match</th>\n",
       "      <th>bus_id</th>\n",
       "      <th>name</th>\n",
       "      <th>price</th>\n",
       "      <th>cat_1</th>\n",
       "      <th>cat_2</th>\n",
       "      <th>closed</th>\n",
       "      <th>address</th>\n",
       "      <th>city</th>\n",
       "      <th>zip_code</th>\n",
       "      <th>latitude</th>\n",
       "      <th>longitude</th>\n",
       "    </tr>\n",
       "  </thead>\n",
       "  <tbody>\n",
       "    <tr>\n",
       "      <th>0</th>\n",
       "      <td>#2 MOON BBQ</td>\n",
       "      <td>478 N WESTERN AVE LOS ANGELES 90004</td>\n",
       "      <td>1.666667</td>\n",
       "      <td>12-moon-b-b-q-all-you-can-eat-los-angeles</td>\n",
       "      <td>#12 Moon B.B.Q All You Can Eat</td>\n",
       "      <td>None</td>\n",
       "      <td>restaurants</td>\n",
       "      <td>food</td>\n",
       "      <td>False</td>\n",
       "      <td>478 N Western Ave</td>\n",
       "      <td>Los Angeles</td>\n",
       "      <td>90004</td>\n",
       "      <td>34.083132</td>\n",
       "      <td>-118.311106</td>\n",
       "    </tr>\n",
       "    <tr>\n",
       "      <th>1</th>\n",
       "      <td>#2 MOON BBQ</td>\n",
       "      <td>478 N WESTERN AVE LOS ANGELES 90004</td>\n",
       "      <td>1.666667</td>\n",
       "      <td>moon-daepo-bbq-2-los-angeles</td>\n",
       "      <td>Moon Daepo BBQ 2</td>\n",
       "      <td>$$</td>\n",
       "      <td>korean</td>\n",
       "      <td>bbq</td>\n",
       "      <td>False</td>\n",
       "      <td>478 N Western Ave</td>\n",
       "      <td>Los Angeles</td>\n",
       "      <td>90004</td>\n",
       "      <td>34.079609</td>\n",
       "      <td>-118.308664</td>\n",
       "    </tr>\n",
       "    <tr>\n",
       "      <th>2</th>\n",
       "      <td>*CUORE DELL AMANTE</td>\n",
       "      <td>123 9TH ST LOS ANGELES 90015</td>\n",
       "      <td>1.666667</td>\n",
       "      <td>cuore-dell-amante-los-angeles-3</td>\n",
       "      <td>Cuore Dell Amante</td>\n",
       "      <td>$$</td>\n",
       "      <td>italian</td>\n",
       "      <td>pizza</td>\n",
       "      <td>False</td>\n",
       "      <td>123 E 9th St</td>\n",
       "      <td>Los Angeles</td>\n",
       "      <td>90015</td>\n",
       "      <td>34.041170</td>\n",
       "      <td>-118.254160</td>\n",
       "    </tr>\n",
       "    <tr>\n",
       "      <th>3</th>\n",
       "      <td>1 WOK</td>\n",
       "      <td>5565 W MANCHESTER AVE LOS ANGELES 90045</td>\n",
       "      <td>2.000000</td>\n",
       "      <td>1st-wok-los-angeles</td>\n",
       "      <td>1st Wok</td>\n",
       "      <td>$</td>\n",
       "      <td>chinese</td>\n",
       "      <td>chinese</td>\n",
       "      <td>False</td>\n",
       "      <td>5565 W Manchester Ave</td>\n",
       "      <td>Los Angeles</td>\n",
       "      <td>90045</td>\n",
       "      <td>33.960025</td>\n",
       "      <td>-118.378183</td>\n",
       "    </tr>\n",
       "    <tr>\n",
       "      <th>4</th>\n",
       "      <td>10880 WILSHIRE TRIMANA</td>\n",
       "      <td>10880 WILSHIRE BLVD LOS ANGELES 90024</td>\n",
       "      <td>1.333333</td>\n",
       "      <td>trimana-los-angeles-17</td>\n",
       "      <td>Trimana</td>\n",
       "      <td>$</td>\n",
       "      <td>sandwiches</td>\n",
       "      <td>sandwiches</td>\n",
       "      <td>False</td>\n",
       "      <td>10880 Wilshire Blvd</td>\n",
       "      <td>Los Angeles</td>\n",
       "      <td>90024</td>\n",
       "      <td>34.058468</td>\n",
       "      <td>-118.442909</td>\n",
       "    </tr>\n",
       "  </tbody>\n",
       "</table>\n",
       "</div>"
      ],
      "text/plain": [
       "              search_name                           search_address     match  \\\n",
       "0             #2 MOON BBQ      478 N WESTERN AVE LOS ANGELES 90004  1.666667   \n",
       "1             #2 MOON BBQ      478 N WESTERN AVE LOS ANGELES 90004  1.666667   \n",
       "2      *CUORE DELL AMANTE             123 9TH ST LOS ANGELES 90015  1.666667   \n",
       "3                   1 WOK  5565 W MANCHESTER AVE LOS ANGELES 90045  2.000000   \n",
       "4  10880 WILSHIRE TRIMANA    10880 WILSHIRE BLVD LOS ANGELES 90024  1.333333   \n",
       "\n",
       "                                      bus_id                            name  \\\n",
       "0  12-moon-b-b-q-all-you-can-eat-los-angeles  #12 Moon B.B.Q All You Can Eat   \n",
       "1               moon-daepo-bbq-2-los-angeles                Moon Daepo BBQ 2   \n",
       "2            cuore-dell-amante-los-angeles-3               Cuore Dell Amante   \n",
       "3                        1st-wok-los-angeles                         1st Wok   \n",
       "4                     trimana-los-angeles-17                         Trimana   \n",
       "\n",
       "  price        cat_1       cat_2 closed                address         city  \\\n",
       "0  None  restaurants        food  False      478 N Western Ave  Los Angeles   \n",
       "1    $$       korean         bbq  False      478 N Western Ave  Los Angeles   \n",
       "2    $$      italian       pizza  False           123 E 9th St  Los Angeles   \n",
       "3     $      chinese     chinese  False  5565 W Manchester Ave  Los Angeles   \n",
       "4     $   sandwiches  sandwiches  False    10880 Wilshire Blvd  Los Angeles   \n",
       "\n",
       "  zip_code   latitude   longitude  \n",
       "0    90004  34.083132 -118.311106  \n",
       "1    90004  34.079609 -118.308664  \n",
       "2    90015  34.041170 -118.254160  \n",
       "3    90045  33.960025 -118.378183  \n",
       "4    90024  34.058468 -118.442909  "
      ]
     },
     "execution_count": 12,
     "metadata": {},
     "output_type": "execute_result"
    }
   ],
   "source": [
    "phone_search_df = yp.create_dataframe_of_matches(phone_format_list, 'phone', process_list)\n",
    "phone_search_df.sort_values('search_name').head(5)"
   ]
  },
  {
   "cell_type": "markdown",
   "metadata": {},
   "source": [
    "### <span style=\"color:teal\"> Term/Location Requests </span>"
   ]
  },
  {
   "cell_type": "code",
   "execution_count": 13,
   "metadata": {
    "collapsed": false
   },
   "outputs": [],
   "source": [
    "term_loc_searches = yp.create_searches(rest_df, 'term_loc', \n",
    "                                       process_list, optional_data=phone_search_df)"
   ]
  },
  {
   "cell_type": "code",
   "execution_count": 14,
   "metadata": {
    "collapsed": false
   },
   "outputs": [],
   "source": [
    "# term_loc_search_dict, unsearchable_term_loc = yp.yelp_api_calls(term_loc_searches, 'term_loc')"
   ]
  },
  {
   "cell_type": "code",
   "execution_count": 15,
   "metadata": {
    "collapsed": false
   },
   "outputs": [],
   "source": [
    "# term_loc_search_fail = yp.find_failed_searches(term_loc_search_dict, 'term_loc', \n",
    "#                                                process_list, 'x')"
   ]
  },
  {
   "cell_type": "code",
   "execution_count": 16,
   "metadata": {
    "collapsed": true
   },
   "outputs": [],
   "source": [
    "term_loc_search_dict = yp.load_search_dict('x', 'term_loc')"
   ]
  },
  {
   "cell_type": "code",
   "execution_count": 17,
   "metadata": {
    "collapsed": false
   },
   "outputs": [],
   "source": [
    "term_loc_format_list = yp.format_search_dict(term_loc_search_dict)"
   ]
  },
  {
   "cell_type": "code",
   "execution_count": 18,
   "metadata": {
    "collapsed": true
   },
   "outputs": [],
   "source": [
    "process_list = joblib.load('data/process_list.pkl')"
   ]
  },
  {
   "cell_type": "code",
   "execution_count": 19,
   "metadata": {
    "collapsed": false,
    "scrolled": true
   },
   "outputs": [],
   "source": [
    "term_loc_format_list, unknown = yp.pick_correct_matches(term_loc_format_list, 'term_loc', process_list)"
   ]
  },
  {
   "cell_type": "code",
   "execution_count": 20,
   "metadata": {
    "collapsed": false,
    "scrolled": true
   },
   "outputs": [
    {
     "data": {
      "text/html": [
       "<div>\n",
       "<table border=\"1\" class=\"dataframe\">\n",
       "  <thead>\n",
       "    <tr style=\"text-align: right;\">\n",
       "      <th></th>\n",
       "      <th>search_name</th>\n",
       "      <th>search_address</th>\n",
       "      <th>match</th>\n",
       "      <th>bus_id</th>\n",
       "      <th>name</th>\n",
       "      <th>price</th>\n",
       "      <th>cat_1</th>\n",
       "      <th>cat_2</th>\n",
       "      <th>closed</th>\n",
       "      <th>address</th>\n",
       "      <th>city</th>\n",
       "      <th>zip_code</th>\n",
       "      <th>latitude</th>\n",
       "      <th>longitude</th>\n",
       "    </tr>\n",
       "  </thead>\n",
       "  <tbody>\n",
       "    <tr>\n",
       "      <th>0</th>\n",
       "      <td>#1 CAFE</td>\n",
       "      <td>2080 CENTURY PARK E LOS ANGELES 90067</td>\n",
       "      <td>1.5</td>\n",
       "      <td>one-cafe-los-angeles-2</td>\n",
       "      <td>One Cafe</td>\n",
       "      <td>$$</td>\n",
       "      <td>cafes</td>\n",
       "      <td>cafes</td>\n",
       "      <td>False</td>\n",
       "      <td>2080 Century Park E</td>\n",
       "      <td>Los Angeles</td>\n",
       "      <td>90067</td>\n",
       "      <td>34.058765</td>\n",
       "      <td>-118.412033</td>\n",
       "    </tr>\n",
       "    <tr>\n",
       "      <th>1</th>\n",
       "      <td>10 - E</td>\n",
       "      <td>811 W 7TH ST LOS ANGELES 90017</td>\n",
       "      <td>2.0</td>\n",
       "      <td>10e-los-angeles-6</td>\n",
       "      <td>10e</td>\n",
       "      <td>$$</td>\n",
       "      <td>mediterranean</td>\n",
       "      <td>armenian</td>\n",
       "      <td>False</td>\n",
       "      <td>811 W 7th St</td>\n",
       "      <td>Los Angeles</td>\n",
       "      <td>90017</td>\n",
       "      <td>34.048981</td>\n",
       "      <td>-118.258957</td>\n",
       "    </tr>\n",
       "    <tr>\n",
       "      <th>2</th>\n",
       "      <td>101 ASIAN KITCHEN</td>\n",
       "      <td>7170 BEVERLY BLVD LOS ANGELES 90036</td>\n",
       "      <td>2.0</td>\n",
       "      <td>101-asian-kitchen-los-angeles</td>\n",
       "      <td>101 Asian Kitchen</td>\n",
       "      <td>$$</td>\n",
       "      <td>chinese</td>\n",
       "      <td>sushi</td>\n",
       "      <td>False</td>\n",
       "      <td>7170 Beverly Blvd</td>\n",
       "      <td>Los Angeles</td>\n",
       "      <td>90036</td>\n",
       "      <td>34.075880</td>\n",
       "      <td>-118.345730</td>\n",
       "    </tr>\n",
       "    <tr>\n",
       "      <th>3</th>\n",
       "      <td>101 COFFEE SHOP</td>\n",
       "      <td>6145 FRANKLIN AVE LOS ANGELES 90068</td>\n",
       "      <td>2.0</td>\n",
       "      <td>101-coffee-shop-los-angeles</td>\n",
       "      <td>101 Coffee Shop</td>\n",
       "      <td>$$</td>\n",
       "      <td>diners</td>\n",
       "      <td>tradamerican</td>\n",
       "      <td>False</td>\n",
       "      <td>6145 Franklin Ave</td>\n",
       "      <td>Los Angeles</td>\n",
       "      <td>90028</td>\n",
       "      <td>34.105375</td>\n",
       "      <td>-118.323746</td>\n",
       "    </tr>\n",
       "    <tr>\n",
       "      <th>4</th>\n",
       "      <td>1642</td>\n",
       "      <td>1642 W TEMPLE ST LOS ANGELES 90026</td>\n",
       "      <td>2.0</td>\n",
       "      <td>1642-beer-and-wine-los-angeles</td>\n",
       "      <td>1642 Beer and Wine</td>\n",
       "      <td>$$</td>\n",
       "      <td>bars</td>\n",
       "      <td>bars</td>\n",
       "      <td>False</td>\n",
       "      <td>1642 W Temple St</td>\n",
       "      <td>Los Angeles</td>\n",
       "      <td>90026</td>\n",
       "      <td>34.068254</td>\n",
       "      <td>-118.262350</td>\n",
       "    </tr>\n",
       "  </tbody>\n",
       "</table>\n",
       "</div>"
      ],
      "text/plain": [
       "         search_name                         search_address  match  \\\n",
       "0            #1 CAFE  2080 CENTURY PARK E LOS ANGELES 90067    1.5   \n",
       "1             10 - E         811 W 7TH ST LOS ANGELES 90017    2.0   \n",
       "2  101 ASIAN KITCHEN    7170 BEVERLY BLVD LOS ANGELES 90036    2.0   \n",
       "3    101 COFFEE SHOP    6145 FRANKLIN AVE LOS ANGELES 90068    2.0   \n",
       "4               1642     1642 W TEMPLE ST LOS ANGELES 90026    2.0   \n",
       "\n",
       "                           bus_id                name price          cat_1  \\\n",
       "0          one-cafe-los-angeles-2            One Cafe    $$          cafes   \n",
       "1               10e-los-angeles-6                 10e    $$  mediterranean   \n",
       "2   101-asian-kitchen-los-angeles   101 Asian Kitchen    $$        chinese   \n",
       "3     101-coffee-shop-los-angeles     101 Coffee Shop    $$         diners   \n",
       "4  1642-beer-and-wine-los-angeles  1642 Beer and Wine    $$           bars   \n",
       "\n",
       "          cat_2 closed              address         city zip_code   latitude  \\\n",
       "0         cafes  False  2080 Century Park E  Los Angeles    90067  34.058765   \n",
       "1      armenian  False         811 W 7th St  Los Angeles    90017  34.048981   \n",
       "2         sushi  False    7170 Beverly Blvd  Los Angeles    90036  34.075880   \n",
       "3  tradamerican  False    6145 Franklin Ave  Los Angeles    90028  34.105375   \n",
       "4          bars  False     1642 W Temple St  Los Angeles    90026  34.068254   \n",
       "\n",
       "    longitude  \n",
       "0 -118.412033  \n",
       "1 -118.258957  \n",
       "2 -118.345730  \n",
       "3 -118.323746  \n",
       "4 -118.262350  "
      ]
     },
     "execution_count": 20,
     "metadata": {},
     "output_type": "execute_result"
    }
   ],
   "source": [
    "term_loc_search_df = yp.create_dataframe_of_matches(term_loc_format_list, 'term_loc', process_list)\n",
    "term_loc_search_df.sort_values('search_name').head(5)"
   ]
  },
  {
   "cell_type": "code",
   "execution_count": 21,
   "metadata": {
    "collapsed": false,
    "scrolled": true
   },
   "outputs": [
    {
     "data": {
      "text/plain": [
       "[['The total Yelp search is 9090 restaurants'],\n",
       " ['4613 restaurants provided a phone number (50.75%)'],\n",
       " ['2225 successful matches from phone searches (24.48%)'],\n",
       " ['6865 remaining restaurants to search with term/location(75.52%)'],\n",
       " ['6337 restaurant term/location searches yielded a response from yelp (69.71%)'],\n",
       " ['3702 successful matches from term/location searches (40.73%)'],\n",
       " ['4144 successful matches from term/location searches (45.59%)'],\n",
       " ['6369 successful matches from all searches (70.07%)']]"
      ]
     },
     "execution_count": 21,
     "metadata": {},
     "output_type": "execute_result"
    }
   ],
   "source": [
    "process_list"
   ]
  },
  {
   "cell_type": "markdown",
   "metadata": {},
   "source": [
    "## <span style=\"color:teal\"> Concatenate DataFrames </span>"
   ]
  },
  {
   "cell_type": "code",
   "execution_count": 22,
   "metadata": {
    "collapsed": false
   },
   "outputs": [
    {
     "data": {
      "text/html": [
       "<div>\n",
       "<table border=\"1\" class=\"dataframe\">\n",
       "  <thead>\n",
       "    <tr style=\"text-align: right;\">\n",
       "      <th></th>\n",
       "      <th>search_name</th>\n",
       "      <th>search_address</th>\n",
       "      <th>match</th>\n",
       "      <th>bus_id</th>\n",
       "      <th>name</th>\n",
       "      <th>price</th>\n",
       "      <th>cat_1</th>\n",
       "      <th>cat_2</th>\n",
       "      <th>closed</th>\n",
       "      <th>address</th>\n",
       "      <th>city</th>\n",
       "      <th>zip_code</th>\n",
       "      <th>latitude</th>\n",
       "      <th>longitude</th>\n",
       "    </tr>\n",
       "  </thead>\n",
       "  <tbody>\n",
       "    <tr>\n",
       "      <th>0</th>\n",
       "      <td>#1 CAFE</td>\n",
       "      <td>2080 CENTURY PARK E LOS ANGELES 90067</td>\n",
       "      <td>1.5</td>\n",
       "      <td>one-cafe-los-angeles-2</td>\n",
       "      <td>One Cafe</td>\n",
       "      <td>$$</td>\n",
       "      <td>cafes</td>\n",
       "      <td>cafes</td>\n",
       "      <td>False</td>\n",
       "      <td>2080 Century Park E</td>\n",
       "      <td>Los Angeles</td>\n",
       "      <td>90067</td>\n",
       "      <td>34.058765</td>\n",
       "      <td>-118.412033</td>\n",
       "    </tr>\n",
       "    <tr>\n",
       "      <th>1</th>\n",
       "      <td>10 - E</td>\n",
       "      <td>811 W 7TH ST LOS ANGELES 90017</td>\n",
       "      <td>2.0</td>\n",
       "      <td>10e-los-angeles-6</td>\n",
       "      <td>10e</td>\n",
       "      <td>$$</td>\n",
       "      <td>mediterranean</td>\n",
       "      <td>armenian</td>\n",
       "      <td>False</td>\n",
       "      <td>811 W 7th St</td>\n",
       "      <td>Los Angeles</td>\n",
       "      <td>90017</td>\n",
       "      <td>34.048981</td>\n",
       "      <td>-118.258957</td>\n",
       "    </tr>\n",
       "    <tr>\n",
       "      <th>2</th>\n",
       "      <td>101 ASIAN KITCHEN</td>\n",
       "      <td>7170 BEVERLY BLVD LOS ANGELES 90036</td>\n",
       "      <td>2.0</td>\n",
       "      <td>101-asian-kitchen-los-angeles</td>\n",
       "      <td>101 Asian Kitchen</td>\n",
       "      <td>$$</td>\n",
       "      <td>chinese</td>\n",
       "      <td>sushi</td>\n",
       "      <td>False</td>\n",
       "      <td>7170 Beverly Blvd</td>\n",
       "      <td>Los Angeles</td>\n",
       "      <td>90036</td>\n",
       "      <td>34.075880</td>\n",
       "      <td>-118.345730</td>\n",
       "    </tr>\n",
       "    <tr>\n",
       "      <th>3</th>\n",
       "      <td>101 COFFEE SHOP</td>\n",
       "      <td>6145 FRANKLIN AVE LOS ANGELES 90068</td>\n",
       "      <td>2.0</td>\n",
       "      <td>101-coffee-shop-los-angeles</td>\n",
       "      <td>101 Coffee Shop</td>\n",
       "      <td>$$</td>\n",
       "      <td>diners</td>\n",
       "      <td>tradamerican</td>\n",
       "      <td>False</td>\n",
       "      <td>6145 Franklin Ave</td>\n",
       "      <td>Los Angeles</td>\n",
       "      <td>90028</td>\n",
       "      <td>34.105375</td>\n",
       "      <td>-118.323746</td>\n",
       "    </tr>\n",
       "    <tr>\n",
       "      <th>4</th>\n",
       "      <td>1642</td>\n",
       "      <td>1642 W TEMPLE ST LOS ANGELES 90026</td>\n",
       "      <td>2.0</td>\n",
       "      <td>1642-beer-and-wine-los-angeles</td>\n",
       "      <td>1642 Beer and Wine</td>\n",
       "      <td>$$</td>\n",
       "      <td>bars</td>\n",
       "      <td>bars</td>\n",
       "      <td>False</td>\n",
       "      <td>1642 W Temple St</td>\n",
       "      <td>Los Angeles</td>\n",
       "      <td>90026</td>\n",
       "      <td>34.068254</td>\n",
       "      <td>-118.262350</td>\n",
       "    </tr>\n",
       "  </tbody>\n",
       "</table>\n",
       "</div>"
      ],
      "text/plain": [
       "         search_name                         search_address  match  \\\n",
       "0            #1 CAFE  2080 CENTURY PARK E LOS ANGELES 90067    1.5   \n",
       "1             10 - E         811 W 7TH ST LOS ANGELES 90017    2.0   \n",
       "2  101 ASIAN KITCHEN    7170 BEVERLY BLVD LOS ANGELES 90036    2.0   \n",
       "3    101 COFFEE SHOP    6145 FRANKLIN AVE LOS ANGELES 90068    2.0   \n",
       "4               1642     1642 W TEMPLE ST LOS ANGELES 90026    2.0   \n",
       "\n",
       "                           bus_id                name price          cat_1  \\\n",
       "0          one-cafe-los-angeles-2            One Cafe    $$          cafes   \n",
       "1               10e-los-angeles-6                 10e    $$  mediterranean   \n",
       "2   101-asian-kitchen-los-angeles   101 Asian Kitchen    $$        chinese   \n",
       "3     101-coffee-shop-los-angeles     101 Coffee Shop    $$         diners   \n",
       "4  1642-beer-and-wine-los-angeles  1642 Beer and Wine    $$           bars   \n",
       "\n",
       "          cat_2 closed              address         city zip_code   latitude  \\\n",
       "0         cafes  False  2080 Century Park E  Los Angeles    90067  34.058765   \n",
       "1      armenian  False         811 W 7th St  Los Angeles    90017  34.048981   \n",
       "2         sushi  False    7170 Beverly Blvd  Los Angeles    90036  34.075880   \n",
       "3  tradamerican  False    6145 Franklin Ave  Los Angeles    90028  34.105375   \n",
       "4          bars  False     1642 W Temple St  Los Angeles    90026  34.068254   \n",
       "\n",
       "    longitude  \n",
       "0 -118.412033  \n",
       "1 -118.258957  \n",
       "2 -118.345730  \n",
       "3 -118.323746  \n",
       "4 -118.262350  "
      ]
     },
     "execution_count": 22,
     "metadata": {},
     "output_type": "execute_result"
    }
   ],
   "source": [
    "all_srch_rslts = pd.concat([term_loc_search_df, phone_search_df])\n",
    "all_srch_rslts.head()"
   ]
  },
  {
   "cell_type": "markdown",
   "metadata": {},
   "source": [
    "## <span style=\"color:teal\"> Read in Yelp Categories </span>"
   ]
  },
  {
   "cell_type": "code",
   "execution_count": 23,
   "metadata": {
    "collapsed": false
   },
   "outputs": [],
   "source": [
    "categories = pd.read_json('data/categories.json')"
   ]
  },
  {
   "cell_type": "code",
   "execution_count": 24,
   "metadata": {
    "collapsed": false
   },
   "outputs": [],
   "source": [
    "cat_alias = categories['alias'].values\n",
    "cat_prnts = categories['parents'].values\n",
    "\n",
    "cat_list = zip(cat_alias, cat_prnts)"
   ]
  },
  {
   "cell_type": "code",
   "execution_count": 25,
   "metadata": {
    "collapsed": false
   },
   "outputs": [],
   "source": [
    "cat_dict = {}\n",
    "\n",
    "for i in cat_list:\n",
    "    cat_alias = i[0]\n",
    "    cat_parent = i[1]\n",
    "    if cat_parent == []:\n",
    "        pass\n",
    "    else:\n",
    "        cat_dict[cat_alias] = cat_parent"
   ]
  },
  {
   "cell_type": "code",
   "execution_count": 26,
   "metadata": {
    "collapsed": false,
    "scrolled": true
   },
   "outputs": [],
   "source": [
    "rest_food_dict = {}\n",
    "\n",
    "for key, value in cat_dict.items():\n",
    "    if 'restaurants' in value:\n",
    "        rest_food_dict[key] = value"
   ]
  },
  {
   "cell_type": "code",
   "execution_count": 27,
   "metadata": {
    "collapsed": true
   },
   "outputs": [],
   "source": [
    "relevant_food_cat = ['coffee','delicatessen','bagels','milkshakebars',\n",
    "                     'poke','shavedice','bento','tea','bakeries','donuts',\n",
    "                     'gourmet','desserts','cupcakes','churros','empanadas',\n",
    "                     'smokehouse','pretzels','acaibowls','icecream','gelato',\n",
    "                     'ramen']\n",
    "\n",
    "for cat in relevant_food_cat:\n",
    "    rest_food_dict[cat] = ['food']"
   ]
  },
  {
   "cell_type": "markdown",
   "metadata": {},
   "source": [
    "## <span style=\"color:teal\"> Trim DataFrame to Only Represent Restaurants and Food </span>"
   ]
  },
  {
   "cell_type": "code",
   "execution_count": 28,
   "metadata": {
    "collapsed": false
   },
   "outputs": [],
   "source": [
    "def filter_food_rest(x):\n",
    "    if x in rest_food_dict:\n",
    "        return 1\n",
    "    else:\n",
    "        return 0\n",
    "\n",
    "all_srch_rslts['rst_fd_1'] = all_srch_rslts['cat_1'].apply(filter_food_rest)\n",
    "all_srch_rslts['rst_fd_2'] = all_srch_rslts['cat_2'].apply(filter_food_rest)\n",
    "all_srch_rslts['rst_fd'] = all_srch_rslts['rst_fd_2'] + all_srch_rslts['rst_fd_1']"
   ]
  },
  {
   "cell_type": "code",
   "execution_count": 29,
   "metadata": {
    "collapsed": false
   },
   "outputs": [],
   "source": [
    "mtch_srch_rslts = all_srch_rslts[(all_srch_rslts['match'] > 1) & \n",
    "                                 (all_srch_rslts['rst_fd'] > 0)]"
   ]
  },
  {
   "cell_type": "code",
   "execution_count": 30,
   "metadata": {
    "collapsed": false
   },
   "outputs": [],
   "source": [
    "mtch_srch_rslts = mtch_srch_rslts[['search_name', 'search_address', 'bus_id',\n",
    "                                   'name', 'price', 'cat_1', 'cat_2', 'closed',\n",
    "                                   'address', 'city', 'zip_code', 'latitude',\n",
    "                                   'longitude']]"
   ]
  },
  {
   "cell_type": "code",
   "execution_count": 31,
   "metadata": {
    "collapsed": false
   },
   "outputs": [
    {
     "name": "stdout",
     "output_type": "stream",
     "text": [
      "<class 'pandas.core.frame.DataFrame'>\n",
      "Int64Index: 5892 entries, 0 to 2460\n",
      "Data columns (total 13 columns):\n",
      "search_name       5892 non-null object\n",
      "search_address    5892 non-null object\n",
      "bus_id            5892 non-null object\n",
      "name              5892 non-null object\n",
      "price             5693 non-null object\n",
      "cat_1             5892 non-null object\n",
      "cat_2             5892 non-null object\n",
      "closed            5892 non-null bool\n",
      "address           5892 non-null object\n",
      "city              5892 non-null object\n",
      "zip_code          5892 non-null object\n",
      "latitude          5892 non-null float64\n",
      "longitude         5892 non-null float64\n",
      "dtypes: bool(1), float64(2), object(10)\n",
      "memory usage: 604.2+ KB\n"
     ]
    }
   ],
   "source": [
    "mtch_srch_rslts.info()"
   ]
  },
  {
   "cell_type": "code",
   "execution_count": 32,
   "metadata": {
    "collapsed": false
   },
   "outputs": [
    {
     "data": {
      "text/plain": [
       "0.10675492192803802"
      ]
     },
     "execution_count": 32,
     "metadata": {},
     "output_type": "execute_result"
    }
   ],
   "source": [
    "sum(mtch_srch_rslts['closed'])*1.0/len(mtch_srch_rslts['closed'])"
   ]
  },
  {
   "cell_type": "code",
   "execution_count": 33,
   "metadata": {
    "collapsed": false,
    "scrolled": true
   },
   "outputs": [
    {
     "data": {
      "text/html": [
       "<div>\n",
       "<table border=\"1\" class=\"dataframe\">\n",
       "  <thead>\n",
       "    <tr style=\"text-align: right;\">\n",
       "      <th></th>\n",
       "      <th>search_name</th>\n",
       "      <th>search_address</th>\n",
       "      <th>bus_id</th>\n",
       "      <th>name</th>\n",
       "      <th>price</th>\n",
       "      <th>cat_1</th>\n",
       "      <th>cat_2</th>\n",
       "      <th>closed</th>\n",
       "      <th>address</th>\n",
       "      <th>city</th>\n",
       "      <th>zip_code</th>\n",
       "      <th>latitude</th>\n",
       "      <th>longitude</th>\n",
       "    </tr>\n",
       "  </thead>\n",
       "  <tbody>\n",
       "    <tr>\n",
       "      <th>0</th>\n",
       "      <td>#1 CAFE</td>\n",
       "      <td>2080 CENTURY PARK E LOS ANGELES 90067</td>\n",
       "      <td>one-cafe-los-angeles-2</td>\n",
       "      <td>One Cafe</td>\n",
       "      <td>$$</td>\n",
       "      <td>cafes</td>\n",
       "      <td>cafes</td>\n",
       "      <td>False</td>\n",
       "      <td>2080 Century Park E</td>\n",
       "      <td>Los Angeles</td>\n",
       "      <td>90067</td>\n",
       "      <td>34.058765</td>\n",
       "      <td>-118.412033</td>\n",
       "    </tr>\n",
       "    <tr>\n",
       "      <th>1</th>\n",
       "      <td>10 - E</td>\n",
       "      <td>811 W 7TH ST LOS ANGELES 90017</td>\n",
       "      <td>10e-los-angeles-6</td>\n",
       "      <td>10e</td>\n",
       "      <td>$$</td>\n",
       "      <td>mediterranean</td>\n",
       "      <td>armenian</td>\n",
       "      <td>False</td>\n",
       "      <td>811 W 7th St</td>\n",
       "      <td>Los Angeles</td>\n",
       "      <td>90017</td>\n",
       "      <td>34.048981</td>\n",
       "      <td>-118.258957</td>\n",
       "    </tr>\n",
       "    <tr>\n",
       "      <th>2</th>\n",
       "      <td>101 ASIAN KITCHEN</td>\n",
       "      <td>7170 BEVERLY BLVD LOS ANGELES 90036</td>\n",
       "      <td>101-asian-kitchen-los-angeles</td>\n",
       "      <td>101 Asian Kitchen</td>\n",
       "      <td>$$</td>\n",
       "      <td>chinese</td>\n",
       "      <td>sushi</td>\n",
       "      <td>False</td>\n",
       "      <td>7170 Beverly Blvd</td>\n",
       "      <td>Los Angeles</td>\n",
       "      <td>90036</td>\n",
       "      <td>34.075880</td>\n",
       "      <td>-118.345730</td>\n",
       "    </tr>\n",
       "    <tr>\n",
       "      <th>3</th>\n",
       "      <td>101 COFFEE SHOP</td>\n",
       "      <td>6145 FRANKLIN AVE LOS ANGELES 90068</td>\n",
       "      <td>101-coffee-shop-los-angeles</td>\n",
       "      <td>101 Coffee Shop</td>\n",
       "      <td>$$</td>\n",
       "      <td>diners</td>\n",
       "      <td>tradamerican</td>\n",
       "      <td>False</td>\n",
       "      <td>6145 Franklin Ave</td>\n",
       "      <td>Los Angeles</td>\n",
       "      <td>90028</td>\n",
       "      <td>34.105375</td>\n",
       "      <td>-118.323746</td>\n",
       "    </tr>\n",
       "    <tr>\n",
       "      <th>5</th>\n",
       "      <td>1880 CAFE</td>\n",
       "      <td>1880 CENTURY PARK E LOS ANGELES 90067</td>\n",
       "      <td>1880-cafe-los-angeles</td>\n",
       "      <td>1880 Cafe</td>\n",
       "      <td>$</td>\n",
       "      <td>newamerican</td>\n",
       "      <td>sandwiches</td>\n",
       "      <td>False</td>\n",
       "      <td>1880 Century Park E</td>\n",
       "      <td>Los Angeles</td>\n",
       "      <td>90067</td>\n",
       "      <td>34.061840</td>\n",
       "      <td>-118.414243</td>\n",
       "    </tr>\n",
       "  </tbody>\n",
       "</table>\n",
       "</div>"
      ],
      "text/plain": [
       "         search_name                         search_address  \\\n",
       "0            #1 CAFE  2080 CENTURY PARK E LOS ANGELES 90067   \n",
       "1             10 - E         811 W 7TH ST LOS ANGELES 90017   \n",
       "2  101 ASIAN KITCHEN    7170 BEVERLY BLVD LOS ANGELES 90036   \n",
       "3    101 COFFEE SHOP    6145 FRANKLIN AVE LOS ANGELES 90068   \n",
       "5          1880 CAFE  1880 CENTURY PARK E LOS ANGELES 90067   \n",
       "\n",
       "                          bus_id               name price          cat_1  \\\n",
       "0         one-cafe-los-angeles-2           One Cafe    $$          cafes   \n",
       "1              10e-los-angeles-6                10e    $$  mediterranean   \n",
       "2  101-asian-kitchen-los-angeles  101 Asian Kitchen    $$        chinese   \n",
       "3    101-coffee-shop-los-angeles    101 Coffee Shop    $$         diners   \n",
       "5          1880-cafe-los-angeles          1880 Cafe     $    newamerican   \n",
       "\n",
       "          cat_2 closed              address         city zip_code   latitude  \\\n",
       "0         cafes  False  2080 Century Park E  Los Angeles    90067  34.058765   \n",
       "1      armenian  False         811 W 7th St  Los Angeles    90017  34.048981   \n",
       "2         sushi  False    7170 Beverly Blvd  Los Angeles    90036  34.075880   \n",
       "3  tradamerican  False    6145 Franklin Ave  Los Angeles    90028  34.105375   \n",
       "5    sandwiches  False  1880 Century Park E  Los Angeles    90067  34.061840   \n",
       "\n",
       "    longitude  \n",
       "0 -118.412033  \n",
       "1 -118.258957  \n",
       "2 -118.345730  \n",
       "3 -118.323746  \n",
       "5 -118.414243  "
      ]
     },
     "execution_count": 33,
     "metadata": {},
     "output_type": "execute_result"
    }
   ],
   "source": [
    "mtch_srch_rslts.head()"
   ]
  },
  {
   "cell_type": "code",
   "execution_count": 34,
   "metadata": {
    "collapsed": false,
    "scrolled": true
   },
   "outputs": [],
   "source": [
    "pd.to_pickle(mtch_srch_rslts, 'data/mtch_srch_rslts_pd.pkl')"
   ]
  },
  {
   "cell_type": "markdown",
   "metadata": {},
   "source": [
    "## <span style=\"color:teal\"> Inspect Yelp Search Failures </span>"
   ]
  },
  {
   "cell_type": "code",
   "execution_count": 35,
   "metadata": {
    "collapsed": false
   },
   "outputs": [],
   "source": [
    "failures = yp.create_searches(rest_df, 'term_loc', \n",
    "                              process_list, optional_data=mtch_srch_rslts)"
   ]
  },
  {
   "cell_type": "code",
   "execution_count": 36,
   "metadata": {
    "collapsed": false
   },
   "outputs": [],
   "source": [
    "failure_1 = list(failures)[40:41]"
   ]
  },
  {
   "cell_type": "code",
   "execution_count": 37,
   "metadata": {
    "collapsed": false
   },
   "outputs": [],
   "source": [
    "failure_2 = list(failures)[5:6]"
   ]
  },
  {
   "cell_type": "code",
   "execution_count": 39,
   "metadata": {
    "collapsed": false
   },
   "outputs": [],
   "source": [
    "call_1 = yp.yelp_api_calls(failure_1, 'term_loc')"
   ]
  },
  {
   "cell_type": "code",
   "execution_count": 40,
   "metadata": {
    "collapsed": false
   },
   "outputs": [],
   "source": [
    "call_2 = yp.yelp_api_calls(failure_2, 'term_loc')"
   ]
  }
 ],
 "metadata": {
  "anaconda-cloud": {},
  "kernelspec": {
   "display_name": "Python [conda root]",
   "language": "python",
   "name": "conda-root-py"
  },
  "language_info": {
   "codemirror_mode": {
    "name": "ipython",
    "version": 2
   },
   "file_extension": ".py",
   "mimetype": "text/x-python",
   "name": "python",
   "nbconvert_exporter": "python",
   "pygments_lexer": "ipython2",
   "version": "2.7.12"
  }
 },
 "nbformat": 4,
 "nbformat_minor": 1
}
