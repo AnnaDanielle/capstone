{
 "cells": [
  {
   "cell_type": "code",
   "execution_count": 1,
   "metadata": {
    "collapsed": true
   },
   "outputs": [],
   "source": [
    "import os\n",
    "os.chdir('../../')"
   ]
  },
  {
   "cell_type": "code",
   "execution_count": 2,
   "metadata": {
    "collapsed": true
   },
   "outputs": [],
   "source": [
    "from sklearn.externals import joblib\n",
    "import lib.yelp_api as yp\n",
    "import pandas as pd\n",
    "import requests\n",
    "import json"
   ]
  },
  {
   "cell_type": "code",
   "execution_count": 3,
   "metadata": {
    "collapsed": true
   },
   "outputs": [],
   "source": [
    "yelp_df = joblib.load('data/yelp_data_reviews_df_{}.pkl'.format(0))"
   ]
  },
  {
   "cell_type": "code",
   "execution_count": 4,
   "metadata": {
    "collapsed": false
   },
   "outputs": [
    {
     "data": {
      "text/plain": [
       "Index([u'cat_1', u'cat_2', u'closed', u'address', u'city', u'zip_code',\n",
       "       u'latitude', u'longitude', u'author_0', u'post_date_0',\n",
       "       ...\n",
       "       u'author_rating_36', u'author_37', u'post_date_37', u'author_rating_37',\n",
       "       u'author_38', u'post_date_38', u'author_rating_38', u'author_39',\n",
       "       u'post_date_39', u'author_rating_39'],\n",
       "      dtype='object', length=130)"
      ]
     },
     "execution_count": 4,
     "metadata": {},
     "output_type": "execute_result"
    }
   ],
   "source": [
    "yelp_df.columns[5:]"
   ]
  },
  {
   "cell_type": "code",
   "execution_count": 5,
   "metadata": {
    "collapsed": false,
    "scrolled": true
   },
   "outputs": [
    {
     "name": "stdout",
     "output_type": "stream",
     "text": [
      "<class 'pandas.core.frame.DataFrame'>\n",
      "Int64Index: 5 entries, 0 to 4\n",
      "Columns: 135 entries, search_name to author_rating_39\n",
      "dtypes: bool(1), float64(3), int64(41), object(90)\n",
      "memory usage: 5.3+ KB\n"
     ]
    }
   ],
   "source": [
    "yelp_df.info()"
   ]
  },
  {
   "cell_type": "code",
   "execution_count": 8,
   "metadata": {
    "collapsed": false
   },
   "outputs": [
    {
     "data": {
      "text/plain": [
       "(5, 135)"
      ]
     },
     "execution_count": 8,
     "metadata": {},
     "output_type": "execute_result"
    }
   ],
   "source": [
    "yelp_df.shape"
   ]
  },
  {
   "cell_type": "code",
   "execution_count": null,
   "metadata": {
    "collapsed": true
   },
   "outputs": [],
   "source": []
  },
  {
   "cell_type": "code",
   "execution_count": 9,
   "metadata": {
    "collapsed": false
   },
   "outputs": [
    {
     "name": "stdout",
     "output_type": "stream",
     "text": [
      "author_0\n",
      "post_date_0\n",
      "author_rating_0\n",
      "author_1\n",
      "post_date_1\n",
      "author_rating_1\n",
      "author_2\n",
      "post_date_2\n",
      "author_rating_2\n",
      "author_3\n",
      "post_date_3\n",
      "author_rating_3\n",
      "author_4\n",
      "post_date_4\n",
      "author_rating_4\n",
      "author_5\n",
      "post_date_5\n",
      "author_rating_5\n",
      "author_6\n",
      "post_date_6\n",
      "author_rating_6\n",
      "author_7\n",
      "post_date_7\n",
      "author_rating_7\n",
      "author_8\n",
      "post_date_8\n",
      "author_rating_8\n",
      "author_9\n",
      "post_date_9\n",
      "author_rating_9\n",
      "author_10\n",
      "post_date_10\n",
      "author_rating_10\n",
      "author_11\n",
      "post_date_11\n",
      "author_rating_11\n",
      "author_12\n",
      "post_date_12\n",
      "author_rating_12\n",
      "author_13\n",
      "post_date_13\n",
      "author_rating_13\n",
      "author_14\n",
      "post_date_14\n",
      "author_rating_14\n",
      "author_15\n",
      "post_date_15\n",
      "author_rating_15\n",
      "author_16\n",
      "post_date_16\n",
      "author_rating_16\n",
      "author_17\n",
      "post_date_17\n",
      "author_rating_17\n",
      "author_18\n",
      "post_date_18\n",
      "author_rating_18\n",
      "author_19\n",
      "post_date_19\n",
      "author_rating_19\n",
      "author_20\n",
      "post_date_20\n",
      "author_rating_20\n",
      "author_21\n",
      "post_date_21\n",
      "author_rating_21\n",
      "author_22\n",
      "post_date_22\n",
      "author_rating_22\n",
      "author_23\n",
      "post_date_23\n",
      "author_rating_23\n",
      "author_24\n",
      "post_date_24\n",
      "author_rating_24\n",
      "author_25\n",
      "post_date_25\n",
      "author_rating_25\n",
      "author_26\n",
      "post_date_26\n",
      "author_rating_26\n",
      "author_27\n",
      "post_date_27\n",
      "author_rating_27\n",
      "author_28\n",
      "post_date_28\n",
      "author_rating_28\n",
      "author_29\n",
      "post_date_29\n",
      "author_rating_29\n",
      "author_30\n",
      "post_date_30\n",
      "author_rating_30\n",
      "author_31\n",
      "post_date_31\n",
      "author_rating_31\n",
      "author_32\n",
      "post_date_32\n",
      "author_rating_32\n",
      "author_33\n",
      "post_date_33\n",
      "author_rating_33\n",
      "author_34\n",
      "post_date_34\n",
      "author_rating_34\n",
      "author_35\n",
      "post_date_35\n",
      "author_rating_35\n",
      "author_36\n",
      "post_date_36\n",
      "author_rating_36\n",
      "author_37\n",
      "post_date_37\n",
      "author_rating_37\n",
      "author_38\n",
      "post_date_38\n",
      "author_rating_38\n",
      "author_39\n",
      "post_date_39\n",
      "author_rating_39\n"
     ]
    }
   ],
   "source": [
    "for col in yelp_df:\n",
    "    if 'author' in col or 'post' in col:\n",
    "        print col"
   ]
  },
  {
   "cell_type": "code",
   "execution_count": 6,
   "metadata": {
    "collapsed": false
   },
   "outputs": [
    {
     "data": {
      "text/plain": [
       "['search_name',\n",
       " 'search_address',\n",
       " 'bus_id',\n",
       " 'name',\n",
       " 'price',\n",
       " 'cat_1',\n",
       " 'cat_2',\n",
       " 'closed',\n",
       " 'address',\n",
       " 'city',\n",
       " 'zip_code',\n",
       " 'latitude',\n",
       " 'longitude',\n",
       " 'post_date_0',\n",
       " 'post_date_1',\n",
       " 'post_date_2',\n",
       " 'post_date_3',\n",
       " 'post_date_4',\n",
       " 'post_date_5',\n",
       " 'post_date_6',\n",
       " 'post_date_7',\n",
       " 'post_date_8',\n",
       " 'post_date_9',\n",
       " 'post_date_10',\n",
       " 'post_date_11',\n",
       " 'post_date_12',\n",
       " 'post_date_13',\n",
       " 'post_date_14',\n",
       " 'post_date_15',\n",
       " 'post_date_16',\n",
       " 'post_date_17',\n",
       " 'post_date_18',\n",
       " 'post_date_19',\n",
       " 'num_reviews',\n",
       " 'avg_rating',\n",
       " 'post_date_20',\n",
       " 'post_date_21',\n",
       " 'post_date_22',\n",
       " 'post_date_23',\n",
       " 'post_date_24',\n",
       " 'post_date_25',\n",
       " 'post_date_26',\n",
       " 'post_date_27',\n",
       " 'post_date_28',\n",
       " 'post_date_29',\n",
       " 'post_date_30',\n",
       " 'post_date_31',\n",
       " 'post_date_32',\n",
       " 'post_date_33',\n",
       " 'post_date_34',\n",
       " 'post_date_35',\n",
       " 'post_date_36',\n",
       " 'post_date_37',\n",
       " 'post_date_38',\n",
       " 'post_date_39']"
      ]
     },
     "execution_count": 6,
     "metadata": {},
     "output_type": "execute_result"
    }
   ],
   "source": [
    "[col for col in yelp_df if 'author' not in col]"
   ]
  },
  {
   "cell_type": "code",
   "execution_count": null,
   "metadata": {
    "collapsed": true
   },
   "outputs": [],
   "source": []
  }
 ],
 "metadata": {
  "anaconda-cloud": {},
  "kernelspec": {
   "display_name": "Python [conda root]",
   "language": "python",
   "name": "conda-root-py"
  },
  "language_info": {
   "codemirror_mode": {
    "name": "ipython",
    "version": 2
   },
   "file_extension": ".py",
   "mimetype": "text/x-python",
   "name": "python",
   "nbconvert_exporter": "python",
   "pygments_lexer": "ipython2",
   "version": "2.7.12"
  }
 },
 "nbformat": 4,
 "nbformat_minor": 1
}
