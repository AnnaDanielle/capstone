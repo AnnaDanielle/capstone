{
 "cells": [
  {
   "cell_type": "markdown",
   "metadata": {},
   "source": [
    "# 2.01 - Yelp API - Business ID Search"
   ]
  },
  {
   "cell_type": "code",
   "execution_count": 1,
   "metadata": {
    "collapsed": true
   },
   "outputs": [],
   "source": [
    "import os\n",
    "os.chdir('../../')"
   ]
  },
  {
   "cell_type": "code",
   "execution_count": 2,
   "metadata": {
    "collapsed": false
   },
   "outputs": [],
   "source": [
    "from sklearn.externals import joblib\n",
    "from urllib import urlencode\n",
    "import lib.yelp_api as yp\n",
    "import pandas as pd\n",
    "import requests\n",
    "import json\n",
    "import re"
   ]
  },
  {
   "cell_type": "markdown",
   "metadata": {},
   "source": [
    "### <span style=\"color:teal\"> Load in Group </span>"
   ]
  },
  {
   "cell_type": "code",
   "execution_count": 3,
   "metadata": {
    "collapsed": false
   },
   "outputs": [
    {
     "data": {
      "text/plain": [
       "'_EbMBoICeTNLSZw6cbRNgcJHyp7LeR41HXv7d8Gy0QaYLENkbfBgDRhLtsYo4hTTTx6r443x_yOsQ5Qk22DimUZ66srRcrgWiBk4eBn293T2q6kiKFJRP_7FvT7dWHYx'"
      ]
     },
     "execution_count": 3,
     "metadata": {},
     "output_type": "execute_result"
    }
   ],
   "source": [
    "yp.obtain_bearer_token()"
   ]
  },
  {
   "cell_type": "code",
   "execution_count": 4,
   "metadata": {
    "collapsed": false
   },
   "outputs": [],
   "source": [
    "yelp_df = pd.read_pickle('data/mtch_srch_rslts_pd.pkl')"
   ]
  },
  {
   "cell_type": "markdown",
   "metadata": {},
   "source": [
    "### <span style=\"color:teal\"> Business ID Requests </span>"
   ]
  },
  {
   "cell_type": "code",
   "execution_count": 5,
   "metadata": {
    "collapsed": true
   },
   "outputs": [],
   "source": [
    "bus_ids = yelp_df['bus_id'].values"
   ]
  },
  {
   "cell_type": "code",
   "execution_count": 6,
   "metadata": {
    "collapsed": true
   },
   "outputs": [],
   "source": [
    "bus_ids = bus_ids[:1]"
   ]
  },
  {
   "cell_type": "code",
   "execution_count": 7,
   "metadata": {
    "collapsed": false
   },
   "outputs": [],
   "source": [
    "failures, successes = yp.yelp_api_bus_id_calls(bus_ids)"
   ]
  },
  {
   "cell_type": "code",
   "execution_count": 6,
   "metadata": {
    "collapsed": false
   },
   "outputs": [
    {
     "data": {
      "text/plain": [
       "['data/yelp_api_bus_id_successes.pkl']"
      ]
     },
     "execution_count": 6,
     "metadata": {},
     "output_type": "execute_result"
    }
   ],
   "source": [
    "joblib.dump(failures, 'data/yelp_api_bus_id_failures.pkl')\n",
    "joblib.dump(successes, 'data/yelp_api_bus_id_successes.pkl')"
   ]
  },
  {
   "cell_type": "code",
   "execution_count": 7,
   "metadata": {
    "collapsed": false
   },
   "outputs": [],
   "source": [
    "failures = joblib.load('data/yelp_api_bus_id_failures.pkl')"
   ]
  },
  {
   "cell_type": "code",
   "execution_count": 8,
   "metadata": {
    "collapsed": false
   },
   "outputs": [],
   "source": [
    "successes = joblib.load('data/yelp_api_bus_id_successes.pkl')"
   ]
  },
  {
   "cell_type": "code",
   "execution_count": 8,
   "metadata": {
    "collapsed": false
   },
   "outputs": [
    {
     "data": {
      "text/plain": [
       "['\\n\\n\\n<!DOCTYPE HTML PUBLIC \"-//W3C//DTD HTML 4.01//EN\" \"http://www.w3.org/TR/html4/strict.dtd\">\\n<html>\\n<head>\\n    <title>Yelp Captcha</title>\\n    <meta http-equiv=\"Content-Type\" content=\"text/html; charset=iso-8859-1\">\\n    <meta http-equiv=\"Pragma\" content=\"no-cache\">\\n    <meta http-equiv=\"Cache-Control\" content=\"no-cache\">\\n    <meta http-equiv=\"Expires\" content=\"0\">\\n    <link rel=\"shortcut icon\" href=\"/favicon.ico\" type=\"image/ico\">\\n\\n<style type=\"text/css\">\\n    html, body, div, span, applet, object, iframe,\\n    h1, h2, h3, h4, h5, h6, p, blockquote, pre,\\n    a, abbr, acronym, address, big, cite, code,\\n    del, dfn, em, font, img, ins, kbd, q, s, samp,\\n    small, strike, strong, sub, sup, tt, var,\\n    dl, dt, dd, ol, ul, li,\\n    fieldset, form, label, legend,\\n    table, caption, tbody, tfoot, thead, tr, th, td {\\n        margin: 0;\\n        padding: 0;\\n        border: 0;\\n        outline: 0;\\n        font-weight: inherit;\\n        font-style: inherit;\\n        font-size: 100%;\\n        font-family: inherit;\\n        vertical-align: baseline;\\n    }\\n    :focus {\\n        outline: 0;\\n    }\\n    body {\\n        line-height: 1;\\n        color: black;\\n    }\\n    ol, ul {\\n        list-style: none;\\n    }\\n    table {\\n        border-collapse: separate;\\n        border-spacing: 0;\\n    }\\n    caption, th, td {\\n        text-align: left;\\n        font-weight: normal;\\n    }\\n\\n    body{\\n        font-family: arial, \\'Lucida Grande\\', \\'Bitstream Vera Sans\\', verdana, sans-serif;\\n        font-size: 12px;\\n        color: #555;\\n        background:#fff;\\n    }\\n\\n    INPUT, TEXTAREA, SELECT {font-family: arial, \\'Lucida Grande\\', \\'Bitstream Vera Sans\\', verdana, sans-serif; font-size: 12px;}\\n\\n    P, FORM {margin: 0; padding: 0;text-align:left;}\\n    P {font-size: 12px; color: #555; margin-bottom: 10px;}\\n    H1, H2, H3 {font-family: arial, verdana, sans-serif;}\\n    H1, H2, H3, H4 {font-weight: bold; color: #C41200;text-align:left;}\\n    H1 A, H2 A, H3 A, H4 A {font-family: arial, \\'Lucida Grande\\', \\'Bitstream Vera Sans\\', verdana, sans-serif;}\\n    H1 {font-size: 18px; margin: 0 0 5px;}\\n    H2 {font-size: 16px; margin: 0 0 5px;}\\n    H3 {font-size: 14px; margin: 0 0 5px;}\\n    H4 {font-size: 12px; margin: 0 0 3px;}\\n    H4.dark {margin: 5px 0 0; color: #333;}\\n    A, A:visited {color: #66c; text-decoration: none;}\\n    A:hover {color: #555; text-decoration: underline;}\\n    img{border:0;}\\n    p.stripped{margin: 0; padding: 0;}\\n    ul.stripped {margin:0;padding:0;list-style:none;}\\n    ul.stripped li{margin:0;}\\n\\n    /* Default form styles */\\n    form{margin:0;padding:0;}\\n    form fieldset{border:0;margin:0;padding:0;}\\n    form fieldset legend{color:#555}\\n\\n    #wrap{\\n        width: 990px;\\n        margin: 0 auto;\\n    }\\n\\n    #header{\\n        height: 80px;\\n        background: url(//s3-media1.ak.yelpcdn.com/assets/2/www/img/8038f2b948cc/gfx/header_minified.png) no-repeat;\\n        position: relative;\\n        margin: 10px 0 0;\\n    }\\n\\n    #header #logo{margin:0 auto;}\\n    #header #logo a{display:block;height:50px;outline:0;text-decoration:none;text-indent:-9999px; white-space: nowrap;}\\n\\n    #content{\\n        padding: 10px;\\n        border: 1px solid #ccc;\\n        border-top: none;\\n        padding-bottom: 60px;\\n        height: 200px;\\n    }\\n\\n    #content p{\\n        text-align: center;\\n    }\\n\\n\\n    form{\\n        margin: 40px auto 0 auto;\\n        text-align: center;\\n        width: 319px;\\n        height: 35px;\\n    }\\n\\n    form input.form200{\\n        width: 188px;\\n    }\\n\\n    #content form p{\\n        float:left;\\n        text-align:left;\\n        margin-left:10px;\\n        position:relative;\\n        width: 200px;\\n    }\\n\\n    form #search-submit{margin-top: 15px;}\\n\\n    label{\\n        display:block;\\n        font-weight:bold;\\n        color: #C41200;\\n        text-align:left;\\n    }\\n\\n    h2{\\n        margin:15px 0px 15px 0px;\\n        text-align:center;\\n        font-size: 1.5em;\\n    }\\n\\n    h3{font-size:1.3em;}\\n\\n    strong{\\n        font-weight: bold;\\n    }\\n\\n    /*  footer  */\\n    #footer{clear:both;margin:20px 0;padding-bottom:20px;text-align:center;}\\n    #footer .directory{margin:5px auto;width:875px;}\\n    #footer p,\\n    #footer ul{clear:both; list-style:none;margin:5px 0;padding:0;text-align:center;}\\n    #footer ul.azlist li a,\\n    #footer ul#about-site li a{font-size:12px;}\\n    #footer ul#about-site,\\n    #footer ul.azlist{margin-bottom:20px;}\\n    #footer ul li{display:inline;margin:0;padding:0 0 10px;}\\n    #footer ul li a{text-decoration:none;}\\n    #footer p.copyright{margin-bottom:20px;}\\n\\n</style>\\n<script type=\"text/javascript\" src=\"/yly-qscvrdxfwebbsuf.js\" defer></script><style type=\"text/css\">#d__fFH{position:absolute;top:-5000px;left:-5000px}#d__fF{font-family:serif;font-size:200px;visibility:hidden}#vbuwfsbvebyvrqyaqzsy{display:none!important}</style></head>\\n<body>\\n<div id=\"wrap\">\\n    <div id=\"header\">\\n        <h1 id=\"logo\">\\n            <a href=\"/\">Yelp</a><a href=\"wtubvbqxtsuut.html\" style=\"display: none;\" rel=\"file\" id=\"vbuwfsbvebyvrqyaqzsy\">uzffcssuuyxd</a>\\n        </h1>\\n    </div>\\n\\n    <div id=\"content\">\\n            <h2>Hey there! Before you continue, we just need to check that you\\'re not a robot.</h2>\\n    <form action=\"/visit_captcha\" method=\"post\" name=\"captcha_form\">\\n        <script src=\"https://www.google.com/recaptcha/api.js\" type=\"text/javascript\"></script>\\n\\n        <input type=\"hidden\" name=\"original_url\" value=\"https://www.yelp.com/biz/one-cafe-los-angeles-2?sort_by=date_asc\">\\n        <input type=\"hidden\" name=\"CID\" value=\"GK\">\\n        <div class=\"g-recaptcha\" data-sitekey=\"6Le5OSYTAAAAADy8seTrWT0eqpS795iV32Gm9Ag1\"></div>\\n\\n            <noscript>\\n        <div>\\n            <div class=\"g-recaptcha-challenge-outer-wrap-noscript\">\\n                <div class=\"g-recaptcha-challenge-inner-wrap-noscript\">\\n                    <iframe\\n                        class=\"g-racaptcha-challenge-frame-noscript\"\\n                        src=\"https://www.google.com/recaptcha/api/fallback?k=6Le5OSYTAAAAADy8seTrWT0eqpS795iV32Gm9Ag1\"\\n                        frameborder=\"0\" scrolling=\"no\"\\n                    ></iframe>\\n                </div>\\n            </div>\\n            <div class=\"g-recaptcha-response-wrap-noscript\">\\n                <textarea\\n                    id=\"g-recaptcha-response\" name=\"g-recaptcha-response\"\\n                    class=\"g-recaptcha-response\"\\n                ></textarea>\\n            </div>\\n        </div>\\n    </noscript>\\n\\n\\n        <button type=\"submit\" value=\"submit\" class=\"ybtn ybtn--primary\"><span>Submit</span></button>\\n    </form>\\n\\n    </div>\\n\\n    <div id=\"footer\">\\n        <p>Copyright &copy; 2004-2017 Yelp</p>\\n    </div>\\n</div>\\n</body>\\n</html>\\n',\n",
       " '\\n\\n\\n<!DOCTYPE HTML PUBLIC \"-//W3C//DTD HTML 4.01//EN\" \"http://www.w3.org/TR/html4/strict.dtd\">\\n<html>\\n<head>\\n    <title>Yelp Captcha</title>\\n    <meta http-equiv=\"Content-Type\" content=\"text/html; charset=iso-8859-1\">\\n    <meta http-equiv=\"Pragma\" content=\"no-cache\">\\n    <meta http-equiv=\"Cache-Control\" content=\"no-cache\">\\n    <meta http-equiv=\"Expires\" content=\"0\">\\n    <link rel=\"shortcut icon\" href=\"/favicon.ico\" type=\"image/ico\">\\n\\n<style type=\"text/css\">\\n    html, body, div, span, applet, object, iframe,\\n    h1, h2, h3, h4, h5, h6, p, blockquote, pre,\\n    a, abbr, acronym, address, big, cite, code,\\n    del, dfn, em, font, img, ins, kbd, q, s, samp,\\n    small, strike, strong, sub, sup, tt, var,\\n    dl, dt, dd, ol, ul, li,\\n    fieldset, form, label, legend,\\n    table, caption, tbody, tfoot, thead, tr, th, td {\\n        margin: 0;\\n        padding: 0;\\n        border: 0;\\n        outline: 0;\\n        font-weight: inherit;\\n        font-style: inherit;\\n        font-size: 100%;\\n        font-family: inherit;\\n        vertical-align: baseline;\\n    }\\n    :focus {\\n        outline: 0;\\n    }\\n    body {\\n        line-height: 1;\\n        color: black;\\n    }\\n    ol, ul {\\n        list-style: none;\\n    }\\n    table {\\n        border-collapse: separate;\\n        border-spacing: 0;\\n    }\\n    caption, th, td {\\n        text-align: left;\\n        font-weight: normal;\\n    }\\n\\n    body{\\n        font-family: arial, \\'Lucida Grande\\', \\'Bitstream Vera Sans\\', verdana, sans-serif;\\n        font-size: 12px;\\n        color: #555;\\n        background:#fff;\\n    }\\n\\n    INPUT, TEXTAREA, SELECT {font-family: arial, \\'Lucida Grande\\', \\'Bitstream Vera Sans\\', verdana, sans-serif; font-size: 12px;}\\n\\n    P, FORM {margin: 0; padding: 0;text-align:left;}\\n    P {font-size: 12px; color: #555; margin-bottom: 10px;}\\n    H1, H2, H3 {font-family: arial, verdana, sans-serif;}\\n    H1, H2, H3, H4 {font-weight: bold; color: #C41200;text-align:left;}\\n    H1 A, H2 A, H3 A, H4 A {font-family: arial, \\'Lucida Grande\\', \\'Bitstream Vera Sans\\', verdana, sans-serif;}\\n    H1 {font-size: 18px; margin: 0 0 5px;}\\n    H2 {font-size: 16px; margin: 0 0 5px;}\\n    H3 {font-size: 14px; margin: 0 0 5px;}\\n    H4 {font-size: 12px; margin: 0 0 3px;}\\n    H4.dark {margin: 5px 0 0; color: #333;}\\n    A, A:visited {color: #66c; text-decoration: none;}\\n    A:hover {color: #555; text-decoration: underline;}\\n    img{border:0;}\\n    p.stripped{margin: 0; padding: 0;}\\n    ul.stripped {margin:0;padding:0;list-style:none;}\\n    ul.stripped li{margin:0;}\\n\\n    /* Default form styles */\\n    form{margin:0;padding:0;}\\n    form fieldset{border:0;margin:0;padding:0;}\\n    form fieldset legend{color:#555}\\n\\n    #wrap{\\n        width: 990px;\\n        margin: 0 auto;\\n    }\\n\\n    #header{\\n        height: 80px;\\n        background: url(//s3-media1.ak.yelpcdn.com/assets/2/www/img/8038f2b948cc/gfx/header_minified.png) no-repeat;\\n        position: relative;\\n        margin: 10px 0 0;\\n    }\\n\\n    #header #logo{margin:0 auto;}\\n    #header #logo a{display:block;height:50px;outline:0;text-decoration:none;text-indent:-9999px; white-space: nowrap;}\\n\\n    #content{\\n        padding: 10px;\\n        border: 1px solid #ccc;\\n        border-top: none;\\n        padding-bottom: 60px;\\n        height: 200px;\\n    }\\n\\n    #content p{\\n        text-align: center;\\n    }\\n\\n\\n    form{\\n        margin: 40px auto 0 auto;\\n        text-align: center;\\n        width: 319px;\\n        height: 35px;\\n    }\\n\\n    form input.form200{\\n        width: 188px;\\n    }\\n\\n    #content form p{\\n        float:left;\\n        text-align:left;\\n        margin-left:10px;\\n        position:relative;\\n        width: 200px;\\n    }\\n\\n    form #search-submit{margin-top: 15px;}\\n\\n    label{\\n        display:block;\\n        font-weight:bold;\\n        color: #C41200;\\n        text-align:left;\\n    }\\n\\n    h2{\\n        margin:15px 0px 15px 0px;\\n        text-align:center;\\n        font-size: 1.5em;\\n    }\\n\\n    h3{font-size:1.3em;}\\n\\n    strong{\\n        font-weight: bold;\\n    }\\n\\n    /*  footer  */\\n    #footer{clear:both;margin:20px 0;padding-bottom:20px;text-align:center;}\\n    #footer .directory{margin:5px auto;width:875px;}\\n    #footer p,\\n    #footer ul{clear:both; list-style:none;margin:5px 0;padding:0;text-align:center;}\\n    #footer ul.azlist li a,\\n    #footer ul#about-site li a{font-size:12px;}\\n    #footer ul#about-site,\\n    #footer ul.azlist{margin-bottom:20px;}\\n    #footer ul li{display:inline;margin:0;padding:0 0 10px;}\\n    #footer ul li a{text-decoration:none;}\\n    #footer p.copyright{margin-bottom:20px;}\\n\\n</style>\\n<script type=\"text/javascript\" src=\"/yly-qscvrdxfwebbsuf.js\" defer></script><style type=\"text/css\">#d__fFH{position:absolute;top:-5000px;left:-5000px}#d__fF{font-family:serif;font-size:200px;visibility:hidden}#vbuwfsbvebyvrqyaqzsy{display:none!important}</style></head>\\n<body>\\n<div id=\"wrap\">\\n    <div id=\"header\">\\n        <h1 id=\"logo\">\\n            <a href=\"/\">Yelp</a><a href=\"wtubvbqxtsuut.html\" style=\"display: none;\" rel=\"file\" id=\"vbuwfsbvebyvrqyaqzsy\">uzffcssuuyxd</a>\\n        </h1>\\n    </div>\\n\\n    <div id=\"content\">\\n            <h2>Hey there! Before you continue, we just need to check that you\\'re not a robot.</h2>\\n    <form action=\"/visit_captcha\" method=\"post\" name=\"captcha_form\">\\n        <script src=\"https://www.google.com/recaptcha/api.js\" type=\"text/javascript\"></script>\\n\\n        <input type=\"hidden\" name=\"original_url\" value=\"https://www.yelp.com/biz/one-cafe-los-angeles-2?sort_by=date_desc\">\\n        <input type=\"hidden\" name=\"CID\" value=\"GK\">\\n        <div class=\"g-recaptcha\" data-sitekey=\"6Le5OSYTAAAAADy8seTrWT0eqpS795iV32Gm9Ag1\"></div>\\n\\n            <noscript>\\n        <div>\\n            <div class=\"g-recaptcha-challenge-outer-wrap-noscript\">\\n                <div class=\"g-recaptcha-challenge-inner-wrap-noscript\">\\n                    <iframe\\n                        class=\"g-racaptcha-challenge-frame-noscript\"\\n                        src=\"https://www.google.com/recaptcha/api/fallback?k=6Le5OSYTAAAAADy8seTrWT0eqpS795iV32Gm9Ag1\"\\n                        frameborder=\"0\" scrolling=\"no\"\\n                    ></iframe>\\n                </div>\\n            </div>\\n            <div class=\"g-recaptcha-response-wrap-noscript\">\\n                <textarea\\n                    id=\"g-recaptcha-response\" name=\"g-recaptcha-response\"\\n                    class=\"g-recaptcha-response\"\\n                ></textarea>\\n            </div>\\n        </div>\\n    </noscript>\\n\\n\\n        <button type=\"submit\" value=\"submit\" class=\"ybtn ybtn--primary\"><span>Submit</span></button>\\n    </form>\\n\\n    </div>\\n\\n    <div id=\"footer\">\\n        <p>Copyright &copy; 2004-2017 Yelp</p>\\n    </div>\\n</div>\\n</body>\\n</html>\\n']"
      ]
     },
     "execution_count": 8,
     "metadata": {},
     "output_type": "execute_result"
    }
   ],
   "source": [
    "successes"
   ]
  },
  {
   "cell_type": "code",
   "execution_count": 6,
   "metadata": {
    "collapsed": true
   },
   "outputs": [],
   "source": [
    "# 'my-moms-bakeshop-los-angeles' kept failing--it looks like the url doesn't exist."
   ]
  },
  {
   "cell_type": "code",
   "execution_count": 7,
   "metadata": {
    "collapsed": false,
    "scrolled": true
   },
   "outputs": [],
   "source": [
    "# joblib.dump(ratings, 'data/yelp_api_ratings_all.pkl')"
   ]
  },
  {
   "cell_type": "code",
   "execution_count": 8,
   "metadata": {
    "collapsed": false
   },
   "outputs": [],
   "source": [
    "ratings = joblib.load('data/yelp_api_ratings_all.pkl')"
   ]
  },
  {
   "cell_type": "code",
   "execution_count": 9,
   "metadata": {
    "collapsed": false
   },
   "outputs": [],
   "source": [
    "rating_dict = {}\n",
    "for key, value in ratings.items():\n",
    "    value_list = []\n",
    "    value_list.append(value[0])\n",
    "    value_list.append(value[1])\n",
    "    value_set = set(value)\n",
    "    for v in value_set:\n",
    "        try:\n",
    "            value_list.append(v[0])\n",
    "            value_list.append(v[1])\n",
    "            value_list.append(v[2])\n",
    "        except:\n",
    "            pass\n",
    "        \n",
    "        rating_dict[key] = value_list"
   ]
  },
  {
   "cell_type": "code",
   "execution_count": 10,
   "metadata": {
    "collapsed": true
   },
   "outputs": [],
   "source": [
    "columns_tuples = [('author_'+str(i), 'post_date_'+str(i), 'author_rating_'+str(i)) for i in range(0,40)]\n",
    "individual_columns = [col for tup in columns_tuples for col in tup]"
   ]
  },
  {
   "cell_type": "code",
   "execution_count": 11,
   "metadata": {
    "collapsed": false
   },
   "outputs": [],
   "source": [
    "columns = ['num_reviews', 'avg_rating'] + individual_columns\n",
    "reviews_df = pd.DataFrame(rating_dict.values(), \n",
    "                          index = rating_dict.keys(), \n",
    "                          columns = columns)"
   ]
  },
  {
   "cell_type": "code",
   "execution_count": 12,
   "metadata": {
    "collapsed": false
   },
   "outputs": [
    {
     "data": {
      "text/html": [
       "<div>\n",
       "<table border=\"1\" class=\"dataframe\">\n",
       "  <thead>\n",
       "    <tr style=\"text-align: right;\">\n",
       "      <th></th>\n",
       "      <th>num_reviews</th>\n",
       "      <th>avg_rating</th>\n",
       "      <th>author_0</th>\n",
       "      <th>post_date_0</th>\n",
       "      <th>author_rating_0</th>\n",
       "      <th>author_1</th>\n",
       "      <th>post_date_1</th>\n",
       "      <th>author_rating_1</th>\n",
       "      <th>author_2</th>\n",
       "      <th>post_date_2</th>\n",
       "      <th>...</th>\n",
       "      <th>author_rating_36</th>\n",
       "      <th>author_37</th>\n",
       "      <th>post_date_37</th>\n",
       "      <th>author_rating_37</th>\n",
       "      <th>author_38</th>\n",
       "      <th>post_date_38</th>\n",
       "      <th>author_rating_38</th>\n",
       "      <th>author_39</th>\n",
       "      <th>post_date_39</th>\n",
       "      <th>author_rating_39</th>\n",
       "    </tr>\n",
       "  </thead>\n",
       "  <tbody>\n",
       "    <tr>\n",
       "      <th>edibol-los-angeles</th>\n",
       "      <td>311</td>\n",
       "      <td>4.250804</td>\n",
       "      <td>Tanner D.</td>\n",
       "      <td>2015-08-01</td>\n",
       "      <td>5.0</td>\n",
       "      <td>Chelsie N.</td>\n",
       "      <td>2017-01-12</td>\n",
       "      <td>5.0</td>\n",
       "      <td>Felor H.</td>\n",
       "      <td>2017-02-28</td>\n",
       "      <td>...</td>\n",
       "      <td>5.0</td>\n",
       "      <td>Nicol G.</td>\n",
       "      <td>2015-07-28</td>\n",
       "      <td>5.0</td>\n",
       "      <td>Elena H.</td>\n",
       "      <td>2015-07-25</td>\n",
       "      <td>5.0</td>\n",
       "      <td>Jackie S.</td>\n",
       "      <td>2015-07-19</td>\n",
       "      <td>2.0</td>\n",
       "    </tr>\n",
       "    <tr>\n",
       "      <th>thai-dishes-los-angeles</th>\n",
       "      <td>307</td>\n",
       "      <td>3.361564</td>\n",
       "      <td>Fara A.</td>\n",
       "      <td>2008-02-23</td>\n",
       "      <td>3.0</td>\n",
       "      <td>Kevin S.</td>\n",
       "      <td>2017-02-28</td>\n",
       "      <td>5.0</td>\n",
       "      <td>Robynn C.</td>\n",
       "      <td>2017-02-12</td>\n",
       "      <td>...</td>\n",
       "      <td>1.0</td>\n",
       "      <td>Valarie S.</td>\n",
       "      <td>2017-02-10</td>\n",
       "      <td>5.0</td>\n",
       "      <td>Maria V.</td>\n",
       "      <td>2017-02-28</td>\n",
       "      <td>3.0</td>\n",
       "      <td>Seeso C.</td>\n",
       "      <td>2008-06-30</td>\n",
       "      <td>5.0</td>\n",
       "    </tr>\n",
       "    <tr>\n",
       "      <th>brew-you-los-angeles</th>\n",
       "      <td>54</td>\n",
       "      <td>3.796296</td>\n",
       "      <td>Jaimie L.</td>\n",
       "      <td>2011-07-03</td>\n",
       "      <td>4.0</td>\n",
       "      <td>Jane L.</td>\n",
       "      <td>2014-04-12</td>\n",
       "      <td>5.0</td>\n",
       "      <td>Peter W.</td>\n",
       "      <td>2013-02-15</td>\n",
       "      <td>...</td>\n",
       "      <td>1.0</td>\n",
       "      <td>John F.</td>\n",
       "      <td>2015-03-22</td>\n",
       "      <td>4.0</td>\n",
       "      <td>Mark C.</td>\n",
       "      <td>2013-04-25</td>\n",
       "      <td>4.0</td>\n",
       "      <td>Ibrahim C.</td>\n",
       "      <td>2013-01-11</td>\n",
       "      <td>5.0</td>\n",
       "    </tr>\n",
       "    <tr>\n",
       "      <th>lins-chinese-cuisine-los-angeles</th>\n",
       "      <td>74</td>\n",
       "      <td>2.945946</td>\n",
       "      <td>Raechel R.</td>\n",
       "      <td>2010-04-20</td>\n",
       "      <td>4.0</td>\n",
       "      <td>Queue H.</td>\n",
       "      <td>2015-08-19</td>\n",
       "      <td>4.0</td>\n",
       "      <td>J. W.</td>\n",
       "      <td>2007-06-18</td>\n",
       "      <td>...</td>\n",
       "      <td>5.0</td>\n",
       "      <td>Rosa C.</td>\n",
       "      <td>2007-12-18</td>\n",
       "      <td>1.0</td>\n",
       "      <td>Kelly H.</td>\n",
       "      <td>2010-10-10</td>\n",
       "      <td>2.0</td>\n",
       "      <td>Holly M.</td>\n",
       "      <td>2015-08-08</td>\n",
       "      <td>3.0</td>\n",
       "    </tr>\n",
       "    <tr>\n",
       "      <th>little-bear-los-angeles</th>\n",
       "      <td>620</td>\n",
       "      <td>3.643548</td>\n",
       "      <td>Ellie B.</td>\n",
       "      <td>2017-01-08</td>\n",
       "      <td>2.0</td>\n",
       "      <td>Alyssa G.</td>\n",
       "      <td>2017-02-20</td>\n",
       "      <td>5.0</td>\n",
       "      <td>Leona V.</td>\n",
       "      <td>2017-01-17</td>\n",
       "      <td>...</td>\n",
       "      <td>4.0</td>\n",
       "      <td>Hemang S.</td>\n",
       "      <td>2012-01-06</td>\n",
       "      <td>5.0</td>\n",
       "      <td>Vanessa S.</td>\n",
       "      <td>2016-11-19</td>\n",
       "      <td>4.0</td>\n",
       "      <td>Foster K.</td>\n",
       "      <td>2012-01-11</td>\n",
       "      <td>5.0</td>\n",
       "    </tr>\n",
       "  </tbody>\n",
       "</table>\n",
       "<p>5 rows × 122 columns</p>\n",
       "</div>"
      ],
      "text/plain": [
       "                                  num_reviews  avg_rating    author_0  \\\n",
       "edibol-los-angeles                        311    4.250804   Tanner D.   \n",
       "thai-dishes-los-angeles                   307    3.361564     Fara A.   \n",
       "brew-you-los-angeles                       54    3.796296   Jaimie L.   \n",
       "lins-chinese-cuisine-los-angeles           74    2.945946  Raechel R.   \n",
       "little-bear-los-angeles                   620    3.643548    Ellie B.   \n",
       "\n",
       "                                 post_date_0  author_rating_0    author_1  \\\n",
       "edibol-los-angeles                2015-08-01              5.0  Chelsie N.   \n",
       "thai-dishes-los-angeles           2008-02-23              3.0    Kevin S.   \n",
       "brew-you-los-angeles              2011-07-03              4.0     Jane L.   \n",
       "lins-chinese-cuisine-los-angeles  2010-04-20              4.0    Queue H.   \n",
       "little-bear-los-angeles           2017-01-08              2.0   Alyssa G.   \n",
       "\n",
       "                                 post_date_1  author_rating_1   author_2  \\\n",
       "edibol-los-angeles                2017-01-12              5.0   Felor H.   \n",
       "thai-dishes-los-angeles           2017-02-28              5.0  Robynn C.   \n",
       "brew-you-los-angeles              2014-04-12              5.0   Peter W.   \n",
       "lins-chinese-cuisine-los-angeles  2015-08-19              4.0      J. W.   \n",
       "little-bear-los-angeles           2017-02-20              5.0   Leona V.   \n",
       "\n",
       "                                 post_date_2        ...         \\\n",
       "edibol-los-angeles                2017-02-28        ...          \n",
       "thai-dishes-los-angeles           2017-02-12        ...          \n",
       "brew-you-los-angeles              2013-02-15        ...          \n",
       "lins-chinese-cuisine-los-angeles  2007-06-18        ...          \n",
       "little-bear-los-angeles           2017-01-17        ...          \n",
       "\n",
       "                                  author_rating_36   author_37 post_date_37  \\\n",
       "edibol-los-angeles                             5.0    Nicol G.   2015-07-28   \n",
       "thai-dishes-los-angeles                        1.0  Valarie S.   2017-02-10   \n",
       "brew-you-los-angeles                           1.0     John F.   2015-03-22   \n",
       "lins-chinese-cuisine-los-angeles               5.0     Rosa C.   2007-12-18   \n",
       "little-bear-los-angeles                        4.0   Hemang S.   2012-01-06   \n",
       "\n",
       "                                  author_rating_37   author_38 post_date_38  \\\n",
       "edibol-los-angeles                             5.0    Elena H.   2015-07-25   \n",
       "thai-dishes-los-angeles                        5.0    Maria V.   2017-02-28   \n",
       "brew-you-los-angeles                           4.0     Mark C.   2013-04-25   \n",
       "lins-chinese-cuisine-los-angeles               1.0    Kelly H.   2010-10-10   \n",
       "little-bear-los-angeles                        5.0  Vanessa S.   2016-11-19   \n",
       "\n",
       "                                  author_rating_38   author_39 post_date_39  \\\n",
       "edibol-los-angeles                             5.0   Jackie S.   2015-07-19   \n",
       "thai-dishes-los-angeles                        3.0    Seeso C.   2008-06-30   \n",
       "brew-you-los-angeles                           4.0  Ibrahim C.   2013-01-11   \n",
       "lins-chinese-cuisine-los-angeles               2.0    Holly M.   2015-08-08   \n",
       "little-bear-los-angeles                        4.0   Foster K.   2012-01-11   \n",
       "\n",
       "                                  author_rating_39  \n",
       "edibol-los-angeles                             2.0  \n",
       "thai-dishes-los-angeles                        5.0  \n",
       "brew-you-los-angeles                           5.0  \n",
       "lins-chinese-cuisine-los-angeles               3.0  \n",
       "little-bear-los-angeles                        5.0  \n",
       "\n",
       "[5 rows x 122 columns]"
      ]
     },
     "execution_count": 12,
     "metadata": {},
     "output_type": "execute_result"
    }
   ],
   "source": [
    "reviews_df.head()"
   ]
  },
  {
   "cell_type": "code",
   "execution_count": 13,
   "metadata": {
    "collapsed": false
   },
   "outputs": [],
   "source": [
    "yelp_data_reviews_df = pd.merge(yelp_df, reviews_df, \n",
    "                                left_index=True, \n",
    "                                right_index=True)"
   ]
  },
  {
   "cell_type": "code",
   "execution_count": 14,
   "metadata": {
    "collapsed": false
   },
   "outputs": [
    {
     "data": {
      "text/html": [
       "<div>\n",
       "<table border=\"1\" class=\"dataframe\">\n",
       "  <thead>\n",
       "    <tr style=\"text-align: right;\">\n",
       "      <th></th>\n",
       "      <th>search_name</th>\n",
       "      <th>search_address</th>\n",
       "      <th>bus_id</th>\n",
       "      <th>name</th>\n",
       "      <th>price</th>\n",
       "      <th>cat_1</th>\n",
       "      <th>cat_2</th>\n",
       "      <th>closed</th>\n",
       "      <th>address</th>\n",
       "      <th>city</th>\n",
       "      <th>...</th>\n",
       "      <th>author_rating_36</th>\n",
       "      <th>author_37</th>\n",
       "      <th>post_date_37</th>\n",
       "      <th>author_rating_37</th>\n",
       "      <th>author_38</th>\n",
       "      <th>post_date_38</th>\n",
       "      <th>author_rating_38</th>\n",
       "      <th>author_39</th>\n",
       "      <th>post_date_39</th>\n",
       "      <th>author_rating_39</th>\n",
       "    </tr>\n",
       "  </thead>\n",
       "  <tbody>\n",
       "    <tr>\n",
       "      <th>101-asian-kitchen-los-angeles</th>\n",
       "      <td>WOK MASTER</td>\n",
       "      <td>7170 BEVERLY BLVD</td>\n",
       "      <td>101-asian-kitchen-los-angeles</td>\n",
       "      <td>101 Asian Kitchen</td>\n",
       "      <td>$$</td>\n",
       "      <td>chinese</td>\n",
       "      <td>sushi</td>\n",
       "      <td>False</td>\n",
       "      <td>7170 Beverly Blvd</td>\n",
       "      <td>Los Angeles</td>\n",
       "      <td>...</td>\n",
       "      <td>2.0</td>\n",
       "      <td>None</td>\n",
       "      <td>None</td>\n",
       "      <td>NaN</td>\n",
       "      <td>None</td>\n",
       "      <td>None</td>\n",
       "      <td>NaN</td>\n",
       "      <td>None</td>\n",
       "      <td>None</td>\n",
       "      <td>NaN</td>\n",
       "    </tr>\n",
       "    <tr>\n",
       "      <th>10k-cho-man-won-los-angeles-2</th>\n",
       "      <td>CHO MAN WON</td>\n",
       "      <td>2881 W OLYMPIC BLVD</td>\n",
       "      <td>10k-cho-man-won-los-angeles-2</td>\n",
       "      <td>10K+ Cho Man Won</td>\n",
       "      <td>$$</td>\n",
       "      <td>chinese</td>\n",
       "      <td>noodles</td>\n",
       "      <td>False</td>\n",
       "      <td>2881 W Olympic Blvd</td>\n",
       "      <td>Los Angeles</td>\n",
       "      <td>...</td>\n",
       "      <td>NaN</td>\n",
       "      <td>None</td>\n",
       "      <td>None</td>\n",
       "      <td>NaN</td>\n",
       "      <td>None</td>\n",
       "      <td>None</td>\n",
       "      <td>NaN</td>\n",
       "      <td>None</td>\n",
       "      <td>None</td>\n",
       "      <td>NaN</td>\n",
       "    </tr>\n",
       "    <tr>\n",
       "      <th>1739-public-house-los-angeles-2</th>\n",
       "      <td>PUBLIC HOUSE BOLA ELECTRIC LOTUS</td>\n",
       "      <td>1739 N VERMONT AVE</td>\n",
       "      <td>1739-public-house-los-angeles-2</td>\n",
       "      <td>1739 Public House</td>\n",
       "      <td>$$</td>\n",
       "      <td>tradamerican</td>\n",
       "      <td>pubs</td>\n",
       "      <td>False</td>\n",
       "      <td>1739 N Vermont Ave</td>\n",
       "      <td>Los Angeles</td>\n",
       "      <td>...</td>\n",
       "      <td>2.0</td>\n",
       "      <td>Denise L.</td>\n",
       "      <td>2017-01-16</td>\n",
       "      <td>3.0</td>\n",
       "      <td>Stacy D.</td>\n",
       "      <td>2009-01-25</td>\n",
       "      <td>2.0</td>\n",
       "      <td>Mr. B.</td>\n",
       "      <td>2017-03-04</td>\n",
       "      <td>4.0</td>\n",
       "    </tr>\n",
       "    <tr>\n",
       "      <th>1810-argentinean-restaurant-los-angeles-2</th>\n",
       "      <td>1810 RESTAURANT</td>\n",
       "      <td>105 W 9TH ST</td>\n",
       "      <td>1810-argentinean-restaurant-los-angeles-2</td>\n",
       "      <td>1810 Argentinean Restaurant</td>\n",
       "      <td>$$</td>\n",
       "      <td>argentine</td>\n",
       "      <td>argentine</td>\n",
       "      <td>False</td>\n",
       "      <td>105 W 9th St</td>\n",
       "      <td>Los Angeles</td>\n",
       "      <td>...</td>\n",
       "      <td>4.0</td>\n",
       "      <td>Dennis V.</td>\n",
       "      <td>2016-12-11</td>\n",
       "      <td>4.0</td>\n",
       "      <td>Bubby O.</td>\n",
       "      <td>2014-08-19</td>\n",
       "      <td>3.0</td>\n",
       "      <td>Marlene G.</td>\n",
       "      <td>2014-08-01</td>\n",
       "      <td>4.0</td>\n",
       "    </tr>\n",
       "    <tr>\n",
       "      <th>1st-wok-los-angeles</th>\n",
       "      <td>1 WOK</td>\n",
       "      <td>5565 W MANCHESTER AVE</td>\n",
       "      <td>1st-wok-los-angeles</td>\n",
       "      <td>1st Wok</td>\n",
       "      <td>$</td>\n",
       "      <td>chinese</td>\n",
       "      <td>chinese</td>\n",
       "      <td>False</td>\n",
       "      <td>5565 W Manchester Ave</td>\n",
       "      <td>Los Angeles</td>\n",
       "      <td>...</td>\n",
       "      <td>4.0</td>\n",
       "      <td>Maria M.</td>\n",
       "      <td>2014-04-03</td>\n",
       "      <td>5.0</td>\n",
       "      <td>Reese M.</td>\n",
       "      <td>2013-01-30</td>\n",
       "      <td>3.0</td>\n",
       "      <td>Dan G.</td>\n",
       "      <td>2011-08-16</td>\n",
       "      <td>3.0</td>\n",
       "    </tr>\n",
       "  </tbody>\n",
       "</table>\n",
       "<p>5 rows × 135 columns</p>\n",
       "</div>"
      ],
      "text/plain": [
       "                                                                search_name  \\\n",
       "101-asian-kitchen-los-angeles                                    WOK MASTER   \n",
       "10k-cho-man-won-los-angeles-2                                   CHO MAN WON   \n",
       "1739-public-house-los-angeles-2            PUBLIC HOUSE BOLA ELECTRIC LOTUS   \n",
       "1810-argentinean-restaurant-los-angeles-2                   1810 RESTAURANT   \n",
       "1st-wok-los-angeles                                                   1 WOK   \n",
       "\n",
       "                                                  search_address  \\\n",
       "101-asian-kitchen-los-angeles                  7170 BEVERLY BLVD   \n",
       "10k-cho-man-won-los-angeles-2                2881 W OLYMPIC BLVD   \n",
       "1739-public-house-los-angeles-2               1739 N VERMONT AVE   \n",
       "1810-argentinean-restaurant-los-angeles-2           105 W 9TH ST   \n",
       "1st-wok-los-angeles                        5565 W MANCHESTER AVE   \n",
       "\n",
       "                                                                              bus_id  \\\n",
       "101-asian-kitchen-los-angeles                          101-asian-kitchen-los-angeles   \n",
       "10k-cho-man-won-los-angeles-2                          10k-cho-man-won-los-angeles-2   \n",
       "1739-public-house-los-angeles-2                      1739-public-house-los-angeles-2   \n",
       "1810-argentinean-restaurant-los-angeles-2  1810-argentinean-restaurant-los-angeles-2   \n",
       "1st-wok-los-angeles                                              1st-wok-los-angeles   \n",
       "\n",
       "                                                                  name price  \\\n",
       "101-asian-kitchen-los-angeles                        101 Asian Kitchen    $$   \n",
       "10k-cho-man-won-los-angeles-2                         10K+ Cho Man Won    $$   \n",
       "1739-public-house-los-angeles-2                      1739 Public House    $$   \n",
       "1810-argentinean-restaurant-los-angeles-2  1810 Argentinean Restaurant    $$   \n",
       "1st-wok-los-angeles                                            1st Wok     $   \n",
       "\n",
       "                                                  cat_1      cat_2 closed  \\\n",
       "101-asian-kitchen-los-angeles                   chinese      sushi  False   \n",
       "10k-cho-man-won-los-angeles-2                   chinese    noodles  False   \n",
       "1739-public-house-los-angeles-2            tradamerican       pubs  False   \n",
       "1810-argentinean-restaurant-los-angeles-2     argentine  argentine  False   \n",
       "1st-wok-los-angeles                             chinese    chinese  False   \n",
       "\n",
       "                                                         address         city  \\\n",
       "101-asian-kitchen-los-angeles                  7170 Beverly Blvd  Los Angeles   \n",
       "10k-cho-man-won-los-angeles-2                2881 W Olympic Blvd  Los Angeles   \n",
       "1739-public-house-los-angeles-2               1739 N Vermont Ave  Los Angeles   \n",
       "1810-argentinean-restaurant-los-angeles-2           105 W 9th St  Los Angeles   \n",
       "1st-wok-los-angeles                        5565 W Manchester Ave  Los Angeles   \n",
       "\n",
       "                                                ...        author_rating_36  \\\n",
       "101-asian-kitchen-los-angeles                   ...                     2.0   \n",
       "10k-cho-man-won-los-angeles-2                   ...                     NaN   \n",
       "1739-public-house-los-angeles-2                 ...                     2.0   \n",
       "1810-argentinean-restaurant-los-angeles-2       ...                     4.0   \n",
       "1st-wok-los-angeles                             ...                     4.0   \n",
       "\n",
       "                                           author_37  post_date_37  \\\n",
       "101-asian-kitchen-los-angeles                   None          None   \n",
       "10k-cho-man-won-los-angeles-2                   None          None   \n",
       "1739-public-house-los-angeles-2            Denise L.    2017-01-16   \n",
       "1810-argentinean-restaurant-los-angeles-2  Dennis V.    2016-12-11   \n",
       "1st-wok-los-angeles                         Maria M.    2014-04-03   \n",
       "\n",
       "                                           author_rating_37  author_38  \\\n",
       "101-asian-kitchen-los-angeles                           NaN       None   \n",
       "10k-cho-man-won-los-angeles-2                           NaN       None   \n",
       "1739-public-house-los-angeles-2                         3.0   Stacy D.   \n",
       "1810-argentinean-restaurant-los-angeles-2               4.0   Bubby O.   \n",
       "1st-wok-los-angeles                                     5.0   Reese M.   \n",
       "\n",
       "                                          post_date_38 author_rating_38  \\\n",
       "101-asian-kitchen-los-angeles                     None              NaN   \n",
       "10k-cho-man-won-los-angeles-2                     None              NaN   \n",
       "1739-public-house-los-angeles-2             2009-01-25              2.0   \n",
       "1810-argentinean-restaurant-los-angeles-2   2014-08-19              3.0   \n",
       "1st-wok-los-angeles                         2013-01-30              3.0   \n",
       "\n",
       "                                            author_39 post_date_39  \\\n",
       "101-asian-kitchen-los-angeles                    None         None   \n",
       "10k-cho-man-won-los-angeles-2                    None         None   \n",
       "1739-public-house-los-angeles-2                Mr. B.   2017-03-04   \n",
       "1810-argentinean-restaurant-los-angeles-2  Marlene G.   2014-08-01   \n",
       "1st-wok-los-angeles                            Dan G.   2011-08-16   \n",
       "\n",
       "                                          author_rating_39  \n",
       "101-asian-kitchen-los-angeles                          NaN  \n",
       "10k-cho-man-won-los-angeles-2                          NaN  \n",
       "1739-public-house-los-angeles-2                        4.0  \n",
       "1810-argentinean-restaurant-los-angeles-2              4.0  \n",
       "1st-wok-los-angeles                                    3.0  \n",
       "\n",
       "[5 rows x 135 columns]"
      ]
     },
     "execution_count": 14,
     "metadata": {},
     "output_type": "execute_result"
    }
   ],
   "source": [
    "yelp_data_reviews_df.head()"
   ]
  },
  {
   "cell_type": "code",
   "execution_count": 15,
   "metadata": {
    "collapsed": false
   },
   "outputs": [],
   "source": [
    "pd.to_pickle(yelp_data_reviews_df, 'data/yelp_data_reviews.pkl')"
   ]
  }
 ],
 "metadata": {
  "anaconda-cloud": {},
  "kernelspec": {
   "display_name": "Python [conda root]",
   "language": "python",
   "name": "conda-root-py"
  },
  "language_info": {
   "codemirror_mode": {
    "name": "ipython",
    "version": 2
   },
   "file_extension": ".py",
   "mimetype": "text/x-python",
   "name": "python",
   "nbconvert_exporter": "python",
   "pygments_lexer": "ipython2",
   "version": "2.7.12"
  }
 },
 "nbformat": 4,
 "nbformat_minor": 1
}
