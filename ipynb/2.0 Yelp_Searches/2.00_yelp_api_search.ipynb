{
 "cells": [
  {
   "cell_type": "markdown",
   "metadata": {},
   "source": [
    "# 2.00 - Group 0 - Yelp API - Search"
   ]
  },
  {
   "cell_type": "code",
   "execution_count": 1,
   "metadata": {
    "collapsed": true
   },
   "outputs": [],
   "source": [
    "import os\n",
    "os.chdir('../../')"
   ]
  },
  {
   "cell_type": "code",
   "execution_count": 2,
   "metadata": {
    "collapsed": false
   },
   "outputs": [],
   "source": [
    "from sklearn.externals import joblib\n",
    "import lib.yelp_api as yp\n",
    "import pandas as pd\n",
    "import requests\n",
    "import json"
   ]
  },
  {
   "cell_type": "markdown",
   "metadata": {},
   "source": [
    "### <span style=\"color:teal\"> Load in Group </span>"
   ]
  },
  {
   "cell_type": "code",
   "execution_count": 3,
   "metadata": {
    "collapsed": true
   },
   "outputs": [],
   "source": [
    "rest_group_df = joblib.load('data/la_rest_group_df.pkl')"
   ]
  },
  {
   "cell_type": "code",
   "execution_count": 4,
   "metadata": {
    "collapsed": false
   },
   "outputs": [
    {
     "data": {
      "text/html": [
       "<div>\n",
       "<table border=\"1\" class=\"dataframe\">\n",
       "  <thead>\n",
       "    <tr style=\"text-align: right;\">\n",
       "      <th></th>\n",
       "      <th>facility</th>\n",
       "      <th>address</th>\n",
       "      <th>city</th>\n",
       "      <th>zip_cd</th>\n",
       "      <th>num_at_address</th>\n",
       "      <th>max_seats</th>\n",
       "      <th>phone</th>\n",
       "      <th>risk_level</th>\n",
       "      <th>last_inspect_date</th>\n",
       "      <th>inspect_score</th>\n",
       "      <th>cat</th>\n",
       "      <th>closed_est</th>\n",
       "      <th>year</th>\n",
       "    </tr>\n",
       "  </thead>\n",
       "  <tbody>\n",
       "    <tr>\n",
       "      <th>0</th>\n",
       "      <td>#1 CAFE</td>\n",
       "      <td>2080 CENTURY PARK E</td>\n",
       "      <td>LOS ANGELES</td>\n",
       "      <td>90067</td>\n",
       "      <td>1</td>\n",
       "      <td>30</td>\n",
       "      <td>+1nan</td>\n",
       "      <td>3</td>\n",
       "      <td>2016-08-18</td>\n",
       "      <td>90.0</td>\n",
       "      <td>None</td>\n",
       "      <td>False</td>\n",
       "      <td>2016</td>\n",
       "    </tr>\n",
       "  </tbody>\n",
       "</table>\n",
       "</div>"
      ],
      "text/plain": [
       "  facility              address         city zip_cd  num_at_address  \\\n",
       "0  #1 CAFE  2080 CENTURY PARK E  LOS ANGELES  90067               1   \n",
       "\n",
       "   max_seats  phone  risk_level last_inspect_date  inspect_score   cat  \\\n",
       "0         30  +1nan           3        2016-08-18           90.0  None   \n",
       "\n",
       "  closed_est  year  \n",
       "0      False  2016  "
      ]
     },
     "execution_count": 4,
     "metadata": {},
     "output_type": "execute_result"
    }
   ],
   "source": [
    "rest_group_df.head(1)"
   ]
  },
  {
   "cell_type": "markdown",
   "metadata": {},
   "source": [
    "## <span style=\"color:teal\"> YELP API REQUEST </span>"
   ]
  },
  {
   "cell_type": "markdown",
   "metadata": {},
   "source": [
    "#### <span style=\"color:teal\"> Functions </span>"
   ]
  },
  {
   "cell_type": "markdown",
   "metadata": {},
   "source": [
    "- Create our Yelp search list\n",
    "    - `yp.create_searches`\n",
    "- Yelp Search\n",
    "    - `yp.yelp_api_calls`\n",
    "- Select necessary Yelp parameters\n",
    "    - `yp.format_srch_dict`\n",
    "- Check that Yelp search matches at least one (out of 30) of Yelp's returned matches, based on the digits of the address\n",
    "    - `yp.pick_correct_matches`"
   ]
  },
  {
   "cell_type": "markdown",
   "metadata": {},
   "source": [
    "#### <span style=\"color:teal\"> Process </span>"
   ]
  },
  {
   "cell_type": "markdown",
   "metadata": {},
   "source": [
    "- Run through the list of terms and locations to search Yelp, with a limit of 30 returns.\n",
    "- Remove any searches that came up 'blank' (or, failed) so we can iterate through the dictionary and not worry about empty lists\n",
    "- Pickle the dictionary so we can maintain the request data in its' purest format as we work with it and make changes"
   ]
  },
  {
   "cell_type": "markdown",
   "metadata": {},
   "source": [
    "Using Yelp's requests, I'm going to search the restaurant name `(terms)` and addresses `(locations)`. I then grab the json object, and sift through to receive the information I want. I'm grabbing the following information:\n",
    "- business id (a unique id we can use to search Yelp later)\n",
    "- business name\n",
    "- price category (options are \\$, \\$\\$, \\$\\$\\$, \\$\\$\\$\\$)\n",
    "- category type (I'm thinking this will help categorize the type of food served, and help determine saturation)\n",
    "- closed (returns true if closed)\n",
    "- address, city, zip to cross-check with LA county data\n",
    "- long, lat (for some nice graphics later)"
   ]
  },
  {
   "cell_type": "markdown",
   "metadata": {},
   "source": [
    "### <span style=\"color:purple\"> Phone Requests </span>"
   ]
  },
  {
   "cell_type": "code",
   "execution_count": 5,
   "metadata": {
    "collapsed": false
   },
   "outputs": [],
   "source": [
    "phone_searches = yp.create_searches(rest_group_df, 'phone')"
   ]
  },
  {
   "cell_type": "code",
   "execution_count": 6,
   "metadata": {
    "collapsed": false
   },
   "outputs": [],
   "source": [
    "# phn_srch_dict, unsrchbl_phn = yp.yelp_api_calls(phone_searches, 'phone')"
   ]
  },
  {
   "cell_type": "code",
   "execution_count": 7,
   "metadata": {
    "collapsed": false
   },
   "outputs": [],
   "source": [
    "# yp_phn_srch_fail = yp.find_failed_searches(11, phn_srch_dict, 'phone')"
   ]
  },
  {
   "cell_type": "code",
   "execution_count": 8,
   "metadata": {
    "collapsed": false
   },
   "outputs": [],
   "source": [
    "phn_srch_dict = yp.load_srch_dict(11, 'phone')"
   ]
  },
  {
   "cell_type": "code",
   "execution_count": 9,
   "metadata": {
    "collapsed": false
   },
   "outputs": [
    {
     "data": {
      "text/plain": [
       "{'0_Total DataFrame': (9094, '100%'),\n",
       " '1_Restaurants with Phone Provided': (4613, '51.0%')}"
      ]
     },
     "execution_count": 9,
     "metadata": {},
     "output_type": "execute_result"
    }
   ],
   "source": [
    "yp.return_proccess_tracker()"
   ]
  },
  {
   "cell_type": "code",
   "execution_count": 10,
   "metadata": {
    "collapsed": false
   },
   "outputs": [],
   "source": [
    "phn_frmt_dict = yp.format_srch_dict(phn_srch_dict, 'phone')"
   ]
  },
  {
   "cell_type": "code",
   "execution_count": 11,
   "metadata": {
    "collapsed": false
   },
   "outputs": [],
   "source": [
    "unknwn_phn = yp.pick_correct_matches(phn_frmt_dict, 'phone')"
   ]
  },
  {
   "cell_type": "code",
   "execution_count": 12,
   "metadata": {
    "collapsed": false
   },
   "outputs": [
    {
     "data": {
      "text/html": [
       "<div>\n",
       "<table border=\"1\" class=\"dataframe\">\n",
       "  <thead>\n",
       "    <tr style=\"text-align: right;\">\n",
       "      <th></th>\n",
       "      <th>search_name</th>\n",
       "      <th>search_address</th>\n",
       "      <th>bus_id</th>\n",
       "      <th>name</th>\n",
       "      <th>price</th>\n",
       "      <th>cat_1</th>\n",
       "      <th>cat_2</th>\n",
       "      <th>closed</th>\n",
       "      <th>address</th>\n",
       "      <th>city</th>\n",
       "      <th>zip_code</th>\n",
       "      <th>latitude</th>\n",
       "      <th>longitude</th>\n",
       "      <th>match</th>\n",
       "    </tr>\n",
       "  </thead>\n",
       "  <tbody>\n",
       "    <tr>\n",
       "      <th>general-cow-korean-bbq-los-angeles</th>\n",
       "      <td>#2 MOON BBQ</td>\n",
       "      <td>478 N WESTERN AVE</td>\n",
       "      <td>general-cow-korean-bbq-los-angeles</td>\n",
       "      <td>General Cow Korean BBQ</td>\n",
       "      <td>$$</td>\n",
       "      <td>korean</td>\n",
       "      <td>korean</td>\n",
       "      <td>True</td>\n",
       "      <td>480 N Western Ave</td>\n",
       "      <td>Los Angeles</td>\n",
       "      <td>90004</td>\n",
       "      <td>34.079647</td>\n",
       "      <td>-118.309013</td>\n",
       "      <td>0.0</td>\n",
       "    </tr>\n",
       "  </tbody>\n",
       "</table>\n",
       "</div>"
      ],
      "text/plain": [
       "                                    search_name     search_address  \\\n",
       "general-cow-korean-bbq-los-angeles  #2 MOON BBQ  478 N WESTERN AVE   \n",
       "\n",
       "                                                                bus_id  \\\n",
       "general-cow-korean-bbq-los-angeles  general-cow-korean-bbq-los-angeles   \n",
       "\n",
       "                                                      name price   cat_1  \\\n",
       "general-cow-korean-bbq-los-angeles  General Cow Korean BBQ    $$  korean   \n",
       "\n",
       "                                     cat_2 closed            address  \\\n",
       "general-cow-korean-bbq-los-angeles  korean   True  480 N Western Ave   \n",
       "\n",
       "                                           city zip_code   latitude  \\\n",
       "general-cow-korean-bbq-los-angeles  Los Angeles    90004  34.079647   \n",
       "\n",
       "                                     longitude  match  \n",
       "general-cow-korean-bbq-los-angeles -118.309013    0.0  "
      ]
     },
     "execution_count": 12,
     "metadata": {},
     "output_type": "execute_result"
    }
   ],
   "source": [
    "phn_srch_df = pd.DataFrame(phn_frmt_dict.values(), index = phn_frmt_dict.keys(),\n",
    "                              columns = ['search_name', 'search_address', 'bus_id', 'name', \n",
    "                                         'price', 'cat_1', 'cat_2', 'closed','address',\n",
    "                                         'city', 'zip_code', 'latitude', 'longitude', 'match'])\n",
    "\n",
    "phn_srch_df.sort_values('search_name').head(1)"
   ]
  },
  {
   "cell_type": "markdown",
   "metadata": {},
   "source": [
    "### <span style=\"color:teal\"> Term/Location Requests </span>"
   ]
  },
  {
   "cell_type": "code",
   "execution_count": 13,
   "metadata": {
    "collapsed": false
   },
   "outputs": [],
   "source": [
    "trm_loc_searches = yp.create_searches(rest_group_df, 'term_loc', optional_data=phn_srch_df)"
   ]
  },
  {
   "cell_type": "code",
   "execution_count": 14,
   "metadata": {
    "collapsed": false,
    "scrolled": false
   },
   "outputs": [
    {
     "data": {
      "text/plain": [
       "{'0_Total DataFrame': (9094, '100%'),\n",
       " '1_Restaurants with Phone Provided': (4613, '51.0%'),\n",
       " '3_Successful Matches from Phone Searches': (2350, '26.0%'),\n",
       " '4_Remaining Restaurants to Search with Term/Location': (6737, '74.0%')}"
      ]
     },
     "execution_count": 14,
     "metadata": {},
     "output_type": "execute_result"
    }
   ],
   "source": [
    "yp.return_proccess_tracker()"
   ]
  },
  {
   "cell_type": "code",
   "execution_count": 15,
   "metadata": {
    "collapsed": false
   },
   "outputs": [],
   "source": [
    "trm_loc_srch_dict, unsrchbl_trm_loc = yp.yelp_api_calls(trm_loc_searches, 'term_loc')"
   ]
  },
  {
   "cell_type": "code",
   "execution_count": 16,
   "metadata": {
    "collapsed": false
   },
   "outputs": [],
   "source": [
    "trm_loc_srch_fail = yp.find_failed_searches(11, trm_loc_srch_dict, 'term_loc')"
   ]
  },
  {
   "cell_type": "code",
   "execution_count": 17,
   "metadata": {
    "collapsed": true
   },
   "outputs": [],
   "source": [
    "trm_loc_srch_dict = yp.load_srch_dict(11, 'term_loc')"
   ]
  },
  {
   "cell_type": "code",
   "execution_count": 18,
   "metadata": {
    "collapsed": false
   },
   "outputs": [
    {
     "data": {
      "text/plain": [
       "{'0_Total DataFrame': (9094, '100%'),\n",
       " '1_Restaurants with Phone Provided': (4613, '51.0%'),\n",
       " '3_Successful Matches from Phone Searches': (2350, '26.0%'),\n",
       " '4_Remaining Restaurants to Search with Term/Location': (6737, '74.0%'),\n",
       " '5_Restaurants with Successful Term/Location Searches': (5861, '64.0%')}"
      ]
     },
     "execution_count": 18,
     "metadata": {},
     "output_type": "execute_result"
    }
   ],
   "source": [
    "yp.return_proccess_tracker()"
   ]
  },
  {
   "cell_type": "code",
   "execution_count": 19,
   "metadata": {
    "collapsed": false
   },
   "outputs": [],
   "source": [
    "trm_loc_frmt_dict = yp.format_srch_dict(trm_loc_srch_dict, 'term_loc')"
   ]
  },
  {
   "cell_type": "code",
   "execution_count": 20,
   "metadata": {
    "collapsed": false
   },
   "outputs": [],
   "source": [
    "unknwn_trm_loc = yp.pick_correct_matches(trm_loc_frmt_dict, 'term_loc')"
   ]
  },
  {
   "cell_type": "code",
   "execution_count": 21,
   "metadata": {
    "collapsed": false
   },
   "outputs": [
    {
     "data": {
      "text/plain": [
       "{'0_Total DataFrame': (9094, '100%'),\n",
       " '1_Restaurants with Phone Provided': (4613, '51.0%'),\n",
       " '3_Successful Matches from Phone Searches': (2350, '26.0%'),\n",
       " '4_Remaining Restaurants to Search with Term/Location': (6737, '74.0%'),\n",
       " '5_Restaurants with Successful Term/Location Searches': (5861, '64.0%'),\n",
       " '6_Successful Matches from Term/Loc Searches': (1183, '13.0%'),\n",
       " '7_Successful Matches all Searches': (3533, '39.0%')}"
      ]
     },
     "execution_count": 21,
     "metadata": {},
     "output_type": "execute_result"
    }
   ],
   "source": [
    "yp.return_proccess_tracker()"
   ]
  },
  {
   "cell_type": "code",
   "execution_count": 22,
   "metadata": {
    "collapsed": false
   },
   "outputs": [
    {
     "data": {
      "text/html": [
       "<div>\n",
       "<table border=\"1\" class=\"dataframe\">\n",
       "  <thead>\n",
       "    <tr style=\"text-align: right;\">\n",
       "      <th></th>\n",
       "      <th>search_name</th>\n",
       "      <th>search_address</th>\n",
       "      <th>bus_id</th>\n",
       "      <th>name</th>\n",
       "      <th>price</th>\n",
       "      <th>cat_1</th>\n",
       "      <th>cat_2</th>\n",
       "      <th>closed</th>\n",
       "      <th>address</th>\n",
       "      <th>city</th>\n",
       "      <th>zip_code</th>\n",
       "      <th>latitude</th>\n",
       "      <th>longitude</th>\n",
       "      <th>match</th>\n",
       "    </tr>\n",
       "  </thead>\n",
       "  <tbody>\n",
       "    <tr>\n",
       "      <th>us-chinese-food-inglewood</th>\n",
       "      <td>#1 CHINESE FAST FOOD</td>\n",
       "      <td>8606 S VERMONT AVE</td>\n",
       "      <td>us-chinese-food-inglewood</td>\n",
       "      <td>US Chinese Food</td>\n",
       "      <td>None</td>\n",
       "      <td>chinese</td>\n",
       "      <td>chinese</td>\n",
       "      <td>False</td>\n",
       "      <td>3240 W Century Blvd</td>\n",
       "      <td>Inglewood</td>\n",
       "      <td>90303</td>\n",
       "      <td>33.945335</td>\n",
       "      <td>-118.328347</td>\n",
       "      <td>0.0</td>\n",
       "    </tr>\n",
       "  </tbody>\n",
       "</table>\n",
       "</div>"
      ],
      "text/plain": [
       "                                    search_name      search_address  \\\n",
       "us-chinese-food-inglewood  #1 CHINESE FAST FOOD  8606 S VERMONT AVE   \n",
       "\n",
       "                                              bus_id             name price  \\\n",
       "us-chinese-food-inglewood  us-chinese-food-inglewood  US Chinese Food  None   \n",
       "\n",
       "                             cat_1    cat_2 closed              address  \\\n",
       "us-chinese-food-inglewood  chinese  chinese  False  3240 W Century Blvd   \n",
       "\n",
       "                                city zip_code   latitude   longitude  match  \n",
       "us-chinese-food-inglewood  Inglewood    90303  33.945335 -118.328347    0.0  "
      ]
     },
     "execution_count": 22,
     "metadata": {},
     "output_type": "execute_result"
    }
   ],
   "source": [
    "trm_loc_srch_df = pd.DataFrame(trm_loc_frmt_dict.values(), index = trm_loc_frmt_dict.keys(),\n",
    "                              columns = ['search_name', 'search_address', 'bus_id', 'name', \n",
    "                                         'price', 'cat_1', 'cat_2', 'closed','address',\n",
    "                                         'city', 'zip_code', 'latitude', 'longitude', 'match'])\n",
    "\n",
    "trm_loc_srch_df.sort_values('search_name').head(1)"
   ]
  },
  {
   "cell_type": "markdown",
   "metadata": {},
   "source": [
    "### <span style=\"color:teal\"> Concatenate DataFrames </span>"
   ]
  },
  {
   "cell_type": "code",
   "execution_count": 23,
   "metadata": {
    "collapsed": false
   },
   "outputs": [],
   "source": [
    "all_srch_rslts = pd.concat([trm_loc_srch_df, phn_srch_df])"
   ]
  },
  {
   "cell_type": "code",
   "execution_count": 24,
   "metadata": {
    "collapsed": false,
    "scrolled": true
   },
   "outputs": [
    {
     "data": {
      "text/html": [
       "<div>\n",
       "<table border=\"1\" class=\"dataframe\">\n",
       "  <thead>\n",
       "    <tr style=\"text-align: right;\">\n",
       "      <th></th>\n",
       "      <th>search_name</th>\n",
       "      <th>search_address</th>\n",
       "      <th>name</th>\n",
       "      <th>bus_id</th>\n",
       "    </tr>\n",
       "  </thead>\n",
       "  <tbody>\n",
       "    <tr>\n",
       "      <th>318</th>\n",
       "      <td>BLACK ROSE TAVERN/ THE JOINT</td>\n",
       "      <td>8771 W PICO BLVD</td>\n",
       "      <td>The Joint</td>\n",
       "      <td>2</td>\n",
       "    </tr>\n",
       "    <tr>\n",
       "      <th>795</th>\n",
       "      <td>COUNT POTATO</td>\n",
       "      <td>1125 W 6TH ST</td>\n",
       "      <td>Count Potato</td>\n",
       "      <td>2</td>\n",
       "    </tr>\n",
       "    <tr>\n",
       "      <th>925</th>\n",
       "      <td>DONUT KING</td>\n",
       "      <td>1601 E IMPERIAL HWY</td>\n",
       "      <td>Donut King</td>\n",
       "      <td>2</td>\n",
       "    </tr>\n",
       "    <tr>\n",
       "      <th>1448</th>\n",
       "      <td>HOMEGIRL CAFE</td>\n",
       "      <td>130 W BRUNO ST</td>\n",
       "      <td>Homeboy Industries</td>\n",
       "      <td>2</td>\n",
       "    </tr>\n",
       "    <tr>\n",
       "      <th>1467</th>\n",
       "      <td>HONG KONG EXPRESS</td>\n",
       "      <td>3330 W FLORENCE AVE</td>\n",
       "      <td>Hong Kong Express</td>\n",
       "      <td>2</td>\n",
       "    </tr>\n",
       "    <tr>\n",
       "      <th>1477</th>\n",
       "      <td>HOP LOUIE</td>\n",
       "      <td>950 MEI LING WAY</td>\n",
       "      <td>Hop Louie</td>\n",
       "      <td>2</td>\n",
       "    </tr>\n",
       "    <tr>\n",
       "      <th>1635</th>\n",
       "      <td>JOANIE AND LEIGHS CAKES</td>\n",
       "      <td>2323 ROSCOMARE RD</td>\n",
       "      <td>Joanie &amp; Leigh's Cakes</td>\n",
       "      <td>2</td>\n",
       "    </tr>\n",
       "    <tr>\n",
       "      <th>1751</th>\n",
       "      <td>KING EDDY SALOON</td>\n",
       "      <td>131 E 5TH ST</td>\n",
       "      <td>King Eddy Saloon</td>\n",
       "      <td>2</td>\n",
       "    </tr>\n",
       "    <tr>\n",
       "      <th>2307</th>\n",
       "      <td>MILENA BAKERY</td>\n",
       "      <td>5216 W SUNSET BLVD</td>\n",
       "      <td>Goldstar Bakery</td>\n",
       "      <td>2</td>\n",
       "    </tr>\n",
       "    <tr>\n",
       "      <th>2448</th>\n",
       "      <td>NEW WORLD BUFFET</td>\n",
       "      <td>1419 E GAGE AVE</td>\n",
       "      <td>New World Buffet</td>\n",
       "      <td>2</td>\n",
       "    </tr>\n",
       "    <tr>\n",
       "      <th>2720</th>\n",
       "      <td>PHO THAI TOWN</td>\n",
       "      <td>5136 HOLLYWOOD BLVD</td>\n",
       "      <td>Thai Esan BBQ</td>\n",
       "      <td>2</td>\n",
       "    </tr>\n",
       "    <tr>\n",
       "      <th>2721</th>\n",
       "      <td>PHO THAI TOWN</td>\n",
       "      <td>5136 HOLLYWOOD BLVD</td>\n",
       "      <td>Thai Town Noodle</td>\n",
       "      <td>2</td>\n",
       "    </tr>\n",
       "    <tr>\n",
       "      <th>3185</th>\n",
       "      <td>SIZZLERS</td>\n",
       "      <td>5856 W MANCHESTER AVE</td>\n",
       "      <td>Sizzler</td>\n",
       "      <td>2</td>\n",
       "    </tr>\n",
       "    <tr>\n",
       "      <th>3301</th>\n",
       "      <td>STATUS KUO</td>\n",
       "      <td>3809 GRAND VIEW BLVD</td>\n",
       "      <td>Status Kuo</td>\n",
       "      <td>2</td>\n",
       "    </tr>\n",
       "    <tr>\n",
       "      <th>3327</th>\n",
       "      <td>SUBWAY</td>\n",
       "      <td>1813 N CAHUENGA BLVD</td>\n",
       "      <td>Subway</td>\n",
       "      <td>2</td>\n",
       "    </tr>\n",
       "    <tr>\n",
       "      <th>3337</th>\n",
       "      <td>SUBWAY</td>\n",
       "      <td>3504 W SUNSET BLVD</td>\n",
       "      <td>Subway</td>\n",
       "      <td>2</td>\n",
       "    </tr>\n",
       "    <tr>\n",
       "      <th>3576</th>\n",
       "      <td>THAI ESAN - BBQ</td>\n",
       "      <td>5136 HOLLYWOOD BLVD</td>\n",
       "      <td>Thai Esan BBQ</td>\n",
       "      <td>2</td>\n",
       "    </tr>\n",
       "    <tr>\n",
       "      <th>3823</th>\n",
       "      <td>TRIMANA</td>\n",
       "      <td>1900 AVE OF THE STARS</td>\n",
       "      <td>Trimana</td>\n",
       "      <td>2</td>\n",
       "    </tr>\n",
       "    <tr>\n",
       "      <th>3993</th>\n",
       "      <td>WINDSOR DONUTS</td>\n",
       "      <td>5301 W SUNSET BLVD</td>\n",
       "      <td>Windsor Donuts</td>\n",
       "      <td>2</td>\n",
       "    </tr>\n",
       "    <tr>\n",
       "      <th>4108</th>\n",
       "      <td>YUM YUM DONUTS FRANCHISE</td>\n",
       "      <td>700 N VINE ST</td>\n",
       "      <td>Yum Yum Donuts</td>\n",
       "      <td>2</td>\n",
       "    </tr>\n",
       "  </tbody>\n",
       "</table>\n",
       "</div>"
      ],
      "text/plain": [
       "                       search_name         search_address  \\\n",
       "318   BLACK ROSE TAVERN/ THE JOINT       8771 W PICO BLVD   \n",
       "795                   COUNT POTATO          1125 W 6TH ST   \n",
       "925                     DONUT KING    1601 E IMPERIAL HWY   \n",
       "1448                 HOMEGIRL CAFE         130 W BRUNO ST   \n",
       "1467             HONG KONG EXPRESS    3330 W FLORENCE AVE   \n",
       "1477                     HOP LOUIE       950 MEI LING WAY   \n",
       "1635       JOANIE AND LEIGHS CAKES      2323 ROSCOMARE RD   \n",
       "1751              KING EDDY SALOON           131 E 5TH ST   \n",
       "2307                 MILENA BAKERY     5216 W SUNSET BLVD   \n",
       "2448              NEW WORLD BUFFET        1419 E GAGE AVE   \n",
       "2720                 PHO THAI TOWN    5136 HOLLYWOOD BLVD   \n",
       "2721                 PHO THAI TOWN    5136 HOLLYWOOD BLVD   \n",
       "3185                      SIZZLERS  5856 W MANCHESTER AVE   \n",
       "3301                    STATUS KUO   3809 GRAND VIEW BLVD   \n",
       "3327                        SUBWAY   1813 N CAHUENGA BLVD   \n",
       "3337                        SUBWAY     3504 W SUNSET BLVD   \n",
       "3576               THAI ESAN - BBQ    5136 HOLLYWOOD BLVD   \n",
       "3823                       TRIMANA  1900 AVE OF THE STARS   \n",
       "3993                WINDSOR DONUTS     5301 W SUNSET BLVD   \n",
       "4108      YUM YUM DONUTS FRANCHISE          700 N VINE ST   \n",
       "\n",
       "                        name  bus_id  \n",
       "318                The Joint       2  \n",
       "795             Count Potato       2  \n",
       "925               Donut King       2  \n",
       "1448      Homeboy Industries       2  \n",
       "1467       Hong Kong Express       2  \n",
       "1477               Hop Louie       2  \n",
       "1635  Joanie & Leigh's Cakes       2  \n",
       "1751        King Eddy Saloon       2  \n",
       "2307         Goldstar Bakery       2  \n",
       "2448        New World Buffet       2  \n",
       "2720           Thai Esan BBQ       2  \n",
       "2721        Thai Town Noodle       2  \n",
       "3185                 Sizzler       2  \n",
       "3301              Status Kuo       2  \n",
       "3327                  Subway       2  \n",
       "3337                  Subway       2  \n",
       "3576           Thai Esan BBQ       2  \n",
       "3823                 Trimana       2  \n",
       "3993          Windsor Donuts       2  \n",
       "4108          Yum Yum Donuts       2  "
      ]
     },
     "execution_count": 24,
     "metadata": {},
     "output_type": "execute_result"
    }
   ],
   "source": [
    "grpd_mtch_srch_rslts = all_srch_rslts[all_srch_rslts['match'] == 1.0].groupby(['search_name', \n",
    "                                                                               'search_address', \n",
    "                                                                               'name'],\n",
    "                                                                               as_index=False,\n",
    "                                                                               squeeze=True).agg({'bus_id': 'count'})\n",
    "grpd_mtch_srch_rslts[grpd_mtch_srch_rslts['bus_id'] > 1]"
   ]
  },
  {
   "cell_type": "markdown",
   "metadata": {},
   "source": [
    "### <span style=\"color:teal\"> Read in Yelp Categories </span>"
   ]
  },
  {
   "cell_type": "code",
   "execution_count": 25,
   "metadata": {
    "collapsed": false
   },
   "outputs": [],
   "source": [
    "categories = pd.read_json('data/categories.json')"
   ]
  },
  {
   "cell_type": "code",
   "execution_count": 26,
   "metadata": {
    "collapsed": false
   },
   "outputs": [],
   "source": [
    "cat_alias = categories['alias'].values\n",
    "cat_prnts = categories['parents'].values\n",
    "\n",
    "cat_list = zip(cat_alias, cat_prnts)"
   ]
  },
  {
   "cell_type": "code",
   "execution_count": 27,
   "metadata": {
    "collapsed": false
   },
   "outputs": [],
   "source": [
    "cat_dict = {}\n",
    "\n",
    "for i in cat_list:\n",
    "    cat_alias = i[0]\n",
    "    cat_parent = i[1]\n",
    "    if cat_parent == []:\n",
    "        pass\n",
    "    else:\n",
    "        cat_dict[cat_alias] = cat_parent"
   ]
  },
  {
   "cell_type": "code",
   "execution_count": 28,
   "metadata": {
    "collapsed": false,
    "scrolled": true
   },
   "outputs": [],
   "source": [
    "rest_food_dict = {}\n",
    "\n",
    "for key, value in cat_dict.items():\n",
    "    if 'restaurants' in value:\n",
    "        rest_food_dict[key] = value"
   ]
  },
  {
   "cell_type": "code",
   "execution_count": 29,
   "metadata": {
    "collapsed": true
   },
   "outputs": [],
   "source": [
    "relevant_food_cat = ['coffee','delicatessen','bagels','milkshakebars',\n",
    "                     'poke','shavedice','bento','tea','bakeries','donuts',\n",
    "                     'gourmet','desserts','cupcakes','churros','empanadas',\n",
    "                     'smokehouse','pretzels','acaibowls','icecream','gelato',\n",
    "                     'ramen']\n",
    "\n",
    "for cat in relevant_food_cat:\n",
    "    rest_food_dict[cat] = ['food']"
   ]
  },
  {
   "cell_type": "markdown",
   "metadata": {},
   "source": [
    "### <span style=\"color:teal\"> Trim DataFrame to Only Represent Restaurants and Food </span>"
   ]
  },
  {
   "cell_type": "code",
   "execution_count": 30,
   "metadata": {
    "collapsed": false
   },
   "outputs": [],
   "source": [
    "def filter_food_rest(x):\n",
    "    if x in rest_food_dict:\n",
    "        return 1\n",
    "    else:\n",
    "        return 0\n",
    "\n",
    "all_srch_rslts['rst_fd_1'] = all_srch_rslts['cat_1'].apply(filter_food_rest)\n",
    "all_srch_rslts['rst_fd_2'] = all_srch_rslts['cat_2'].apply(filter_food_rest)\n",
    "all_srch_rslts['rst_fd'] = all_srch_rslts['rst_fd_2'] + all_srch_rslts['rst_fd_1']"
   ]
  },
  {
   "cell_type": "code",
   "execution_count": 31,
   "metadata": {
    "collapsed": false
   },
   "outputs": [],
   "source": [
    "mtch_srch_rslts = all_srch_rslts[(all_srch_rslts['match'] == 1) & \n",
    "                                 (all_srch_rslts['rst_fd'] > 0)]"
   ]
  },
  {
   "cell_type": "code",
   "execution_count": 32,
   "metadata": {
    "collapsed": false
   },
   "outputs": [],
   "source": [
    "mtch_srch_rslts = mtch_srch_rslts[['search_name', 'search_address', 'bus_id',\n",
    "                                   'name', 'price', 'cat_1', 'cat_2', 'closed',\n",
    "                                   'address', 'city', 'zip_code', 'latitude',\n",
    "                                   'longitude']]"
   ]
  },
  {
   "cell_type": "code",
   "execution_count": 34,
   "metadata": {
    "collapsed": false
   },
   "outputs": [
    {
     "name": "stdout",
     "output_type": "stream",
     "text": [
      "<class 'pandas.core.frame.DataFrame'>\n",
      "Index: 3501 entries, puerto-angelito-los-angeles to the-big-burrito-los-angeles\n",
      "Data columns (total 13 columns):\n",
      "search_name       3501 non-null object\n",
      "search_address    3501 non-null object\n",
      "bus_id            3501 non-null object\n",
      "name              3501 non-null object\n",
      "price             3305 non-null object\n",
      "cat_1             3501 non-null object\n",
      "cat_2             3501 non-null object\n",
      "closed            3501 non-null bool\n",
      "address           3501 non-null object\n",
      "city              3501 non-null object\n",
      "zip_code          3501 non-null object\n",
      "latitude          3501 non-null float64\n",
      "longitude         3501 non-null float64\n",
      "dtypes: bool(1), float64(2), object(10)\n",
      "memory usage: 359.0+ KB\n"
     ]
    }
   ],
   "source": [
    "mtch_srch_rslts.info()"
   ]
  },
  {
   "cell_type": "code",
   "execution_count": 37,
   "metadata": {
    "collapsed": false
   },
   "outputs": [
    {
     "data": {
      "text/plain": [
       "0.2262210796915167"
      ]
     },
     "execution_count": 37,
     "metadata": {},
     "output_type": "execute_result"
    }
   ],
   "source": [
    "sum(mtch_srch_rslts['closed'])*1.0/len(mtch_srch_rslts['closed'])"
   ]
  },
  {
   "cell_type": "code",
   "execution_count": 35,
   "metadata": {
    "collapsed": false,
    "scrolled": true
   },
   "outputs": [
    {
     "data": {
      "text/html": [
       "<div>\n",
       "<table border=\"1\" class=\"dataframe\">\n",
       "  <thead>\n",
       "    <tr style=\"text-align: right;\">\n",
       "      <th></th>\n",
       "      <th>search_name</th>\n",
       "      <th>search_address</th>\n",
       "      <th>bus_id</th>\n",
       "      <th>name</th>\n",
       "      <th>price</th>\n",
       "      <th>cat_1</th>\n",
       "      <th>cat_2</th>\n",
       "      <th>closed</th>\n",
       "      <th>address</th>\n",
       "      <th>city</th>\n",
       "      <th>zip_code</th>\n",
       "      <th>latitude</th>\n",
       "      <th>longitude</th>\n",
       "    </tr>\n",
       "  </thead>\n",
       "  <tbody>\n",
       "    <tr>\n",
       "      <th>puerto-angelito-los-angeles</th>\n",
       "      <td>PUERTO ANGELITO MEXICAN FOOD</td>\n",
       "      <td>4626 AVALON BLVD</td>\n",
       "      <td>puerto-angelito-los-angeles</td>\n",
       "      <td>Puerto Angelito</td>\n",
       "      <td>None</td>\n",
       "      <td>mexican</td>\n",
       "      <td>mexican</td>\n",
       "      <td>False</td>\n",
       "      <td>4626 Avalon Blvd</td>\n",
       "      <td>Los Angeles</td>\n",
       "      <td>90011</td>\n",
       "      <td>34.001254</td>\n",
       "      <td>-118.265125</td>\n",
       "    </tr>\n",
       "    <tr>\n",
       "      <th>moo-greek-yogurt-los-angeles</th>\n",
       "      <td>MOO YOGURT</td>\n",
       "      <td>11753 SAN VICENTE BLVD</td>\n",
       "      <td>moo-greek-yogurt-los-angeles</td>\n",
       "      <td>Moo Greek Yogurt</td>\n",
       "      <td>$</td>\n",
       "      <td>icecream</td>\n",
       "      <td>gelato</td>\n",
       "      <td>False</td>\n",
       "      <td>11753 San Vicente Blvd</td>\n",
       "      <td>Los Angeles</td>\n",
       "      <td>90049</td>\n",
       "      <td>34.053408</td>\n",
       "      <td>-118.467877</td>\n",
       "    </tr>\n",
       "    <tr>\n",
       "      <th>nak-won-restaurant-los-angeles</th>\n",
       "      <td>NAKWON CATERING</td>\n",
       "      <td>4564 W BEVERLY BLVD</td>\n",
       "      <td>nak-won-restaurant-los-angeles</td>\n",
       "      <td>Nak Won Restaurant</td>\n",
       "      <td>None</td>\n",
       "      <td>korean</td>\n",
       "      <td>korean</td>\n",
       "      <td>False</td>\n",
       "      <td>4564 Beverly Blvd</td>\n",
       "      <td>Los Angeles</td>\n",
       "      <td>90004</td>\n",
       "      <td>34.076215</td>\n",
       "      <td>-118.308341</td>\n",
       "    </tr>\n",
       "    <tr>\n",
       "      <th>little-caesars-los-angeles-23</th>\n",
       "      <td>LITTLE CAESARS</td>\n",
       "      <td>5053 E WHITTIER BLVD</td>\n",
       "      <td>little-caesars-los-angeles-23</td>\n",
       "      <td>Little Caesars</td>\n",
       "      <td>$</td>\n",
       "      <td>pizza</td>\n",
       "      <td>pizza</td>\n",
       "      <td>False</td>\n",
       "      <td>5053 Whittier Blvd</td>\n",
       "      <td>Los Angeles</td>\n",
       "      <td>90022</td>\n",
       "      <td>34.021225</td>\n",
       "      <td>-118.160461</td>\n",
       "    </tr>\n",
       "    <tr>\n",
       "      <th>tom-n-toms-los-angeles-12</th>\n",
       "      <td>TOM N TOM</td>\n",
       "      <td>440 S VERMONT AVE</td>\n",
       "      <td>tom-n-toms-los-angeles-12</td>\n",
       "      <td>Tom N Toms</td>\n",
       "      <td>$</td>\n",
       "      <td>cafes</td>\n",
       "      <td>cafes</td>\n",
       "      <td>False</td>\n",
       "      <td>440 S Vermont Ave</td>\n",
       "      <td>Los Angeles</td>\n",
       "      <td>90020</td>\n",
       "      <td>34.065788</td>\n",
       "      <td>-118.291077</td>\n",
       "    </tr>\n",
       "  </tbody>\n",
       "</table>\n",
       "</div>"
      ],
      "text/plain": [
       "                                                 search_name  \\\n",
       "puerto-angelito-los-angeles     PUERTO ANGELITO MEXICAN FOOD   \n",
       "moo-greek-yogurt-los-angeles                      MOO YOGURT   \n",
       "nak-won-restaurant-los-angeles               NAKWON CATERING   \n",
       "little-caesars-los-angeles-23                 LITTLE CAESARS   \n",
       "tom-n-toms-los-angeles-12                          TOM N TOM   \n",
       "\n",
       "                                        search_address  \\\n",
       "puerto-angelito-los-angeles           4626 AVALON BLVD   \n",
       "moo-greek-yogurt-los-angeles    11753 SAN VICENTE BLVD   \n",
       "nak-won-restaurant-los-angeles     4564 W BEVERLY BLVD   \n",
       "little-caesars-los-angeles-23     5053 E WHITTIER BLVD   \n",
       "tom-n-toms-los-angeles-12            440 S VERMONT AVE   \n",
       "\n",
       "                                                        bus_id  \\\n",
       "puerto-angelito-los-angeles        puerto-angelito-los-angeles   \n",
       "moo-greek-yogurt-los-angeles      moo-greek-yogurt-los-angeles   \n",
       "nak-won-restaurant-los-angeles  nak-won-restaurant-los-angeles   \n",
       "little-caesars-los-angeles-23    little-caesars-los-angeles-23   \n",
       "tom-n-toms-los-angeles-12            tom-n-toms-los-angeles-12   \n",
       "\n",
       "                                              name price     cat_1    cat_2  \\\n",
       "puerto-angelito-los-angeles        Puerto Angelito  None   mexican  mexican   \n",
       "moo-greek-yogurt-los-angeles      Moo Greek Yogurt     $  icecream   gelato   \n",
       "nak-won-restaurant-los-angeles  Nak Won Restaurant  None    korean   korean   \n",
       "little-caesars-los-angeles-23       Little Caesars     $     pizza    pizza   \n",
       "tom-n-toms-los-angeles-12               Tom N Toms     $     cafes    cafes   \n",
       "\n",
       "                               closed                 address         city  \\\n",
       "puerto-angelito-los-angeles     False        4626 Avalon Blvd  Los Angeles   \n",
       "moo-greek-yogurt-los-angeles    False  11753 San Vicente Blvd  Los Angeles   \n",
       "nak-won-restaurant-los-angeles  False       4564 Beverly Blvd  Los Angeles   \n",
       "little-caesars-los-angeles-23   False      5053 Whittier Blvd  Los Angeles   \n",
       "tom-n-toms-los-angeles-12       False       440 S Vermont Ave  Los Angeles   \n",
       "\n",
       "                               zip_code   latitude   longitude  \n",
       "puerto-angelito-los-angeles       90011  34.001254 -118.265125  \n",
       "moo-greek-yogurt-los-angeles      90049  34.053408 -118.467877  \n",
       "nak-won-restaurant-los-angeles    90004  34.076215 -118.308341  \n",
       "little-caesars-los-angeles-23     90022  34.021225 -118.160461  \n",
       "tom-n-toms-los-angeles-12         90020  34.065788 -118.291077  "
      ]
     },
     "execution_count": 35,
     "metadata": {},
     "output_type": "execute_result"
    }
   ],
   "source": [
    "mtch_srch_rslts.head()"
   ]
  },
  {
   "cell_type": "code",
   "execution_count": 41,
   "metadata": {
    "collapsed": false,
    "scrolled": true
   },
   "outputs": [],
   "source": [
    "pd.to_pickle(mtch_srch_rslts, 'data/mtch_srch_rslts_pd.pkl')"
   ]
  }
 ],
 "metadata": {
  "anaconda-cloud": {},
  "kernelspec": {
   "display_name": "Python [conda root]",
   "language": "python",
   "name": "conda-root-py"
  },
  "language_info": {
   "codemirror_mode": {
    "name": "ipython",
    "version": 2
   },
   "file_extension": ".py",
   "mimetype": "text/x-python",
   "name": "python",
   "nbconvert_exporter": "python",
   "pygments_lexer": "ipython2",
   "version": "2.7.12"
  }
 },
 "nbformat": 4,
 "nbformat_minor": 1
}
